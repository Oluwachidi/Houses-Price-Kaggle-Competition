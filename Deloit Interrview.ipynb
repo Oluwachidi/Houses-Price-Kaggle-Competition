{
 "cells": [
  {
   "cell_type": "code",
   "execution_count": 1,
   "id": "10ec99ae",
   "metadata": {},
   "outputs": [
    {
     "data": {
      "text/plain": [
       "int"
      ]
     },
     "execution_count": 1,
     "metadata": {},
     "output_type": "execute_result"
    }
   ],
   "source": [
    "n = 5\n",
    "type(n)"
   ]
  },
  {
   "cell_type": "code",
   "execution_count": 3,
   "id": "5d9b5dae",
   "metadata": {},
   "outputs": [],
   "source": [
    "n = 5.1\n",
    "if type(n) == int:\n",
    "    result = n**2\n",
    "    print(result)"
   ]
  },
  {
   "cell_type": "code",
   "execution_count": null,
   "id": "79598017",
   "metadata": {},
   "outputs": [],
   "source": [
    "import sys\n",
    "# import numpy as np\n",
    "# import pandas as pd\n",
    "# from sklearn import ...\n",
    "\n",
    "for line in sys.stdin:\n",
    "    print(line, end=\"\")\n",
    "    if type(n) == int:\n",
    "    result = n**2\n",
    "    print(result)"
   ]
  },
  {
   "cell_type": "code",
   "execution_count": 7,
   "id": "572a8323",
   "metadata": {
    "collapsed": true
   },
   "outputs": [
    {
     "ename": "AttributeError",
     "evalue": "'list' object has no attribute 'replace'",
     "output_type": "error",
     "traceback": [
      "\u001b[0;31m---------------------------------------------------------------------------\u001b[0m",
      "\u001b[0;31mAttributeError\u001b[0m                            Traceback (most recent call last)",
      "\u001b[0;32m/tmp/ipykernel_25688/2113104631.py\u001b[0m in \u001b[0;36m<module>\u001b[0;34m\u001b[0m\n\u001b[1;32m      3\u001b[0m \u001b[0mtext_split\u001b[0m \u001b[0;34m=\u001b[0m \u001b[0mtext\u001b[0m\u001b[0;34m.\u001b[0m\u001b[0msplit\u001b[0m\u001b[0;34m(\u001b[0m\u001b[0;34m)\u001b[0m\u001b[0;34m\u001b[0m\u001b[0;34m\u001b[0m\u001b[0m\n\u001b[1;32m      4\u001b[0m \u001b[0;32mfor\u001b[0m \u001b[0mw\u001b[0m \u001b[0;32min\u001b[0m \u001b[0mtext_split\u001b[0m\u001b[0;34m:\u001b[0m\u001b[0;34m\u001b[0m\u001b[0;34m\u001b[0m\u001b[0m\n\u001b[0;32m----> 5\u001b[0;31m     \u001b[0mtext_split\u001b[0m\u001b[0;34m.\u001b[0m\u001b[0mreplace\u001b[0m\u001b[0;34m(\u001b[0m\u001b[0mtext_split\u001b[0m\u001b[0;34m[\u001b[0m\u001b[0;36m0\u001b[0m\u001b[0;34m]\u001b[0m\u001b[0;34m[\u001b[0m\u001b[0;36m0\u001b[0m\u001b[0;34m]\u001b[0m\u001b[0;34m,\u001b[0m \u001b[0mw\u001b[0m\u001b[0;34m[\u001b[0m\u001b[0;36m0\u001b[0m\u001b[0;34m]\u001b[0m\u001b[0;34m.\u001b[0m\u001b[0mcapitalize\u001b[0m\u001b[0;34m(\u001b[0m\u001b[0;34m)\u001b[0m\u001b[0;34m)\u001b[0m\u001b[0;34m\u001b[0m\u001b[0;34m\u001b[0m\u001b[0m\n\u001b[0m\u001b[1;32m      6\u001b[0m \u001b[0mtext_split\u001b[0m\u001b[0;34m\u001b[0m\u001b[0;34m\u001b[0m\u001b[0m\n",
      "\u001b[0;31mAttributeError\u001b[0m: 'list' object has no attribute 'replace'"
     ]
    }
   ],
   "source": [
    "text = 'We are the world'\n",
    "\n",
    "text_split = text.split()\n",
    "for w in text_split:\n",
    "    text_split.replace(text_split[0][0], w[0].capitalize())\n",
    "text_split"
   ]
  },
  {
   "cell_type": "code",
   "execution_count": 9,
   "id": "ada3d8e3",
   "metadata": {},
   "outputs": [
    {
     "name": "stdout",
     "output_type": "stream",
     "text": [
      "The original string is : We are the world\n",
      "The alternate case string is : We aRe tHe wOrLd\n"
     ]
    }
   ],
   "source": [
    "test_str = \"We are the world\"\n",
    " \n",
    "# printing original string\n",
    "print(\"The original string is : \" + str(test_str))\n",
    " \n",
    "# Using upper() + lower() + loop\n",
    "# Alternate cases in String\n",
    "res = \"\"\n",
    "for idx in range(len(test_str)):\n",
    "    if not idx % 2 :\n",
    "       res = res + test_str[idx].upper()\n",
    "    else:\n",
    "       res = res + test_str[idx].lower()\n",
    " \n",
    "# printing result\n",
    "print(\"The alternate case string is : \" + str(res))"
   ]
  },
  {
   "cell_type": "code",
   "execution_count": 15,
   "id": "6f6598f6",
   "metadata": {},
   "outputs": [
    {
     "name": "stdout",
     "output_type": "stream",
     "text": [
      "0\n"
     ]
    }
   ],
   "source": [
    "arr = [5,0,1,2,3,0]\n",
    "a = arr[1:]\n",
    "\n",
    "def Repeating_nos(arr):\n",
    "    for i in a:\n",
    "        if a.count(a[i]) > 1:\n",
    "            return a[i]\n",
    "print(Repeating_nos(arr))"
   ]
  },
  {
   "cell_type": "code",
   "execution_count": 14,
   "id": "fcc91148",
   "metadata": {},
   "outputs": [
    {
     "data": {
      "text/plain": [
       "[0, 1, 2, 3, 0]"
      ]
     },
     "execution_count": 14,
     "metadata": {},
     "output_type": "execute_result"
    }
   ],
   "source": [
    "arr[1:]"
   ]
  },
  {
   "cell_type": "code",
   "execution_count": 17,
   "id": "6b39e54a",
   "metadata": {},
   "outputs": [
    {
     "name": "stdout",
     "output_type": "stream",
     "text": [
      "YES\n"
     ]
    }
   ],
   "source": [
    "def is_Balanced(message):\n",
    "    minOpen = 0\n",
    "    maxOpen = 0\n",
    "\n",
    "    for i in range(len(message)):\n",
    "\n",
    "        if message[i] == '(':\n",
    "            maxOpen += 1\n",
    "\n",
    "            if i == 0 or message[i-1] != ':':\n",
    "                minOpen += 1\n",
    "\n",
    "        elif message[i] == ')':\n",
    "\n",
    "            minOpen = max(0, minOpen-1)\n",
    "\n",
    "            if i == 0 or message[i-1] != ':':\n",
    "\n",
    "                maxOpen -= 1\n",
    "\n",
    "                if maxOpen < 0:\n",
    "\n",
    "                    break\n",
    "\n",
    "\n",
    "\n",
    "    if maxOpen >= 0 and minOpen == 0:\n",
    "\n",
    "        return \"YES\"\n",
    "\n",
    "    else:\n",
    "\n",
    "        return \"NO\"\n",
    "\n",
    "message = 'i am sick today (:()'\n",
    "print(is_Balanced(message))"
   ]
  }
 ],
 "metadata": {
  "kernelspec": {
   "display_name": "Python 3 (ipykernel)",
   "language": "python",
   "name": "python3"
  },
  "language_info": {
   "codemirror_mode": {
    "name": "ipython",
    "version": 3
   },
   "file_extension": ".py",
   "mimetype": "text/x-python",
   "name": "python",
   "nbconvert_exporter": "python",
   "pygments_lexer": "ipython3",
   "version": "3.8.6"
  },
  "toc": {
   "base_numbering": 1,
   "nav_menu": {},
   "number_sections": true,
   "sideBar": true,
   "skip_h1_title": false,
   "title_cell": "Table of Contents",
   "title_sidebar": "Contents",
   "toc_cell": false,
   "toc_position": {},
   "toc_section_display": true,
   "toc_window_display": false
  }
 },
 "nbformat": 4,
 "nbformat_minor": 5
}
