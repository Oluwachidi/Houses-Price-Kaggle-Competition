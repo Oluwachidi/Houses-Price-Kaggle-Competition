{
 "cells": [
  {
   "cell_type": "code",
   "execution_count": 1,
   "metadata": {
    "ExecuteTime": {
     "end_time": "2021-02-03T08:28:54.927307Z",
     "start_time": "2021-02-03T08:28:52.939178Z"
    }
   },
   "outputs": [],
   "source": [
    "import pandas as pd\n",
    "import numpy as np\n",
    "import matplotlib.pyplot as plt\n",
    "import seaborn as sns\n",
    "from sklearn import set_config; set_config( display='diagram')"
   ]
  },
  {
   "cell_type": "code",
   "execution_count": 2,
   "metadata": {
    "ExecuteTime": {
     "end_time": "2021-02-03T08:29:40.887551Z",
     "start_time": "2021-02-03T08:29:40.717826Z"
    },
    "scrolled": true
   },
   "outputs": [
    {
     "name": "stderr",
     "output_type": "stream",
     "text": [
      "2022-02-01 19:50:26.769538: W tensorflow/stream_executor/platform/default/dso_loader.cc:64] Could not load dynamic library 'libcudart.so.11.0'; dlerror: libcudart.so.11.0: cannot open shared object file: No such file or directory\n",
      "2022-02-01 19:50:26.769642: I tensorflow/stream_executor/cuda/cudart_stub.cc:29] Ignore above cudart dlerror if you do not have a GPU set up on your machine.\n"
     ]
    }
   ],
   "source": [
    "# Use this cell to regroup all your imports\n",
    "\n",
    "from scipy import stats\n",
    "\n",
    "# sklearn preproc\n",
    "from sklearn.model_selection import train_test_split\n",
    "from sklearn.preprocessing import MinMaxScaler, StandardScaler\n",
    "from sklearn.pipeline import Pipeline, make_pipeline\n",
    "from sklearn.compose import ColumnTransformer, make_column_transformer, make_column_selector\n",
    "from sklearn.impute import SimpleImputer, KNNImputer\n",
    "from sklearn.preprocessing import RobustScaler, OneHotEncoder, OrdinalEncoder\n",
    "from sklearn.metrics import make_scorer\n",
    "\n",
    "from sklearn.model_selection import cross_val_score\n",
    "from sklearn.neighbors import KNeighborsRegressor\n",
    "from sklearn.linear_model import Ridge, Lasso, LinearRegression, SGDRegressor\n",
    "from sklearn.model_selection import RandomizedSearchCV\n",
    "from sklearn.svm import SVR\n",
    "from sklearn.model_selection import GridSearchCV, RandomizedSearchCV\n",
    "from sklearn.ensemble import AdaBoostRegressor\n",
    "from sklearn.tree import DecisionTreeRegressor\n",
    "from sklearn.ensemble import VotingRegressor\n",
    "from sklearn.ensemble import GradientBoostingRegressor\n",
    "from sklearn.ensemble import StackingRegressor\n",
    "from sklearn.ensemble import RandomForestRegressor\n",
    "\n",
    "# tensorflow\n",
    "from tensorflow.keras import Sequential, layers"
   ]
  },
  {
   "cell_type": "markdown",
   "metadata": {},
   "source": [
    "# Load"
   ]
  },
  {
   "cell_type": "markdown",
   "metadata": {},
   "source": [
    "❓ Load the train dataset in a DataFrame `data` and create your `X` and `y`. Inspect their shape"
   ]
  },
  {
   "cell_type": "code",
   "execution_count": 3,
   "metadata": {
    "ExecuteTime": {
     "end_time": "2021-02-03T08:28:55.731767Z",
     "start_time": "2021-02-03T08:28:55.316322Z"
    }
   },
   "outputs": [
    {
     "data": {
      "text/html": [
       "<div>\n",
       "<style scoped>\n",
       "    .dataframe tbody tr th:only-of-type {\n",
       "        vertical-align: middle;\n",
       "    }\n",
       "\n",
       "    .dataframe tbody tr th {\n",
       "        vertical-align: top;\n",
       "    }\n",
       "\n",
       "    .dataframe thead th {\n",
       "        text-align: right;\n",
       "    }\n",
       "</style>\n",
       "<table border=\"1\" class=\"dataframe\">\n",
       "  <thead>\n",
       "    <tr style=\"text-align: right;\">\n",
       "      <th></th>\n",
       "      <th>Id</th>\n",
       "      <th>MSSubClass</th>\n",
       "      <th>MSZoning</th>\n",
       "      <th>LotFrontage</th>\n",
       "      <th>LotArea</th>\n",
       "      <th>Street</th>\n",
       "      <th>Alley</th>\n",
       "      <th>LotShape</th>\n",
       "      <th>LandContour</th>\n",
       "      <th>Utilities</th>\n",
       "      <th>...</th>\n",
       "      <th>PoolArea</th>\n",
       "      <th>PoolQC</th>\n",
       "      <th>Fence</th>\n",
       "      <th>MiscFeature</th>\n",
       "      <th>MiscVal</th>\n",
       "      <th>MoSold</th>\n",
       "      <th>YrSold</th>\n",
       "      <th>SaleType</th>\n",
       "      <th>SaleCondition</th>\n",
       "      <th>SalePrice</th>\n",
       "    </tr>\n",
       "  </thead>\n",
       "  <tbody>\n",
       "    <tr>\n",
       "      <th>0</th>\n",
       "      <td>1</td>\n",
       "      <td>60</td>\n",
       "      <td>RL</td>\n",
       "      <td>65.0</td>\n",
       "      <td>8450</td>\n",
       "      <td>Pave</td>\n",
       "      <td>NaN</td>\n",
       "      <td>Reg</td>\n",
       "      <td>Lvl</td>\n",
       "      <td>AllPub</td>\n",
       "      <td>...</td>\n",
       "      <td>0</td>\n",
       "      <td>NaN</td>\n",
       "      <td>NaN</td>\n",
       "      <td>NaN</td>\n",
       "      <td>0</td>\n",
       "      <td>2</td>\n",
       "      <td>2008</td>\n",
       "      <td>WD</td>\n",
       "      <td>Normal</td>\n",
       "      <td>208500</td>\n",
       "    </tr>\n",
       "    <tr>\n",
       "      <th>1</th>\n",
       "      <td>2</td>\n",
       "      <td>20</td>\n",
       "      <td>RL</td>\n",
       "      <td>80.0</td>\n",
       "      <td>9600</td>\n",
       "      <td>Pave</td>\n",
       "      <td>NaN</td>\n",
       "      <td>Reg</td>\n",
       "      <td>Lvl</td>\n",
       "      <td>AllPub</td>\n",
       "      <td>...</td>\n",
       "      <td>0</td>\n",
       "      <td>NaN</td>\n",
       "      <td>NaN</td>\n",
       "      <td>NaN</td>\n",
       "      <td>0</td>\n",
       "      <td>5</td>\n",
       "      <td>2007</td>\n",
       "      <td>WD</td>\n",
       "      <td>Normal</td>\n",
       "      <td>181500</td>\n",
       "    </tr>\n",
       "    <tr>\n",
       "      <th>2</th>\n",
       "      <td>3</td>\n",
       "      <td>60</td>\n",
       "      <td>RL</td>\n",
       "      <td>68.0</td>\n",
       "      <td>11250</td>\n",
       "      <td>Pave</td>\n",
       "      <td>NaN</td>\n",
       "      <td>IR1</td>\n",
       "      <td>Lvl</td>\n",
       "      <td>AllPub</td>\n",
       "      <td>...</td>\n",
       "      <td>0</td>\n",
       "      <td>NaN</td>\n",
       "      <td>NaN</td>\n",
       "      <td>NaN</td>\n",
       "      <td>0</td>\n",
       "      <td>9</td>\n",
       "      <td>2008</td>\n",
       "      <td>WD</td>\n",
       "      <td>Normal</td>\n",
       "      <td>223500</td>\n",
       "    </tr>\n",
       "    <tr>\n",
       "      <th>3</th>\n",
       "      <td>4</td>\n",
       "      <td>70</td>\n",
       "      <td>RL</td>\n",
       "      <td>60.0</td>\n",
       "      <td>9550</td>\n",
       "      <td>Pave</td>\n",
       "      <td>NaN</td>\n",
       "      <td>IR1</td>\n",
       "      <td>Lvl</td>\n",
       "      <td>AllPub</td>\n",
       "      <td>...</td>\n",
       "      <td>0</td>\n",
       "      <td>NaN</td>\n",
       "      <td>NaN</td>\n",
       "      <td>NaN</td>\n",
       "      <td>0</td>\n",
       "      <td>2</td>\n",
       "      <td>2006</td>\n",
       "      <td>WD</td>\n",
       "      <td>Abnorml</td>\n",
       "      <td>140000</td>\n",
       "    </tr>\n",
       "    <tr>\n",
       "      <th>4</th>\n",
       "      <td>5</td>\n",
       "      <td>60</td>\n",
       "      <td>RL</td>\n",
       "      <td>84.0</td>\n",
       "      <td>14260</td>\n",
       "      <td>Pave</td>\n",
       "      <td>NaN</td>\n",
       "      <td>IR1</td>\n",
       "      <td>Lvl</td>\n",
       "      <td>AllPub</td>\n",
       "      <td>...</td>\n",
       "      <td>0</td>\n",
       "      <td>NaN</td>\n",
       "      <td>NaN</td>\n",
       "      <td>NaN</td>\n",
       "      <td>0</td>\n",
       "      <td>12</td>\n",
       "      <td>2008</td>\n",
       "      <td>WD</td>\n",
       "      <td>Normal</td>\n",
       "      <td>250000</td>\n",
       "    </tr>\n",
       "  </tbody>\n",
       "</table>\n",
       "<p>5 rows × 81 columns</p>\n",
       "</div>"
      ],
      "text/plain": [
       "   Id  MSSubClass MSZoning  LotFrontage  LotArea Street Alley LotShape  \\\n",
       "0   1          60       RL         65.0     8450   Pave   NaN      Reg   \n",
       "1   2          20       RL         80.0     9600   Pave   NaN      Reg   \n",
       "2   3          60       RL         68.0    11250   Pave   NaN      IR1   \n",
       "3   4          70       RL         60.0     9550   Pave   NaN      IR1   \n",
       "4   5          60       RL         84.0    14260   Pave   NaN      IR1   \n",
       "\n",
       "  LandContour Utilities  ... PoolArea PoolQC Fence MiscFeature MiscVal MoSold  \\\n",
       "0         Lvl    AllPub  ...        0    NaN   NaN         NaN       0      2   \n",
       "1         Lvl    AllPub  ...        0    NaN   NaN         NaN       0      5   \n",
       "2         Lvl    AllPub  ...        0    NaN   NaN         NaN       0      9   \n",
       "3         Lvl    AllPub  ...        0    NaN   NaN         NaN       0      2   \n",
       "4         Lvl    AllPub  ...        0    NaN   NaN         NaN       0     12   \n",
       "\n",
       "  YrSold  SaleType  SaleCondition  SalePrice  \n",
       "0   2008        WD         Normal     208500  \n",
       "1   2007        WD         Normal     181500  \n",
       "2   2008        WD         Normal     223500  \n",
       "3   2006        WD        Abnorml     140000  \n",
       "4   2008        WD         Normal     250000  \n",
       "\n",
       "[5 rows x 81 columns]"
      ]
     },
     "execution_count": 3,
     "metadata": {},
     "output_type": "execute_result"
    }
   ],
   "source": [
    "# You can use this direct download link if you don't want to create a Kaggle account\n",
    "data = pd.read_csv(\"https://wagon-public-datasets.s3.amazonaws.com/houses_train_raw.csv\")\n",
    "data.head()"
   ]
  },
  {
   "cell_type": "code",
   "execution_count": 4,
   "metadata": {
    "ExecuteTime": {
     "end_time": "2021-02-03T08:28:56.210320Z",
     "start_time": "2021-02-03T08:28:56.204853Z"
    }
   },
   "outputs": [
    {
     "data": {
      "text/plain": [
       "(1460, 79)"
      ]
     },
     "execution_count": 4,
     "metadata": {},
     "output_type": "execute_result"
    }
   ],
   "source": [
    "X = data.drop(columns=['SalePrice', \"Id\"])\n",
    "y = data[\"SalePrice\"]\n",
    "X.shape"
   ]
  },
  {
   "cell_type": "markdown",
   "metadata": {},
   "source": [
    "# 🐣 BASELINE"
   ]
  },
  {
   "cell_type": "markdown",
   "metadata": {},
   "source": [
    "## Initial feature overview"
   ]
  },
  {
   "cell_type": "markdown",
   "metadata": {},
   "source": [
    "80 features is too much to deal with one-by-one for a first baseline pipeline! Let's treat them solely based on their `dtype`:\n",
    "\n",
    "❓ How many numerical features vs. categorical features do we have? "
   ]
  },
  {
   "cell_type": "code",
   "execution_count": 5,
   "metadata": {},
   "outputs": [
    {
     "data": {
      "text/plain": [
       "object     43\n",
       "int64      33\n",
       "float64     3\n",
       "dtype: int64"
      ]
     },
     "execution_count": 5,
     "metadata": {},
     "output_type": "execute_result"
    }
   ],
   "source": [
    "X.dtypes.value_counts()"
   ]
  },
  {
   "cell_type": "markdown",
   "metadata": {},
   "source": [
    "❓ Store the Series `feat_categorical_nunique` containing the number of **unique values** for each categorical feature in our training set. How many unique categories are there in total ?"
   ]
  },
  {
   "cell_type": "code",
   "execution_count": 6,
   "metadata": {},
   "outputs": [
    {
     "data": {
      "text/plain": [
       "252"
      ]
     },
     "execution_count": 6,
     "metadata": {},
     "output_type": "execute_result"
    }
   ],
   "source": [
    "feat_categorical_nunique = X.select_dtypes(include=\"object\").nunique()\n",
    "feat_categorical_nunique.sum()"
   ]
  },
  {
   "cell_type": "markdown",
   "metadata": {},
   "source": [
    "🤔 If we were to `OneHotEncode` all categorical features, our feature matrix `X_preproc` would become pretty big and spare, with almost 300 (highly correlated) features for only 1400 observations. Ideally, we should aim at feeding our model with 50-100 features max (📚 Read this [rule of thumb](https://datascience.stackexchange.com/a/11480/98300))"
   ]
  },
  {
   "cell_type": "markdown",
   "metadata": {},
   "source": [
    "There are 2 main strategies to reduce the number of categorical features post-preprocessing:\n",
    "- **[Remove](https://scikit-learn.org/stable/modules/classes.html#module-sklearn.feature_selection)** features that bring too little explanation to our model. This may require statistical analysis of feature importance \n",
    "- **[Ordinally encode](https://scikit-learn.org/stable/modules/generated/sklearn.preprocessing.OrdinalEncoder.html)** (instead of one-hot-encode) categorical features into integers. However this forces a notion of \"order\" (1>2>3...) that can be detrimental if not set properly!"
   ]
  },
  {
   "cell_type": "markdown",
   "metadata": {},
   "source": [
    "❓ Plot the **histogram** of number of unique value per categorical feature. Do you see some quick wins?"
   ]
  },
  {
   "cell_type": "code",
   "execution_count": 7,
   "metadata": {
    "ExecuteTime": {
     "end_time": "2021-02-03T08:29:02.706410Z",
     "start_time": "2021-02-03T08:29:02.540040Z"
    }
   },
   "outputs": [
    {
     "data": {
      "text/plain": [
       "<AxesSubplot:>"
      ]
     },
     "execution_count": 7,
     "metadata": {},
     "output_type": "execute_result"
    },
    {
     "data": {
      "image/png": "[encoded data removed]",
      "text/plain": [
       "<Figure size 432x288 with 1 Axes>"
      ]
     },
     "metadata": {
      "needs_background": "light"
     },
     "output_type": "display_data"
    }
   ],
   "source": [
    "feat_categorical_nunique.hist()"
   ]
  },
  {
   "cell_type": "markdown",
   "metadata": {},
   "source": [
    "💡 As a starter, what about simply removing all features that have **7 unique values or more**, and one-hot-encode every others? Let's keep ordinal encoding and statistical feature selection for the next iteration.\n",
    "\n",
    "❓ Store features to OHE in a list `feat_categorical_small` below. How many features will be OHE?"
   ]
  },
  {
   "cell_type": "code",
   "execution_count": 8,
   "metadata": {},
   "outputs": [],
   "source": [
    "feat_categorical_small = [c for c, v in feat_categorical_nunique.iteritems() \n",
    "                          if v < 7]"
   ]
  },
  {
   "cell_type": "code",
   "execution_count": 9,
   "metadata": {},
   "outputs": [
    {
     "data": {
      "text/plain": [
       "34"
      ]
     },
     "execution_count": 9,
     "metadata": {},
     "output_type": "execute_result"
    }
   ],
   "source": [
    "len(feat_categorical_small)"
   ]
  },
  {
   "cell_type": "code",
   "execution_count": 10,
   "metadata": {},
   "outputs": [],
   "source": [
    "# feat_categorical_small = list(feat_categorical_nunique[feat_categorical_nunique < 7].index)\n",
    "# len(feat_categorical_small)"
   ]
  },
  {
   "cell_type": "markdown",
   "metadata": {},
   "source": [
    "🧪 Test your code below (and clear the cell once it passed)"
   ]
  },
  {
   "cell_type": "markdown",
   "metadata": {},
   "source": [
    "## Preprocessing pipeline - V1 minimal baseline"
   ]
  },
  {
   "cell_type": "markdown",
   "metadata": {},
   "source": [
    "---\n",
    "❓ Let's code the basic preprocessing pipeline described below. Save it under `preproc_baseline`.\n",
    "\n",
    "For categorical features\n",
    "- Simple-Impute with most frequent values\n",
    "- One-Hot-Encode features that have less than 7 unique values to start with\n",
    "- Drop all others features\n",
    "\n",
    "\n",
    "As for numerical features\n",
    "- Simple-Impute with strategy 'mean'\n",
    "- Min-Max Scale \n",
    "\n",
    "\n",
    "<details>\n",
    "    <summary>ℹ️ Pro tips</summary>\n",
    "\n",
    "If you are confident, you can try sklearn's shorter syntax `make_pipeline` or `make_column_transformer` instead of the longer syntax `Pipeline` or `ColumnTransformer` if you want to avoid giving names manually to every steps.\n",
    "</details>"
   ]
  },
  {
   "cell_type": "code",
   "execution_count": 11,
   "metadata": {},
   "outputs": [
    {
     "data": {
      "text/html": [
       "<style>#sk-f4739dc5-9df0-45de-8240-4d39d28a1281 {color: black;background-color: white;}#sk-f4739dc5-9df0-45de-8240-4d39d28a1281 pre{padding: 0;}#sk-f4739dc5-9df0-45de-8240-4d39d28a1281 div.sk-toggleable {background-color: white;}#sk-f4739dc5-9df0-45de-8240-4d39d28a1281 label.sk-toggleable__label {cursor: pointer;display: block;width: 100%;margin-bottom: 0;padding: 0.3em;box-sizing: border-box;text-align: center;}#sk-f4739dc5-9df0-45de-8240-4d39d28a1281 div.sk-toggleable__content {max-height: 0;max-width: 0;overflow: hidden;text-align: left;background-color: #f0f8ff;}#sk-f4739dc5-9df0-45de-8240-4d39d28a1281 div.sk-toggleable__content pre {margin: 0.2em;color: black;border-radius: 0.25em;background-color: #f0f8ff;}#sk-f4739dc5-9df0-45de-8240-4d39d28a1281 input.sk-toggleable__control:checked~div.sk-toggleable__content {max-height: 200px;max-width: 100%;overflow: auto;}#sk-f4739dc5-9df0-45de-8240-4d39d28a1281 div.sk-estimator input.sk-toggleable__control:checked~label.sk-toggleable__label {background-color: #d4ebff;}#sk-f4739dc5-9df0-45de-8240-4d39d28a1281 div.sk-label input.sk-toggleable__control:checked~label.sk-toggleable__label {background-color: #d4ebff;}#sk-f4739dc5-9df0-45de-8240-4d39d28a1281 input.sk-hidden--visually {border: 0;clip: rect(1px 1px 1px 1px);clip: rect(1px, 1px, 1px, 1px);height: 1px;margin: -1px;overflow: hidden;padding: 0;position: absolute;width: 1px;}#sk-f4739dc5-9df0-45de-8240-4d39d28a1281 div.sk-estimator {font-family: monospace;background-color: #f0f8ff;border: 1px dotted black;border-radius: 0.25em;box-sizing: border-box;margin-bottom: 0.5em;}#sk-f4739dc5-9df0-45de-8240-4d39d28a1281 div.sk-estimator:hover {background-color: #d4ebff;}#sk-f4739dc5-9df0-45de-8240-4d39d28a1281 div.sk-parallel-item::after {content: \"\";width: 100%;border-bottom: 1px solid gray;flex-grow: 1;}#sk-f4739dc5-9df0-45de-8240-4d39d28a1281 div.sk-label:hover label.sk-toggleable__label {background-color: #d4ebff;}#sk-f4739dc5-9df0-45de-8240-4d39d28a1281 div.sk-serial::before {content: \"\";position: absolute;border-left: 1px solid gray;box-sizing: border-box;top: 2em;bottom: 0;left: 50%;}#sk-f4739dc5-9df0-45de-8240-4d39d28a1281 div.sk-serial {display: flex;flex-direction: column;align-items: center;background-color: white;padding-right: 0.2em;padding-left: 0.2em;}#sk-f4739dc5-9df0-45de-8240-4d39d28a1281 div.sk-item {z-index: 1;}#sk-f4739dc5-9df0-45de-8240-4d39d28a1281 div.sk-parallel {display: flex;align-items: stretch;justify-content: center;background-color: white;}#sk-f4739dc5-9df0-45de-8240-4d39d28a1281 div.sk-parallel::before {content: \"\";position: absolute;border-left: 1px solid gray;box-sizing: border-box;top: 2em;bottom: 0;left: 50%;}#sk-f4739dc5-9df0-45de-8240-4d39d28a1281 div.sk-parallel-item {display: flex;flex-direction: column;position: relative;background-color: white;}#sk-f4739dc5-9df0-45de-8240-4d39d28a1281 div.sk-parallel-item:first-child::after {align-self: flex-end;width: 50%;}#sk-f4739dc5-9df0-45de-8240-4d39d28a1281 div.sk-parallel-item:last-child::after {align-self: flex-start;width: 50%;}#sk-f4739dc5-9df0-45de-8240-4d39d28a1281 div.sk-parallel-item:only-child::after {width: 0;}#sk-f4739dc5-9df0-45de-8240-4d39d28a1281 div.sk-dashed-wrapped {border: 1px dashed gray;margin: 0 0.4em 0.5em 0.4em;box-sizing: border-box;padding-bottom: 0.4em;background-color: white;position: relative;}#sk-f4739dc5-9df0-45de-8240-4d39d28a1281 div.sk-label label {font-family: monospace;font-weight: bold;background-color: white;display: inline-block;line-height: 1.2em;}#sk-f4739dc5-9df0-45de-8240-4d39d28a1281 div.sk-label-container {position: relative;z-index: 2;text-align: center;}#sk-f4739dc5-9df0-45de-8240-4d39d28a1281 div.sk-container {display: inline-block;position: relative;}</style><div id=\"sk-f4739dc5-9df0-45de-8240-4d39d28a1281\" class\"sk-top-container\"><div class=\"sk-container\"><div class=\"sk-item sk-dashed-wrapped\"><div class=\"sk-label-container\"><div class=\"sk-label sk-toggleable\"><input class=\"sk-toggleable__control sk-hidden--visually\" id=\"94246450-41ff-43ee-95a7-98a712c5eb40\" type=\"checkbox\" ><label class=\"sk-toggleable__label\" for=\"94246450-41ff-43ee-95a7-98a712c5eb40\">ColumnTransformer</label><div class=\"sk-toggleable__content\"><pre>ColumnTransformer(transformers=[('pipeline-1',\n",
       "                                 Pipeline(steps=[('simpleimputer',\n",
       "                                                  SimpleImputer()),\n",
       "                                                 ('minmaxscaler',\n",
       "                                                  MinMaxScaler())]),\n",
       "                                 <sklearn.compose._column_transformer.make_column_selector object at 0x7fa10225df10>),\n",
       "                                ('pipeline-2',\n",
       "                                 Pipeline(steps=[('simpleimputer',\n",
       "                                                  SimpleImputer(strategy='most_frequent')),\n",
       "                                                 ('onehotencoder',\n",
       "                                                  OneHotEncoder(handle_unknown='ign...\n",
       "                                 ['MSZoning', 'Street', 'Alley', 'LotShape',\n",
       "                                  'LandContour', 'Utilities', 'LotConfig',\n",
       "                                  'LandSlope', 'BldgType', 'RoofStyle',\n",
       "                                  'MasVnrType', 'ExterQual', 'ExterCond',\n",
       "                                  'Foundation', 'BsmtQual', 'BsmtCond',\n",
       "                                  'BsmtExposure', 'BsmtFinType1',\n",
       "                                  'BsmtFinType2', 'Heating', 'HeatingQC',\n",
       "                                  'CentralAir', 'Electrical', 'KitchenQual',\n",
       "                                  'FireplaceQu', 'GarageType', 'GarageFinish',\n",
       "                                  'GarageQual', 'GarageCond', 'PavedDrive', ...])])</pre></div></div></div><div class=\"sk-parallel\"><div class=\"sk-parallel-item\"><div class=\"sk-item\"><div class=\"sk-label-container\"><div class=\"sk-label sk-toggleable\"><input class=\"sk-toggleable__control sk-hidden--visually\" id=\"dd99b888-996f-445b-bef0-1c3bc362629c\" type=\"checkbox\" ><label class=\"sk-toggleable__label\" for=\"dd99b888-996f-445b-bef0-1c3bc362629c\">pipeline-1</label><div class=\"sk-toggleable__content\"><pre><sklearn.compose._column_transformer.make_column_selector object at 0x7fa10225df10></pre></div></div></div><div class=\"sk-serial\"><div class=\"sk-item\"><div class=\"sk-serial\"><div class=\"sk-item\"><div class=\"sk-estimator sk-toggleable\"><input class=\"sk-toggleable__control sk-hidden--visually\" id=\"0bd5662c-aabd-4ce9-92d9-9c36b3ec9fe8\" type=\"checkbox\" ><label class=\"sk-toggleable__label\" for=\"0bd5662c-aabd-4ce9-92d9-9c36b3ec9fe8\">SimpleImputer</label><div class=\"sk-toggleable__content\"><pre>SimpleImputer()</pre></div></div></div><div class=\"sk-item\"><div class=\"sk-estimator sk-toggleable\"><input class=\"sk-toggleable__control sk-hidden--visually\" id=\"e9cbf017-af3a-4ca4-ad78-facc0c3a5bcc\" type=\"checkbox\" ><label class=\"sk-toggleable__label\" for=\"e9cbf017-af3a-4ca4-ad78-facc0c3a5bcc\">MinMaxScaler</label><div class=\"sk-toggleable__content\"><pre>MinMaxScaler()</pre></div></div></div></div></div></div></div></div><div class=\"sk-parallel-item\"><div class=\"sk-item\"><div class=\"sk-label-container\"><div class=\"sk-label sk-toggleable\"><input class=\"sk-toggleable__control sk-hidden--visually\" id=\"42852aff-c9d8-460c-80b5-827951a83cc0\" type=\"checkbox\" ><label class=\"sk-toggleable__label\" for=\"42852aff-c9d8-460c-80b5-827951a83cc0\">pipeline-2</label><div class=\"sk-toggleable__content\"><pre>['MSZoning', 'Street', 'Alley', 'LotShape', 'LandContour', 'Utilities', 'LotConfig', 'LandSlope', 'BldgType', 'RoofStyle', 'MasVnrType', 'ExterQual', 'ExterCond', 'Foundation', 'BsmtQual', 'BsmtCond', 'BsmtExposure', 'BsmtFinType1', 'BsmtFinType2', 'Heating', 'HeatingQC', 'CentralAir', 'Electrical', 'KitchenQual', 'FireplaceQu', 'GarageType', 'GarageFinish', 'GarageQual', 'GarageCond', 'PavedDrive', 'PoolQC', 'Fence', 'MiscFeature', 'SaleCondition']</pre></div></div></div><div class=\"sk-serial\"><div class=\"sk-item\"><div class=\"sk-serial\"><div class=\"sk-item\"><div class=\"sk-estimator sk-toggleable\"><input class=\"sk-toggleable__control sk-hidden--visually\" id=\"9c6f8b85-5bc4-474b-b3dd-5b4928288996\" type=\"checkbox\" ><label class=\"sk-toggleable__label\" for=\"9c6f8b85-5bc4-474b-b3dd-5b4928288996\">SimpleImputer</label><div class=\"sk-toggleable__content\"><pre>SimpleImputer(strategy='most_frequent')</pre></div></div></div><div class=\"sk-item\"><div class=\"sk-estimator sk-toggleable\"><input class=\"sk-toggleable__control sk-hidden--visually\" id=\"f675737e-1daa-432e-a4bb-b07ac5737130\" type=\"checkbox\" ><label class=\"sk-toggleable__label\" for=\"f675737e-1daa-432e-a4bb-b07ac5737130\">OneHotEncoder</label><div class=\"sk-toggleable__content\"><pre>OneHotEncoder(handle_unknown='ignore')</pre></div></div></div></div></div></div></div></div></div></div></div></div>"
      ],
      "text/plain": [
       "ColumnTransformer(transformers=[('pipeline-1',\n",
       "                                 Pipeline(steps=[('simpleimputer',\n",
       "                                                  SimpleImputer()),\n",
       "                                                 ('minmaxscaler',\n",
       "                                                  MinMaxScaler())]),\n",
       "                                 <sklearn.compose._column_transformer.make_column_selector object at 0x7fa10225df10>),\n",
       "                                ('pipeline-2',\n",
       "                                 Pipeline(steps=[('simpleimputer',\n",
       "                                                  SimpleImputer(strategy='most_frequent')),\n",
       "                                                 ('onehotencoder',\n",
       "                                                  OneHotEncoder(handle_unknown='ign...\n",
       "                                 ['MSZoning', 'Street', 'Alley', 'LotShape',\n",
       "                                  'LandContour', 'Utilities', 'LotConfig',\n",
       "                                  'LandSlope', 'BldgType', 'RoofStyle',\n",
       "                                  'MasVnrType', 'ExterQual', 'ExterCond',\n",
       "                                  'Foundation', 'BsmtQual', 'BsmtCond',\n",
       "                                  'BsmtExposure', 'BsmtFinType1',\n",
       "                                  'BsmtFinType2', 'Heating', 'HeatingQC',\n",
       "                                  'CentralAir', 'Electrical', 'KitchenQual',\n",
       "                                  'FireplaceQu', 'GarageType', 'GarageFinish',\n",
       "                                  'GarageQual', 'GarageCond', 'PavedDrive', ...])])"
      ]
     },
     "execution_count": 11,
     "metadata": {},
     "output_type": "execute_result"
    }
   ],
   "source": [
    "# make a Column Transformer made of 2 pipelines (1 for OHE, 1 for numerical)\n",
    "\n",
    "num_tr = make_pipeline(\n",
    "    SimpleImputer(strategy='mean'),\n",
    "    MinMaxScaler())\n",
    "\n",
    "cat_tr = make_pipeline(\n",
    "    SimpleImputer(strategy='most_frequent'),\n",
    "    OneHotEncoder(handle_unknown='ignore'))\n",
    "\n",
    "preproc_baseline = make_column_transformer(\n",
    "    (num_tr, make_column_selector(dtype_include=['int64', 'float64'])),\n",
    "    (cat_tr, feat_categorical_small),\n",
    "    remainder='drop')\n",
    "\n",
    "preproc_baseline"
   ]
  },
  {
   "cell_type": "code",
   "execution_count": 12,
   "metadata": {},
   "outputs": [],
   "source": [
    "# # We need a Column Transformer made of 2 pipelines (1 for OHE, 1 for numerical)\n",
    "\n",
    "# preproc_numerical_baseline = make_pipeline(\n",
    "#             SimpleImputer(), \n",
    "#             MinMaxScaler())\n",
    "\n",
    "# preproc_categorical_baseline = make_pipeline(\n",
    "#           SimpleImputer(strategy='most_frequent'),\n",
    "#           OneHotEncoder(handle_unknown='ignore'))\n",
    "\n",
    "# preproc_baseline = make_column_transformer(\n",
    "#          (preproc_numerical_baseline, make_column_selector(dtype_include=[\"int64\", \"float64\"])),\n",
    "#          (preproc_categorical_baseline, feat_categorical_small),\n",
    "#          remainder=\"drop\")\n",
    "\n",
    "# preproc_baseline"
   ]
  },
  {
   "cell_type": "code",
   "execution_count": 13,
   "metadata": {},
   "outputs": [
    {
     "data": {
      "text/plain": [
       "(1460, 183)"
      ]
     },
     "execution_count": 13,
     "metadata": {},
     "output_type": "execute_result"
    }
   ],
   "source": [
    "shape_preproc_baseline = pd.DataFrame(preproc_baseline.fit_transform(X)).shape\n",
    "shape_preproc_baseline"
   ]
  },
  {
   "cell_type": "markdown",
   "metadata": {},
   "source": [
    "❓ Look at the **shape** of your preprocessed dataframe."
   ]
  },
  {
   "cell_type": "markdown",
   "metadata": {},
   "source": [
    "🧪 Test your code below"
   ]
  },
  {
   "cell_type": "markdown",
   "metadata": {},
   "source": [
    "## Model baseline"
   ]
  },
  {
   "cell_type": "markdown",
   "metadata": {},
   "source": [
    "❓ Pipe a basic Ridge regressor to your `preproc_baseline` and store it to `pipe_baseline` variable."
   ]
  },
  {
   "cell_type": "code",
   "execution_count": 14,
   "metadata": {},
   "outputs": [
    {
     "data": {
      "text/html": [
       "<style>#sk-0369b3ae-d6f7-4dc0-86f8-e4489381c540 {color: black;background-color: white;}#sk-0369b3ae-d6f7-4dc0-86f8-e4489381c540 pre{padding: 0;}#sk-0369b3ae-d6f7-4dc0-86f8-e4489381c540 div.sk-toggleable {background-color: white;}#sk-0369b3ae-d6f7-4dc0-86f8-e4489381c540 label.sk-toggleable__label {cursor: pointer;display: block;width: 100%;margin-bottom: 0;padding: 0.3em;box-sizing: border-box;text-align: center;}#sk-0369b3ae-d6f7-4dc0-86f8-e4489381c540 div.sk-toggleable__content {max-height: 0;max-width: 0;overflow: hidden;text-align: left;background-color: #f0f8ff;}#sk-0369b3ae-d6f7-4dc0-86f8-e4489381c540 div.sk-toggleable__content pre {margin: 0.2em;color: black;border-radius: 0.25em;background-color: #f0f8ff;}#sk-0369b3ae-d6f7-4dc0-86f8-e4489381c540 input.sk-toggleable__control:checked~div.sk-toggleable__content {max-height: 200px;max-width: 100%;overflow: auto;}#sk-0369b3ae-d6f7-4dc0-86f8-e4489381c540 div.sk-estimator input.sk-toggleable__control:checked~label.sk-toggleable__label {background-color: #d4ebff;}#sk-0369b3ae-d6f7-4dc0-86f8-e4489381c540 div.sk-label input.sk-toggleable__control:checked~label.sk-toggleable__label {background-color: #d4ebff;}#sk-0369b3ae-d6f7-4dc0-86f8-e4489381c540 input.sk-hidden--visually {border: 0;clip: rect(1px 1px 1px 1px);clip: rect(1px, 1px, 1px, 1px);height: 1px;margin: -1px;overflow: hidden;padding: 0;position: absolute;width: 1px;}#sk-0369b3ae-d6f7-4dc0-86f8-e4489381c540 div.sk-estimator {font-family: monospace;background-color: #f0f8ff;border: 1px dotted black;border-radius: 0.25em;box-sizing: border-box;margin-bottom: 0.5em;}#sk-0369b3ae-d6f7-4dc0-86f8-e4489381c540 div.sk-estimator:hover {background-color: #d4ebff;}#sk-0369b3ae-d6f7-4dc0-86f8-e4489381c540 div.sk-parallel-item::after {content: \"\";width: 100%;border-bottom: 1px solid gray;flex-grow: 1;}#sk-0369b3ae-d6f7-4dc0-86f8-e4489381c540 div.sk-label:hover label.sk-toggleable__label {background-color: #d4ebff;}#sk-0369b3ae-d6f7-4dc0-86f8-e4489381c540 div.sk-serial::before {content: \"\";position: absolute;border-left: 1px solid gray;box-sizing: border-box;top: 2em;bottom: 0;left: 50%;}#sk-0369b3ae-d6f7-4dc0-86f8-e4489381c540 div.sk-serial {display: flex;flex-direction: column;align-items: center;background-color: white;padding-right: 0.2em;padding-left: 0.2em;}#sk-0369b3ae-d6f7-4dc0-86f8-e4489381c540 div.sk-item {z-index: 1;}#sk-0369b3ae-d6f7-4dc0-86f8-e4489381c540 div.sk-parallel {display: flex;align-items: stretch;justify-content: center;background-color: white;}#sk-0369b3ae-d6f7-4dc0-86f8-e4489381c540 div.sk-parallel::before {content: \"\";position: absolute;border-left: 1px solid gray;box-sizing: border-box;top: 2em;bottom: 0;left: 50%;}#sk-0369b3ae-d6f7-4dc0-86f8-e4489381c540 div.sk-parallel-item {display: flex;flex-direction: column;position: relative;background-color: white;}#sk-0369b3ae-d6f7-4dc0-86f8-e4489381c540 div.sk-parallel-item:first-child::after {align-self: flex-end;width: 50%;}#sk-0369b3ae-d6f7-4dc0-86f8-e4489381c540 div.sk-parallel-item:last-child::after {align-self: flex-start;width: 50%;}#sk-0369b3ae-d6f7-4dc0-86f8-e4489381c540 div.sk-parallel-item:only-child::after {width: 0;}#sk-0369b3ae-d6f7-4dc0-86f8-e4489381c540 div.sk-dashed-wrapped {border: 1px dashed gray;margin: 0 0.4em 0.5em 0.4em;box-sizing: border-box;padding-bottom: 0.4em;background-color: white;position: relative;}#sk-0369b3ae-d6f7-4dc0-86f8-e4489381c540 div.sk-label label {font-family: monospace;font-weight: bold;background-color: white;display: inline-block;line-height: 1.2em;}#sk-0369b3ae-d6f7-4dc0-86f8-e4489381c540 div.sk-label-container {position: relative;z-index: 2;text-align: center;}#sk-0369b3ae-d6f7-4dc0-86f8-e4489381c540 div.sk-container {display: inline-block;position: relative;}</style><div id=\"sk-0369b3ae-d6f7-4dc0-86f8-e4489381c540\" class\"sk-top-container\"><div class=\"sk-container\"><div class=\"sk-item sk-dashed-wrapped\"><div class=\"sk-label-container\"><div class=\"sk-label sk-toggleable\"><input class=\"sk-toggleable__control sk-hidden--visually\" id=\"f60b89d8-efae-4870-b80d-8966fa4eb347\" type=\"checkbox\" ><label class=\"sk-toggleable__label\" for=\"f60b89d8-efae-4870-b80d-8966fa4eb347\">Pipeline</label><div class=\"sk-toggleable__content\"><pre>Pipeline(steps=[('columntransformer',\n",
       "                 ColumnTransformer(transformers=[('pipeline-1',\n",
       "                                                  Pipeline(steps=[('simpleimputer',\n",
       "                                                                   SimpleImputer()),\n",
       "                                                                  ('minmaxscaler',\n",
       "                                                                   MinMaxScaler())]),\n",
       "                                                  <sklearn.compose._column_transformer.make_column_selector object at 0x7fa10225df10>),\n",
       "                                                 ('pipeline-2',\n",
       "                                                  Pipeline(steps=[('simpleimputer',\n",
       "                                                                   SimpleImputer(strategy='most_frequent')),\n",
       "                                                                  ('onehotencod...\n",
       "                                                   'LandContour', 'Utilities',\n",
       "                                                   'LotConfig', 'LandSlope',\n",
       "                                                   'BldgType', 'RoofStyle',\n",
       "                                                   'MasVnrType', 'ExterQual',\n",
       "                                                   'ExterCond', 'Foundation',\n",
       "                                                   'BsmtQual', 'BsmtCond',\n",
       "                                                   'BsmtExposure',\n",
       "                                                   'BsmtFinType1',\n",
       "                                                   'BsmtFinType2', 'Heating',\n",
       "                                                   'HeatingQC', 'CentralAir',\n",
       "                                                   'Electrical', 'KitchenQual',\n",
       "                                                   'FireplaceQu', 'GarageType',\n",
       "                                                   'GarageFinish', 'GarageQual',\n",
       "                                                   'GarageCond', 'PavedDrive', ...])])),\n",
       "                ('ridge', Ridge())])</pre></div></div></div><div class=\"sk-serial\"><div class=\"sk-item sk-dashed-wrapped\"><div class=\"sk-label-container\"><div class=\"sk-label sk-toggleable\"><input class=\"sk-toggleable__control sk-hidden--visually\" id=\"22c5a058-92b2-4e0b-93cf-58dbc67d8768\" type=\"checkbox\" ><label class=\"sk-toggleable__label\" for=\"22c5a058-92b2-4e0b-93cf-58dbc67d8768\">columntransformer: ColumnTransformer</label><div class=\"sk-toggleable__content\"><pre>ColumnTransformer(transformers=[('pipeline-1',\n",
       "                                 Pipeline(steps=[('simpleimputer',\n",
       "                                                  SimpleImputer()),\n",
       "                                                 ('minmaxscaler',\n",
       "                                                  MinMaxScaler())]),\n",
       "                                 <sklearn.compose._column_transformer.make_column_selector object at 0x7fa10225df10>),\n",
       "                                ('pipeline-2',\n",
       "                                 Pipeline(steps=[('simpleimputer',\n",
       "                                                  SimpleImputer(strategy='most_frequent')),\n",
       "                                                 ('onehotencoder',\n",
       "                                                  OneHotEncoder(handle_unknown='ign...\n",
       "                                 ['MSZoning', 'Street', 'Alley', 'LotShape',\n",
       "                                  'LandContour', 'Utilities', 'LotConfig',\n",
       "                                  'LandSlope', 'BldgType', 'RoofStyle',\n",
       "                                  'MasVnrType', 'ExterQual', 'ExterCond',\n",
       "                                  'Foundation', 'BsmtQual', 'BsmtCond',\n",
       "                                  'BsmtExposure', 'BsmtFinType1',\n",
       "                                  'BsmtFinType2', 'Heating', 'HeatingQC',\n",
       "                                  'CentralAir', 'Electrical', 'KitchenQual',\n",
       "                                  'FireplaceQu', 'GarageType', 'GarageFinish',\n",
       "                                  'GarageQual', 'GarageCond', 'PavedDrive', ...])])</pre></div></div></div><div class=\"sk-parallel\"><div class=\"sk-parallel-item\"><div class=\"sk-item\"><div class=\"sk-label-container\"><div class=\"sk-label sk-toggleable\"><input class=\"sk-toggleable__control sk-hidden--visually\" id=\"a27649d9-014d-4d97-9553-3d44cff84462\" type=\"checkbox\" ><label class=\"sk-toggleable__label\" for=\"a27649d9-014d-4d97-9553-3d44cff84462\">pipeline-1</label><div class=\"sk-toggleable__content\"><pre><sklearn.compose._column_transformer.make_column_selector object at 0x7fa10225df10></pre></div></div></div><div class=\"sk-serial\"><div class=\"sk-item\"><div class=\"sk-serial\"><div class=\"sk-item\"><div class=\"sk-estimator sk-toggleable\"><input class=\"sk-toggleable__control sk-hidden--visually\" id=\"256f51ec-d549-4375-a82a-d0dc0d72d586\" type=\"checkbox\" ><label class=\"sk-toggleable__label\" for=\"256f51ec-d549-4375-a82a-d0dc0d72d586\">SimpleImputer</label><div class=\"sk-toggleable__content\"><pre>SimpleImputer()</pre></div></div></div><div class=\"sk-item\"><div class=\"sk-estimator sk-toggleable\"><input class=\"sk-toggleable__control sk-hidden--visually\" id=\"7198ec10-105d-45b7-b0c8-911017d25331\" type=\"checkbox\" ><label class=\"sk-toggleable__label\" for=\"7198ec10-105d-45b7-b0c8-911017d25331\">MinMaxScaler</label><div class=\"sk-toggleable__content\"><pre>MinMaxScaler()</pre></div></div></div></div></div></div></div></div><div class=\"sk-parallel-item\"><div class=\"sk-item\"><div class=\"sk-label-container\"><div class=\"sk-label sk-toggleable\"><input class=\"sk-toggleable__control sk-hidden--visually\" id=\"56b0b8c4-8570-4b06-a8b7-63f434721512\" type=\"checkbox\" ><label class=\"sk-toggleable__label\" for=\"56b0b8c4-8570-4b06-a8b7-63f434721512\">pipeline-2</label><div class=\"sk-toggleable__content\"><pre>['MSZoning', 'Street', 'Alley', 'LotShape', 'LandContour', 'Utilities', 'LotConfig', 'LandSlope', 'BldgType', 'RoofStyle', 'MasVnrType', 'ExterQual', 'ExterCond', 'Foundation', 'BsmtQual', 'BsmtCond', 'BsmtExposure', 'BsmtFinType1', 'BsmtFinType2', 'Heating', 'HeatingQC', 'CentralAir', 'Electrical', 'KitchenQual', 'FireplaceQu', 'GarageType', 'GarageFinish', 'GarageQual', 'GarageCond', 'PavedDrive', 'PoolQC', 'Fence', 'MiscFeature', 'SaleCondition']</pre></div></div></div><div class=\"sk-serial\"><div class=\"sk-item\"><div class=\"sk-serial\"><div class=\"sk-item\"><div class=\"sk-estimator sk-toggleable\"><input class=\"sk-toggleable__control sk-hidden--visually\" id=\"1d52d7a8-b003-4e5a-b725-b24d81b7f882\" type=\"checkbox\" ><label class=\"sk-toggleable__label\" for=\"1d52d7a8-b003-4e5a-b725-b24d81b7f882\">SimpleImputer</label><div class=\"sk-toggleable__content\"><pre>SimpleImputer(strategy='most_frequent')</pre></div></div></div><div class=\"sk-item\"><div class=\"sk-estimator sk-toggleable\"><input class=\"sk-toggleable__control sk-hidden--visually\" id=\"138c2ad5-b39a-4824-8124-7cdb4bb82048\" type=\"checkbox\" ><label class=\"sk-toggleable__label\" for=\"138c2ad5-b39a-4824-8124-7cdb4bb82048\">OneHotEncoder</label><div class=\"sk-toggleable__content\"><pre>OneHotEncoder(handle_unknown='ignore')</pre></div></div></div></div></div></div></div></div></div></div><div class=\"sk-item\"><div class=\"sk-estimator sk-toggleable\"><input class=\"sk-toggleable__control sk-hidden--visually\" id=\"74fd9be1-9275-4e38-ab3e-22bcef7fbc2f\" type=\"checkbox\" ><label class=\"sk-toggleable__label\" for=\"74fd9be1-9275-4e38-ab3e-22bcef7fbc2f\">Ridge</label><div class=\"sk-toggleable__content\"><pre>Ridge()</pre></div></div></div></div></div></div></div>"
      ],
      "text/plain": [
       "Pipeline(steps=[('columntransformer',\n",
       "                 ColumnTransformer(transformers=[('pipeline-1',\n",
       "                                                  Pipeline(steps=[('simpleimputer',\n",
       "                                                                   SimpleImputer()),\n",
       "                                                                  ('minmaxscaler',\n",
       "                                                                   MinMaxScaler())]),\n",
       "                                                  <sklearn.compose._column_transformer.make_column_selector object at 0x7fa10225df10>),\n",
       "                                                 ('pipeline-2',\n",
       "                                                  Pipeline(steps=[('simpleimputer',\n",
       "                                                                   SimpleImputer(strategy='most_frequent')),\n",
       "                                                                  ('onehotencod...\n",
       "                                                   'LandContour', 'Utilities',\n",
       "                                                   'LotConfig', 'LandSlope',\n",
       "                                                   'BldgType', 'RoofStyle',\n",
       "                                                   'MasVnrType', 'ExterQual',\n",
       "                                                   'ExterCond', 'Foundation',\n",
       "                                                   'BsmtQual', 'BsmtCond',\n",
       "                                                   'BsmtExposure',\n",
       "                                                   'BsmtFinType1',\n",
       "                                                   'BsmtFinType2', 'Heating',\n",
       "                                                   'HeatingQC', 'CentralAir',\n",
       "                                                   'Electrical', 'KitchenQual',\n",
       "                                                   'FireplaceQu', 'GarageType',\n",
       "                                                   'GarageFinish', 'GarageQual',\n",
       "                                                   'GarageCond', 'PavedDrive', ...])])),\n",
       "                ('ridge', Ridge())])"
      ]
     },
     "execution_count": 14,
     "metadata": {},
     "output_type": "execute_result"
    }
   ],
   "source": [
    "pipe_baseline = make_pipeline(preproc_baseline,\n",
    "                              Ridge())\n",
    "pipe_baseline"
   ]
  },
  {
   "cell_type": "markdown",
   "metadata": {},
   "source": [
    "❓ Read the Kaggle [contest evaluation rules](https://www.kaggle.com/c/house-prices-advanced-regression-techniques/overview/evaluation) \n",
    "- Which performance metric do you need? Is it readily available in sklearn?\n",
    "- Create a scorer using [`make_scorer`](https://scikit-learn.org/stable/modules/generated/sklearn.metrics.make_scorer.html) and store it into a variable named `rmsle`\n",
    "- Create also the negative score `rmsle_neg` which is best when _maximized_. This will come handy later as `GridSearchCV` requires a score to _maximize_"
   ]
  },
  {
   "cell_type": "code",
   "execution_count": 15,
   "metadata": {},
   "outputs": [],
   "source": [
    "# # OPTION 1: recode it all manually\n",
    "\n",
    "# def root_mean_squared_log_error(y_true, y_pred):\n",
    "#     t = np.array(y_true)\n",
    "#     p = np.array(y_pred)\n",
    "#     log_error = np.log(1+t) - np.log(1+p)\n",
    "#     return ((log_error**2).mean())**0.5\n",
    "\n",
    "# # This is our metric to minimize\n",
    "# rmsle = make_scorer(root_mean_squared_log_error)\n",
    "\n",
    "# # This is our score to maximize\n",
    "# rmsle_neg = make_scorer(lambda y_true, y_pred: -1 * root_mean_squared_log_error(y_true, y_pred))"
   ]
  },
  {
   "cell_type": "code",
   "execution_count": 16,
   "metadata": {
    "ExecuteTime": {
     "end_time": "2021-02-03T08:48:25.203103Z",
     "start_time": "2021-02-03T08:48:25.197636Z"
    }
   },
   "outputs": [],
   "source": [
    "# OPTION 2 - reuse sklearn \"mean_squared_log_error\"\n",
    "from sklearn.metrics import mean_squared_log_error\n",
    "from sklearn.metrics import make_scorer\n",
    "\n",
    "# This is the metric to minimize\n",
    "rmsle = make_scorer(lambda y_true, y_pred: mean_squared_log_error(y_true, y_pred)**0.5)\n",
    "\n",
    "# This is our score to maximize\n",
    "rmsle_neg = make_scorer(lambda y_true, y_pred: -1* mean_squared_log_error(y_true, y_pred)**0.5)\n",
    "\n",
    "# Equivalent formulation\n",
    "rmsle_neg = make_scorer(lambda y_true, y_pred: mean_squared_log_error(y_true, y_pred)**0.5, \n",
    "                        greater_is_better=False)"
   ]
  },
  {
   "cell_type": "markdown",
   "metadata": {},
   "source": [
    "❓5-fold cross_validate your `pipe_baseline` using this metric to get a first glance at your baseline perf.    \n",
    "Store your mean score as `score_baseline`"
   ]
  },
  {
   "cell_type": "code",
   "execution_count": 17,
   "metadata": {},
   "outputs": [
    {
     "data": {
      "text/plain": [
       "0.16642907520861638"
      ]
     },
     "execution_count": 17,
     "metadata": {},
     "output_type": "execute_result"
    }
   ],
   "source": [
    "from sklearn.model_selection import cross_val_score\n",
    "\n",
    "# Cross validate the final_pipe\n",
    "score_baseline = cross_val_score(pipe_baseline, X, y, cv=5, scoring=rmsle).mean()\n",
    "score_baseline"
   ]
  },
  {
   "cell_type": "markdown",
   "metadata": {},
   "source": [
    "## Predict baseline"
   ]
  },
  {
   "cell_type": "markdown",
   "metadata": {},
   "source": [
    "❓ Predict `y_pred_baseline` from the Kaggle `test.csv` dataset you stored in the `data` folder."
   ]
  },
  {
   "cell_type": "code",
   "execution_count": 18,
   "metadata": {
    "ExecuteTime": {
     "end_time": "2021-02-03T08:29:58.984163Z",
     "start_time": "2021-02-03T08:29:58.586080Z"
    }
   },
   "outputs": [
    {
     "data": {
      "text/plain": [
       "array([113256.76959388, 136811.0145436 , 174901.68834287, ...,\n",
       "       157216.07718185, 111472.49591662, 234985.99120322])"
      ]
     },
     "execution_count": 18,
     "metadata": {},
     "output_type": "execute_result"
    }
   ],
   "source": [
    "X_test = pd.read_csv(\"https://wagon-public-datasets.s3.amazonaws.com/houses_test_raw.csv\")\n",
    "X_test_ids = X_test['Id'] # keep ids\n",
    "X_test = X_test.drop(columns=['Id'])\n",
    "\n",
    "# Predict y_pred_baseline\n",
    "pipe_baseline.fit(X, y)\n",
    "y_pred_baseline = pipe_baseline.predict(X_test)\n",
    "y_pred_baseline"
   ]
  },
  {
   "cell_type": "markdown",
   "metadata": {},
   "source": [
    "❓ Finally, store your CSV ready to be submitted as `submission_baseline.csv` in the `data` folder. Read carefully the Kaggle required format and test it below (you don't need to submit this baseline online for now)."
   ]
  },
  {
   "cell_type": "code",
   "execution_count": 19,
   "metadata": {
    "ExecuteTime": {
     "end_time": "2021-02-03T08:30:00.911236Z",
     "start_time": "2021-02-03T08:30:00.904484Z"
    }
   },
   "outputs": [
    {
     "data": {
      "text/html": [
       "<div>\n",
       "<style scoped>\n",
       "    .dataframe tbody tr th:only-of-type {\n",
       "        vertical-align: middle;\n",
       "    }\n",
       "\n",
       "    .dataframe tbody tr th {\n",
       "        vertical-align: top;\n",
       "    }\n",
       "\n",
       "    .dataframe thead th {\n",
       "        text-align: right;\n",
       "    }\n",
       "</style>\n",
       "<table border=\"1\" class=\"dataframe\">\n",
       "  <thead>\n",
       "    <tr style=\"text-align: right;\">\n",
       "      <th></th>\n",
       "      <th>Id</th>\n",
       "      <th>SalePrice</th>\n",
       "    </tr>\n",
       "  </thead>\n",
       "  <tbody>\n",
       "    <tr>\n",
       "      <th>0</th>\n",
       "      <td>1461</td>\n",
       "      <td>113256.769594</td>\n",
       "    </tr>\n",
       "    <tr>\n",
       "      <th>1</th>\n",
       "      <td>1462</td>\n",
       "      <td>136811.014544</td>\n",
       "    </tr>\n",
       "    <tr>\n",
       "      <th>2</th>\n",
       "      <td>1463</td>\n",
       "      <td>174901.688343</td>\n",
       "    </tr>\n",
       "  </tbody>\n",
       "</table>\n",
       "</div>"
      ],
      "text/plain": [
       "     Id      SalePrice\n",
       "0  1461  113256.769594\n",
       "1  1462  136811.014544\n",
       "2  1463  174901.688343"
      ]
     },
     "execution_count": 19,
     "metadata": {},
     "output_type": "execute_result"
    }
   ],
   "source": [
    "result = pd.concat([X_test_ids, pd.Series(y_pred_baseline, name='SalePrice')], axis=1)\n",
    "result.head(3)"
   ]
  },
  {
   "cell_type": "code",
   "execution_count": 20,
   "metadata": {},
   "outputs": [],
   "source": [
    "result.to_csv(\"data/submission_baseline.csv\", header=True, index=False)"
   ]
  },
  {
   "cell_type": "markdown",
   "metadata": {},
   "source": [
    "🧪 Test your code"
   ]
  },
  {
   "cell_type": "markdown",
   "metadata": {},
   "source": [
    "# 🏋️‍♀️ ITERATIONS "
   ]
  },
  {
   "cell_type": "markdown",
   "metadata": {},
   "source": [
    "🎉 🎉 Congratulation for having fully pipelined a basline model! You will see now how easier it is to iterate and improve performance 🚀\n",
    "\n",
    "- Your goal is to improve your prediction and submit it by **16h30 max online**\n",
    "- We suggested you some improvements below\n",
    "- **Pick up your fights** and **incrementally** improve your pipeline as you see fit"
   ]
  },
  {
   "cell_type": "markdown",
   "metadata": {},
   "source": [
    "**Models**\n",
    "\n",
    "- Linear Models: fine-tune regularization ?\n",
    "- **Tree-based ensembles (must try today)**: Probably the best suited for many categorical-features problems\n",
    "- Stacking !\n",
    "- ...\n",
    "\n",
    "**Preprocessing** (once your first ensemble models works)\n",
    "\n",
    "- Ordinal Encoding of categorical features with a hidden notion of order in their values (e.g. \"bad\", \"average\", good\")\n",
    "- Statistical Feature Selection to remove useless features (avoid overfitting and reduce train time)\n",
    "- Predict log(SalePrice) instead?\n",
    "- ..."
   ]
  },
  {
   "cell_type": "markdown",
   "metadata": {},
   "source": [
    "## Preprocessing Iteration"
   ]
  },
  {
   "cell_type": "markdown",
   "metadata": {},
   "source": [
    "### Ordinal Encoding"
   ]
  },
  {
   "cell_type": "markdown",
   "metadata": {},
   "source": [
    "❓ Look at the following feature below. Couldn't it be encoded numerically in a wise manner?\n",
    "```\n",
    "ExterQual: Evaluates the quality of the material on the exterior \n",
    "\t\t\n",
    "       Ex\tExcellent\n",
    "       Gd\tGood\n",
    "       TA\tAverage/Typical\n",
    "       Fa\tFair\n",
    "       Po\tPoor\n",
    "```"
   ]
  },
  {
   "cell_type": "markdown",
   "metadata": {},
   "source": [
    "💡 Luckily, the `OrdinalEncoder` and its argument `categories`  allows us to do just that. Check it out below and make sure to understand how ths works"
   ]
  },
  {
   "cell_type": "code",
   "execution_count": 21,
   "metadata": {
    "ExecuteTime": {
     "end_time": "2021-02-02T15:51:51.765333Z",
     "start_time": "2021-02-02T15:51:51.758709Z"
    }
   },
   "outputs": [
    {
     "data": {
      "text/plain": [
       "array([[ 0.,  0.],\n",
       "       [ 2.,  2.],\n",
       "       [ 0., -1.]])"
      ]
     },
     "execution_count": 21,
     "metadata": {},
     "output_type": "execute_result"
    }
   ],
   "source": [
    "# Define specific order for features\n",
    "# Note: if you change this order, it will change the output for .transform()\n",
    "feature_A_sorted_values = ['bad', 'average', 'good'] \n",
    "feature_B_sorted_values = ['dirty', 'clean', 'new']\n",
    "\n",
    "encoder = OrdinalEncoder(\n",
    "    categories=[\n",
    "        feature_A_sorted_values,\n",
    "        feature_B_sorted_values\n",
    "    ],\n",
    "    handle_unknown=\"use_encoded_value\",\n",
    "    unknown_value=-1\n",
    ")\n",
    "\n",
    "# Just some random training data\n",
    "XX = [\n",
    "    ['good', 'dirty'],\n",
    "    ['bad', 'new'],\n",
    "    ['average', 'clean'],\n",
    "]\n",
    "\n",
    "encoder.fit(XX)\n",
    "\n",
    "encoder.transform([\n",
    "        ['bad', \"dirty\"],\n",
    "        ['good', 'new'],\n",
    "        ['bad', 'oooops never seen this label before']\n",
    "])"
   ]
  },
  {
   "cell_type": "markdown",
   "metadata": {},
   "source": [
    "---\n",
    "❓ **Your turn**: split your categorical preprocessor into\n",
    "\n",
    "- `preproc_ordinal` to ordinally encode **some features** of your choice (**do a quick iteration first**)\n",
    "- `preproc_nominal` to one hot encode the other ones\n",
    "\n",
    "\n",
    "<details>\n",
    "    <summary>Hints</summary>\n",
    "\n",
    "- You won't be able to avoid hard-coding names and ordered values of features! Be tidy!\n",
    "- It's a good practice to sort alphabetically your features to avoid bad surprises\n",
    "</details>"
   ]
  },
  {
   "cell_type": "code",
   "execution_count": 22,
   "metadata": {
    "ExecuteTime": {
     "end_time": "2021-02-02T16:11:15.997343Z",
     "start_time": "2021-02-02T16:11:15.977031Z"
    }
   },
   "outputs": [
    {
     "data": {
      "text/html": [
       "<style>#sk-a9568062-41dc-47aa-a6be-494c7a760152 {color: black;background-color: white;}#sk-a9568062-41dc-47aa-a6be-494c7a760152 pre{padding: 0;}#sk-a9568062-41dc-47aa-a6be-494c7a760152 div.sk-toggleable {background-color: white;}#sk-a9568062-41dc-47aa-a6be-494c7a760152 label.sk-toggleable__label {cursor: pointer;display: block;width: 100%;margin-bottom: 0;padding: 0.3em;box-sizing: border-box;text-align: center;}#sk-a9568062-41dc-47aa-a6be-494c7a760152 div.sk-toggleable__content {max-height: 0;max-width: 0;overflow: hidden;text-align: left;background-color: #f0f8ff;}#sk-a9568062-41dc-47aa-a6be-494c7a760152 div.sk-toggleable__content pre {margin: 0.2em;color: black;border-radius: 0.25em;background-color: #f0f8ff;}#sk-a9568062-41dc-47aa-a6be-494c7a760152 input.sk-toggleable__control:checked~div.sk-toggleable__content {max-height: 200px;max-width: 100%;overflow: auto;}#sk-a9568062-41dc-47aa-a6be-494c7a760152 div.sk-estimator input.sk-toggleable__control:checked~label.sk-toggleable__label {background-color: #d4ebff;}#sk-a9568062-41dc-47aa-a6be-494c7a760152 div.sk-label input.sk-toggleable__control:checked~label.sk-toggleable__label {background-color: #d4ebff;}#sk-a9568062-41dc-47aa-a6be-494c7a760152 input.sk-hidden--visually {border: 0;clip: rect(1px 1px 1px 1px);clip: rect(1px, 1px, 1px, 1px);height: 1px;margin: -1px;overflow: hidden;padding: 0;position: absolute;width: 1px;}#sk-a9568062-41dc-47aa-a6be-494c7a760152 div.sk-estimator {font-family: monospace;background-color: #f0f8ff;border: 1px dotted black;border-radius: 0.25em;box-sizing: border-box;margin-bottom: 0.5em;}#sk-a9568062-41dc-47aa-a6be-494c7a760152 div.sk-estimator:hover {background-color: #d4ebff;}#sk-a9568062-41dc-47aa-a6be-494c7a760152 div.sk-parallel-item::after {content: \"\";width: 100%;border-bottom: 1px solid gray;flex-grow: 1;}#sk-a9568062-41dc-47aa-a6be-494c7a760152 div.sk-label:hover label.sk-toggleable__label {background-color: #d4ebff;}#sk-a9568062-41dc-47aa-a6be-494c7a760152 div.sk-serial::before {content: \"\";position: absolute;border-left: 1px solid gray;box-sizing: border-box;top: 2em;bottom: 0;left: 50%;}#sk-a9568062-41dc-47aa-a6be-494c7a760152 div.sk-serial {display: flex;flex-direction: column;align-items: center;background-color: white;padding-right: 0.2em;padding-left: 0.2em;}#sk-a9568062-41dc-47aa-a6be-494c7a760152 div.sk-item {z-index: 1;}#sk-a9568062-41dc-47aa-a6be-494c7a760152 div.sk-parallel {display: flex;align-items: stretch;justify-content: center;background-color: white;}#sk-a9568062-41dc-47aa-a6be-494c7a760152 div.sk-parallel::before {content: \"\";position: absolute;border-left: 1px solid gray;box-sizing: border-box;top: 2em;bottom: 0;left: 50%;}#sk-a9568062-41dc-47aa-a6be-494c7a760152 div.sk-parallel-item {display: flex;flex-direction: column;position: relative;background-color: white;}#sk-a9568062-41dc-47aa-a6be-494c7a760152 div.sk-parallel-item:first-child::after {align-self: flex-end;width: 50%;}#sk-a9568062-41dc-47aa-a6be-494c7a760152 div.sk-parallel-item:last-child::after {align-self: flex-start;width: 50%;}#sk-a9568062-41dc-47aa-a6be-494c7a760152 div.sk-parallel-item:only-child::after {width: 0;}#sk-a9568062-41dc-47aa-a6be-494c7a760152 div.sk-dashed-wrapped {border: 1px dashed gray;margin: 0 0.4em 0.5em 0.4em;box-sizing: border-box;padding-bottom: 0.4em;background-color: white;position: relative;}#sk-a9568062-41dc-47aa-a6be-494c7a760152 div.sk-label label {font-family: monospace;font-weight: bold;background-color: white;display: inline-block;line-height: 1.2em;}#sk-a9568062-41dc-47aa-a6be-494c7a760152 div.sk-label-container {position: relative;z-index: 2;text-align: center;}#sk-a9568062-41dc-47aa-a6be-494c7a760152 div.sk-container {display: inline-block;position: relative;}</style><div id=\"sk-a9568062-41dc-47aa-a6be-494c7a760152\" class\"sk-top-container\"><div class=\"sk-container\"><div class=\"sk-item sk-dashed-wrapped\"><div class=\"sk-label-container\"><div class=\"sk-label sk-toggleable\"><input class=\"sk-toggleable__control sk-hidden--visually\" id=\"ff62e77c-8c36-4fe4-82d5-8c001261a7bc\" type=\"checkbox\" ><label class=\"sk-toggleable__label\" for=\"ff62e77c-8c36-4fe4-82d5-8c001261a7bc\">Pipeline</label><div class=\"sk-toggleable__content\"><pre>Pipeline(steps=[('simpleimputer',\n",
       "                 SimpleImputer(fill_value='missing', strategy='constant')),\n",
       "                ('ordinalencoder',\n",
       "                 OrdinalEncoder(categories=[['missing', 'Po', 'Fa', 'TA', 'Gd'],\n",
       "                                            ['missing', 'No', 'Mn', 'Av', 'Gd'],\n",
       "                                            ['missing', 'Unf', 'LwQ', 'Rec',\n",
       "                                             'BLQ', 'ALQ', 'GLQ'],\n",
       "                                            ['missing', 'Unf', 'LwQ', 'Rec',\n",
       "                                             'BLQ', 'ALQ', 'GLQ'],\n",
       "                                            ['missing', 'Fa', 'TA', 'Gd', 'Ex'],\n",
       "                                            ['missing', 'Mix', 'FuseP...\n",
       "                                            ['missing', 'Po', 'Fa', 'TA', 'Gd',\n",
       "                                             'Ex'],\n",
       "                                            ['missing', 'Po', 'Fa', 'TA', 'Gd',\n",
       "                                             'Ex'],\n",
       "                                            ['missing', 'Fa', 'TA', 'Gd', 'Ex'],\n",
       "                                            ['missing', 'Low', 'Bnk', 'HLS',\n",
       "                                             'Lvl'],\n",
       "                                            ['missing', 'Sev', 'Mod', 'Gtl'],\n",
       "                                            ['missing', 'IR3', 'IR2', 'IR1',\n",
       "                                             'Reg'],\n",
       "                                            ['missing', 'N', 'P', 'Y'],\n",
       "                                            ['missing', 'Fa', 'Gd', 'Ex']],\n",
       "                                dtype=<class 'numpy.int64'>,\n",
       "                                handle_unknown='use_encoded_value',\n",
       "                                unknown_value=-1)),\n",
       "                ('minmaxscaler', MinMaxScaler())])</pre></div></div></div><div class=\"sk-serial\"><div class=\"sk-item\"><div class=\"sk-estimator sk-toggleable\"><input class=\"sk-toggleable__control sk-hidden--visually\" id=\"21727999-d262-4e77-bd33-1d101bca0ca2\" type=\"checkbox\" ><label class=\"sk-toggleable__label\" for=\"21727999-d262-4e77-bd33-1d101bca0ca2\">SimpleImputer</label><div class=\"sk-toggleable__content\"><pre>SimpleImputer(fill_value='missing', strategy='constant')</pre></div></div></div><div class=\"sk-item\"><div class=\"sk-estimator sk-toggleable\"><input class=\"sk-toggleable__control sk-hidden--visually\" id=\"49d24fe7-1385-4065-b998-4718bf6ad4bc\" type=\"checkbox\" ><label class=\"sk-toggleable__label\" for=\"49d24fe7-1385-4065-b998-4718bf6ad4bc\">OrdinalEncoder</label><div class=\"sk-toggleable__content\"><pre>OrdinalEncoder(categories=[['missing', 'Po', 'Fa', 'TA', 'Gd'],\n",
       "                           ['missing', 'No', 'Mn', 'Av', 'Gd'],\n",
       "                           ['missing', 'Unf', 'LwQ', 'Rec', 'BLQ', 'ALQ',\n",
       "                            'GLQ'],\n",
       "                           ['missing', 'Unf', 'LwQ', 'Rec', 'BLQ', 'ALQ',\n",
       "                            'GLQ'],\n",
       "                           ['missing', 'Fa', 'TA', 'Gd', 'Ex'],\n",
       "                           ['missing', 'Mix', 'FuseP', 'FuseF', 'FuseA',\n",
       "                            'SBrkr'],\n",
       "                           ['missing', 'Po', 'Fa', 'TA', 'Gd', 'Ex'],\n",
       "                           ['missing', 'Fa', 'TA', 'Gd', 'Ex'],\n",
       "                           ['missing', '...\n",
       "                           ['missing', 'Unf', 'RFn', 'Fin'],\n",
       "                           ['missing', 'Po', 'Fa', 'TA', 'Gd', 'Ex'],\n",
       "                           ['missing', 'Po', 'Fa', 'TA', 'Gd', 'Ex'],\n",
       "                           ['missing', 'Fa', 'TA', 'Gd', 'Ex'],\n",
       "                           ['missing', 'Low', 'Bnk', 'HLS', 'Lvl'],\n",
       "                           ['missing', 'Sev', 'Mod', 'Gtl'],\n",
       "                           ['missing', 'IR3', 'IR2', 'IR1', 'Reg'],\n",
       "                           ['missing', 'N', 'P', 'Y'],\n",
       "                           ['missing', 'Fa', 'Gd', 'Ex']],\n",
       "               dtype=<class 'numpy.int64'>, handle_unknown='use_encoded_value',\n",
       "               unknown_value=-1)</pre></div></div></div><div class=\"sk-item\"><div class=\"sk-estimator sk-toggleable\"><input class=\"sk-toggleable__control sk-hidden--visually\" id=\"f2ba43d0-888c-452b-985a-acbf10c6fb09\" type=\"checkbox\" ><label class=\"sk-toggleable__label\" for=\"f2ba43d0-888c-452b-985a-acbf10c6fb09\">MinMaxScaler</label><div class=\"sk-toggleable__content\"><pre>MinMaxScaler()</pre></div></div></div></div></div></div></div>"
      ],
      "text/plain": [
       "Pipeline(steps=[('simpleimputer',\n",
       "                 SimpleImputer(fill_value='missing', strategy='constant')),\n",
       "                ('ordinalencoder',\n",
       "                 OrdinalEncoder(categories=[['missing', 'Po', 'Fa', 'TA', 'Gd'],\n",
       "                                            ['missing', 'No', 'Mn', 'Av', 'Gd'],\n",
       "                                            ['missing', 'Unf', 'LwQ', 'Rec',\n",
       "                                             'BLQ', 'ALQ', 'GLQ'],\n",
       "                                            ['missing', 'Unf', 'LwQ', 'Rec',\n",
       "                                             'BLQ', 'ALQ', 'GLQ'],\n",
       "                                            ['missing', 'Fa', 'TA', 'Gd', 'Ex'],\n",
       "                                            ['missing', 'Mix', 'FuseP...\n",
       "                                            ['missing', 'Po', 'Fa', 'TA', 'Gd',\n",
       "                                             'Ex'],\n",
       "                                            ['missing', 'Po', 'Fa', 'TA', 'Gd',\n",
       "                                             'Ex'],\n",
       "                                            ['missing', 'Fa', 'TA', 'Gd', 'Ex'],\n",
       "                                            ['missing', 'Low', 'Bnk', 'HLS',\n",
       "                                             'Lvl'],\n",
       "                                            ['missing', 'Sev', 'Mod', 'Gtl'],\n",
       "                                            ['missing', 'IR3', 'IR2', 'IR1',\n",
       "                                             'Reg'],\n",
       "                                            ['missing', 'N', 'P', 'Y'],\n",
       "                                            ['missing', 'Fa', 'Gd', 'Ex']],\n",
       "                                dtype=<class 'numpy.int64'>,\n",
       "                                handle_unknown='use_encoded_value',\n",
       "                                unknown_value=-1)),\n",
       "                ('minmaxscaler', MinMaxScaler())])"
      ]
     },
     "execution_count": 22,
     "metadata": {},
     "output_type": "execute_result"
    }
   ],
   "source": [
    "feat_ordinal_dict = {\n",
    "    # considers \"missing\" as \"neutral\"\n",
    "    \"BsmtCond\": ['missing', 'Po', 'Fa', 'TA', 'Gd'],\n",
    "    \"BsmtExposure\": ['missing', 'No', 'Mn', 'Av', 'Gd'],\n",
    "    \"BsmtFinType1\": ['missing', 'Unf', 'LwQ', 'Rec', 'BLQ', 'ALQ', 'GLQ'],\n",
    "    \"BsmtFinType2\": ['missing', 'Unf', 'LwQ', 'Rec', 'BLQ', 'ALQ', 'GLQ'],\n",
    "    \"BsmtQual\": ['missing', 'Fa', 'TA', 'Gd', 'Ex'],\n",
    "    \"Electrical\": ['missing', 'Mix', 'FuseP', 'FuseF', 'FuseA', 'SBrkr'],\n",
    "    \"ExterCond\": ['missing', 'Po', 'Fa', 'TA', 'Gd', 'Ex'],\n",
    "    \"ExterQual\": ['missing', 'Fa', 'TA', 'Gd', 'Ex'],\n",
    "    \"Fence\": ['missing', 'MnWw', 'GdWo', 'MnPrv', 'GdPrv'],\n",
    "    \"FireplaceQu\": ['missing', 'Po', 'Fa', 'TA', 'Gd', 'Ex'],\n",
    "    \"Functional\": ['missing', 'Sev', 'Maj2', 'Maj1', 'Mod', 'Min2', 'Min1', 'Typ'],\n",
    "    \"GarageCond\": ['missing', 'Po', 'Fa', 'TA', 'Gd', 'Ex'],\n",
    "    \"GarageFinish\": ['missing', 'Unf', 'RFn', 'Fin'],\n",
    "    \"GarageQual\": ['missing', 'Po', 'Fa', 'TA', 'Gd', 'Ex'],\n",
    "    \"HeatingQC\": ['missing', 'Po', 'Fa', 'TA', 'Gd', 'Ex'],\n",
    "    \"KitchenQual\": ['missing', 'Fa', 'TA', 'Gd', 'Ex'],\n",
    "    \"LandContour\": ['missing', 'Low', 'Bnk', 'HLS', 'Lvl'],\n",
    "    \"LandSlope\": ['missing', 'Sev', 'Mod', 'Gtl'],\n",
    "    \"LotShape\": ['missing', 'IR3', 'IR2', 'IR1', 'Reg'],\n",
    "    \"PavedDrive\": ['missing', 'N', 'P', 'Y'],\n",
    "    \"PoolQC\": ['missing', 'Fa', 'Gd', 'Ex'],\n",
    "}\n",
    "\n",
    "feat_ordinal = sorted(feat_ordinal_dict.keys()) # sort alphabetically\n",
    "feat_ordinal_values_sorted = [feat_ordinal_dict[i] for i in feat_ordinal]\n",
    "\n",
    "encoder_ordinal = OrdinalEncoder(\n",
    "    categories=feat_ordinal_values_sorted,\n",
    "    dtype= np.int64,\n",
    "    handle_unknown= \"use_encoded_value\",\n",
    "    unknown_value= -1 # consider unknown values as worse than 'missing'\n",
    ")\n",
    "\n",
    "preproc_ordinal = make_pipeline(\n",
    "    SimpleImputer(strategy='constant', fill_value='missing'),\n",
    "    encoder_ordinal,\n",
    "    MinMaxScaler()\n",
    ")\n",
    "preproc_ordinal"
   ]
  },
  {
   "cell_type": "code",
   "execution_count": 23,
   "metadata": {},
   "outputs": [],
   "source": [
    "# Define numerical feature\n",
    "feat_numerical = sorted(X.select_dtypes(include=['int64', \"float64\"]).columns)\n",
    "\n",
    "preproc_numerical = make_pipeline(\n",
    "    KNNImputer(),\n",
    "    MinMaxScaler()\n",
    ")"
   ]
  },
  {
   "cell_type": "code",
   "execution_count": 24,
   "metadata": {},
   "outputs": [],
   "source": [
    "# Define norminal features to one-hot-encode as the remaining ones (non numerical, non ordinal)\n",
    "feat_norminal = sorted(list(set(X.columns) - set(feat_numerical) - set(feat_ordinal)))\n",
    "\n",
    "preproc_norminal = make_pipeline(\n",
    "    SimpleImputer(strategy='most_frequent'),\n",
    "    OneHotEncoder(handle_unknown='ignore')\n",
    ")"
   ]
  },
  {
   "cell_type": "code",
   "execution_count": 25,
   "metadata": {
    "scrolled": true
   },
   "outputs": [
    {
     "data": {
      "text/html": [
       "<style>#sk-b52c3809-b2e5-42e4-b027-e5eacbe3101e {color: black;background-color: white;}#sk-b52c3809-b2e5-42e4-b027-e5eacbe3101e pre{padding: 0;}#sk-b52c3809-b2e5-42e4-b027-e5eacbe3101e div.sk-toggleable {background-color: white;}#sk-b52c3809-b2e5-42e4-b027-e5eacbe3101e label.sk-toggleable__label {cursor: pointer;display: block;width: 100%;margin-bottom: 0;padding: 0.3em;box-sizing: border-box;text-align: center;}#sk-b52c3809-b2e5-42e4-b027-e5eacbe3101e div.sk-toggleable__content {max-height: 0;max-width: 0;overflow: hidden;text-align: left;background-color: #f0f8ff;}#sk-b52c3809-b2e5-42e4-b027-e5eacbe3101e div.sk-toggleable__content pre {margin: 0.2em;color: black;border-radius: 0.25em;background-color: #f0f8ff;}#sk-b52c3809-b2e5-42e4-b027-e5eacbe3101e input.sk-toggleable__control:checked~div.sk-toggleable__content {max-height: 200px;max-width: 100%;overflow: auto;}#sk-b52c3809-b2e5-42e4-b027-e5eacbe3101e div.sk-estimator input.sk-toggleable__control:checked~label.sk-toggleable__label {background-color: #d4ebff;}#sk-b52c3809-b2e5-42e4-b027-e5eacbe3101e div.sk-label input.sk-toggleable__control:checked~label.sk-toggleable__label {background-color: #d4ebff;}#sk-b52c3809-b2e5-42e4-b027-e5eacbe3101e input.sk-hidden--visually {border: 0;clip: rect(1px 1px 1px 1px);clip: rect(1px, 1px, 1px, 1px);height: 1px;margin: -1px;overflow: hidden;padding: 0;position: absolute;width: 1px;}#sk-b52c3809-b2e5-42e4-b027-e5eacbe3101e div.sk-estimator {font-family: monospace;background-color: #f0f8ff;border: 1px dotted black;border-radius: 0.25em;box-sizing: border-box;margin-bottom: 0.5em;}#sk-b52c3809-b2e5-42e4-b027-e5eacbe3101e div.sk-estimator:hover {background-color: #d4ebff;}#sk-b52c3809-b2e5-42e4-b027-e5eacbe3101e div.sk-parallel-item::after {content: \"\";width: 100%;border-bottom: 1px solid gray;flex-grow: 1;}#sk-b52c3809-b2e5-42e4-b027-e5eacbe3101e div.sk-label:hover label.sk-toggleable__label {background-color: #d4ebff;}#sk-b52c3809-b2e5-42e4-b027-e5eacbe3101e div.sk-serial::before {content: \"\";position: absolute;border-left: 1px solid gray;box-sizing: border-box;top: 2em;bottom: 0;left: 50%;}#sk-b52c3809-b2e5-42e4-b027-e5eacbe3101e div.sk-serial {display: flex;flex-direction: column;align-items: center;background-color: white;padding-right: 0.2em;padding-left: 0.2em;}#sk-b52c3809-b2e5-42e4-b027-e5eacbe3101e div.sk-item {z-index: 1;}#sk-b52c3809-b2e5-42e4-b027-e5eacbe3101e div.sk-parallel {display: flex;align-items: stretch;justify-content: center;background-color: white;}#sk-b52c3809-b2e5-42e4-b027-e5eacbe3101e div.sk-parallel::before {content: \"\";position: absolute;border-left: 1px solid gray;box-sizing: border-box;top: 2em;bottom: 0;left: 50%;}#sk-b52c3809-b2e5-42e4-b027-e5eacbe3101e div.sk-parallel-item {display: flex;flex-direction: column;position: relative;background-color: white;}#sk-b52c3809-b2e5-42e4-b027-e5eacbe3101e div.sk-parallel-item:first-child::after {align-self: flex-end;width: 50%;}#sk-b52c3809-b2e5-42e4-b027-e5eacbe3101e div.sk-parallel-item:last-child::after {align-self: flex-start;width: 50%;}#sk-b52c3809-b2e5-42e4-b027-e5eacbe3101e div.sk-parallel-item:only-child::after {width: 0;}#sk-b52c3809-b2e5-42e4-b027-e5eacbe3101e div.sk-dashed-wrapped {border: 1px dashed gray;margin: 0 0.4em 0.5em 0.4em;box-sizing: border-box;padding-bottom: 0.4em;background-color: white;position: relative;}#sk-b52c3809-b2e5-42e4-b027-e5eacbe3101e div.sk-label label {font-family: monospace;font-weight: bold;background-color: white;display: inline-block;line-height: 1.2em;}#sk-b52c3809-b2e5-42e4-b027-e5eacbe3101e div.sk-label-container {position: relative;z-index: 2;text-align: center;}#sk-b52c3809-b2e5-42e4-b027-e5eacbe3101e div.sk-container {display: inline-block;position: relative;}</style><div id=\"sk-b52c3809-b2e5-42e4-b027-e5eacbe3101e\" class\"sk-top-container\"><div class=\"sk-container\"><div class=\"sk-item sk-dashed-wrapped\"><div class=\"sk-label-container\"><div class=\"sk-label sk-toggleable\"><input class=\"sk-toggleable__control sk-hidden--visually\" id=\"5376502e-4136-4bd3-abee-246289f86ec0\" type=\"checkbox\" ><label class=\"sk-toggleable__label\" for=\"5376502e-4136-4bd3-abee-246289f86ec0\">ColumnTransformer</label><div class=\"sk-toggleable__content\"><pre>ColumnTransformer(transformers=[('pipeline-1',\n",
       "                                 Pipeline(steps=[('knnimputer', KNNImputer()),\n",
       "                                                 ('minmaxscaler',\n",
       "                                                  MinMaxScaler())]),\n",
       "                                 <sklearn.compose._column_transformer.make_column_selector object at 0x7fa10223d340>),\n",
       "                                ('pipeline-2',\n",
       "                                 Pipeline(steps=[('simpleimputer',\n",
       "                                                  SimpleImputer(fill_value='missing',\n",
       "                                                                strategy='constant')),\n",
       "                                                 ('ordinalencoder',\n",
       "                                                  OrdinalEncoder(categor...\n",
       "                                                  SimpleImputer(strategy='most_frequent')),\n",
       "                                                 ('onehotencoder',\n",
       "                                                  OneHotEncoder(handle_unknown='ignore'))]),\n",
       "                                 ['Alley', 'BldgType', 'CentralAir',\n",
       "                                  'Condition1', 'Condition2', 'Exterior1st',\n",
       "                                  'Exterior2nd', 'Foundation', 'GarageType',\n",
       "                                  'Heating', 'HouseStyle', 'LotConfig',\n",
       "                                  'MSZoning', 'MasVnrType', 'MiscFeature',\n",
       "                                  'Neighborhood', 'RoofMatl', 'RoofStyle',\n",
       "                                  'SaleCondition', 'SaleType', 'Street',\n",
       "                                  'Utilities'])])</pre></div></div></div><div class=\"sk-parallel\"><div class=\"sk-parallel-item\"><div class=\"sk-item\"><div class=\"sk-label-container\"><div class=\"sk-label sk-toggleable\"><input class=\"sk-toggleable__control sk-hidden--visually\" id=\"557fe052-c052-4049-abbc-fd3ce95af108\" type=\"checkbox\" ><label class=\"sk-toggleable__label\" for=\"557fe052-c052-4049-abbc-fd3ce95af108\">pipeline-1</label><div class=\"sk-toggleable__content\"><pre><sklearn.compose._column_transformer.make_column_selector object at 0x7fa10223d340></pre></div></div></div><div class=\"sk-serial\"><div class=\"sk-item\"><div class=\"sk-serial\"><div class=\"sk-item\"><div class=\"sk-estimator sk-toggleable\"><input class=\"sk-toggleable__control sk-hidden--visually\" id=\"f7a6bd00-75e8-4a47-9d76-a35d73f6426e\" type=\"checkbox\" ><label class=\"sk-toggleable__label\" for=\"f7a6bd00-75e8-4a47-9d76-a35d73f6426e\">KNNImputer</label><div class=\"sk-toggleable__content\"><pre>KNNImputer()</pre></div></div></div><div class=\"sk-item\"><div class=\"sk-estimator sk-toggleable\"><input class=\"sk-toggleable__control sk-hidden--visually\" id=\"589600a4-91ff-4ace-9cf4-5bf169ced201\" type=\"checkbox\" ><label class=\"sk-toggleable__label\" for=\"589600a4-91ff-4ace-9cf4-5bf169ced201\">MinMaxScaler</label><div class=\"sk-toggleable__content\"><pre>MinMaxScaler()</pre></div></div></div></div></div></div></div></div><div class=\"sk-parallel-item\"><div class=\"sk-item\"><div class=\"sk-label-container\"><div class=\"sk-label sk-toggleable\"><input class=\"sk-toggleable__control sk-hidden--visually\" id=\"fde2d553-3600-4123-854f-7547b570b48a\" type=\"checkbox\" ><label class=\"sk-toggleable__label\" for=\"fde2d553-3600-4123-854f-7547b570b48a\">pipeline-2</label><div class=\"sk-toggleable__content\"><pre>['BsmtCond', 'BsmtExposure', 'BsmtFinType1', 'BsmtFinType2', 'BsmtQual', 'Electrical', 'ExterCond', 'ExterQual', 'Fence', 'FireplaceQu', 'Functional', 'GarageCond', 'GarageFinish', 'GarageQual', 'HeatingQC', 'KitchenQual', 'LandContour', 'LandSlope', 'LotShape', 'PavedDrive', 'PoolQC']</pre></div></div></div><div class=\"sk-serial\"><div class=\"sk-item\"><div class=\"sk-serial\"><div class=\"sk-item\"><div class=\"sk-estimator sk-toggleable\"><input class=\"sk-toggleable__control sk-hidden--visually\" id=\"dad71e99-0800-4222-9d08-bad76da4610f\" type=\"checkbox\" ><label class=\"sk-toggleable__label\" for=\"dad71e99-0800-4222-9d08-bad76da4610f\">SimpleImputer</label><div class=\"sk-toggleable__content\"><pre>SimpleImputer(fill_value='missing', strategy='constant')</pre></div></div></div><div class=\"sk-item\"><div class=\"sk-estimator sk-toggleable\"><input class=\"sk-toggleable__control sk-hidden--visually\" id=\"bcb51001-b5df-4dcb-ac97-557e286a09b1\" type=\"checkbox\" ><label class=\"sk-toggleable__label\" for=\"bcb51001-b5df-4dcb-ac97-557e286a09b1\">OrdinalEncoder</label><div class=\"sk-toggleable__content\"><pre>OrdinalEncoder(categories=[['missing', 'Po', 'Fa', 'TA', 'Gd'],\n",
       "                           ['missing', 'No', 'Mn', 'Av', 'Gd'],\n",
       "                           ['missing', 'Unf', 'LwQ', 'Rec', 'BLQ', 'ALQ',\n",
       "                            'GLQ'],\n",
       "                           ['missing', 'Unf', 'LwQ', 'Rec', 'BLQ', 'ALQ',\n",
       "                            'GLQ'],\n",
       "                           ['missing', 'Fa', 'TA', 'Gd', 'Ex'],\n",
       "                           ['missing', 'Mix', 'FuseP', 'FuseF', 'FuseA',\n",
       "                            'SBrkr'],\n",
       "                           ['missing', 'Po', 'Fa', 'TA', 'Gd', 'Ex'],\n",
       "                           ['missing', 'Fa', 'TA', 'Gd', 'Ex'],\n",
       "                           ['missing', '...\n",
       "                           ['missing', 'Unf', 'RFn', 'Fin'],\n",
       "                           ['missing', 'Po', 'Fa', 'TA', 'Gd', 'Ex'],\n",
       "                           ['missing', 'Po', 'Fa', 'TA', 'Gd', 'Ex'],\n",
       "                           ['missing', 'Fa', 'TA', 'Gd', 'Ex'],\n",
       "                           ['missing', 'Low', 'Bnk', 'HLS', 'Lvl'],\n",
       "                           ['missing', 'Sev', 'Mod', 'Gtl'],\n",
       "                           ['missing', 'IR3', 'IR2', 'IR1', 'Reg'],\n",
       "                           ['missing', 'N', 'P', 'Y'],\n",
       "                           ['missing', 'Fa', 'Gd', 'Ex']],\n",
       "               dtype=<class 'numpy.int64'>, handle_unknown='use_encoded_value',\n",
       "               unknown_value=-1)</pre></div></div></div><div class=\"sk-item\"><div class=\"sk-estimator sk-toggleable\"><input class=\"sk-toggleable__control sk-hidden--visually\" id=\"d93e53bb-fd31-4b5f-b1d6-a6ac87a2a644\" type=\"checkbox\" ><label class=\"sk-toggleable__label\" for=\"d93e53bb-fd31-4b5f-b1d6-a6ac87a2a644\">MinMaxScaler</label><div class=\"sk-toggleable__content\"><pre>MinMaxScaler()</pre></div></div></div></div></div></div></div></div><div class=\"sk-parallel-item\"><div class=\"sk-item\"><div class=\"sk-label-container\"><div class=\"sk-label sk-toggleable\"><input class=\"sk-toggleable__control sk-hidden--visually\" id=\"0b83007b-c265-437f-a8b7-7562b49cd24d\" type=\"checkbox\" ><label class=\"sk-toggleable__label\" for=\"0b83007b-c265-437f-a8b7-7562b49cd24d\">pipeline-3</label><div class=\"sk-toggleable__content\"><pre>['Alley', 'BldgType', 'CentralAir', 'Condition1', 'Condition2', 'Exterior1st', 'Exterior2nd', 'Foundation', 'GarageType', 'Heating', 'HouseStyle', 'LotConfig', 'MSZoning', 'MasVnrType', 'MiscFeature', 'Neighborhood', 'RoofMatl', 'RoofStyle', 'SaleCondition', 'SaleType', 'Street', 'Utilities']</pre></div></div></div><div class=\"sk-serial\"><div class=\"sk-item\"><div class=\"sk-serial\"><div class=\"sk-item\"><div class=\"sk-estimator sk-toggleable\"><input class=\"sk-toggleable__control sk-hidden--visually\" id=\"81741ffe-9eea-442a-b5cb-d3243092d46d\" type=\"checkbox\" ><label class=\"sk-toggleable__label\" for=\"81741ffe-9eea-442a-b5cb-d3243092d46d\">SimpleImputer</label><div class=\"sk-toggleable__content\"><pre>SimpleImputer(strategy='most_frequent')</pre></div></div></div><div class=\"sk-item\"><div class=\"sk-estimator sk-toggleable\"><input class=\"sk-toggleable__control sk-hidden--visually\" id=\"dd420620-977a-4883-8a20-fd521e5b8407\" type=\"checkbox\" ><label class=\"sk-toggleable__label\" for=\"dd420620-977a-4883-8a20-fd521e5b8407\">OneHotEncoder</label><div class=\"sk-toggleable__content\"><pre>OneHotEncoder(handle_unknown='ignore')</pre></div></div></div></div></div></div></div></div></div></div></div></div>"
      ],
      "text/plain": [
       "ColumnTransformer(transformers=[('pipeline-1',\n",
       "                                 Pipeline(steps=[('knnimputer', KNNImputer()),\n",
       "                                                 ('minmaxscaler',\n",
       "                                                  MinMaxScaler())]),\n",
       "                                 <sklearn.compose._column_transformer.make_column_selector object at 0x7fa10223d340>),\n",
       "                                ('pipeline-2',\n",
       "                                 Pipeline(steps=[('simpleimputer',\n",
       "                                                  SimpleImputer(fill_value='missing',\n",
       "                                                                strategy='constant')),\n",
       "                                                 ('ordinalencoder',\n",
       "                                                  OrdinalEncoder(categor...\n",
       "                                                  SimpleImputer(strategy='most_frequent')),\n",
       "                                                 ('onehotencoder',\n",
       "                                                  OneHotEncoder(handle_unknown='ignore'))]),\n",
       "                                 ['Alley', 'BldgType', 'CentralAir',\n",
       "                                  'Condition1', 'Condition2', 'Exterior1st',\n",
       "                                  'Exterior2nd', 'Foundation', 'GarageType',\n",
       "                                  'Heating', 'HouseStyle', 'LotConfig',\n",
       "                                  'MSZoning', 'MasVnrType', 'MiscFeature',\n",
       "                                  'Neighborhood', 'RoofMatl', 'RoofStyle',\n",
       "                                  'SaleCondition', 'SaleType', 'Street',\n",
       "                                  'Utilities'])])"
      ]
     },
     "execution_count": 25,
     "metadata": {},
     "output_type": "execute_result"
    }
   ],
   "source": [
    "# make a column transformer to pipe the 3 preprocs(feat_ordinal, feat_numerical and feat_nominal)\n",
    "\n",
    "preproc = make_column_transformer(\n",
    "    (preproc_numerical, make_column_selector(dtype_include=['int64', 'float64'])),\n",
    "    (preproc_ordinal, feat_ordinal),\n",
    "    (preproc_norminal, feat_norminal),\n",
    "    remainder='drop')\n",
    "\n",
    "preproc"
   ]
  },
  {
   "cell_type": "code",
   "execution_count": 26,
   "metadata": {},
   "outputs": [
    {
     "data": {
      "text/plain": [
       "(1460, 216)"
      ]
     },
     "execution_count": 26,
     "metadata": {},
     "output_type": "execute_result"
    }
   ],
   "source": [
    "preproc.fit_transform(X).shape"
   ]
  },
  {
   "cell_type": "markdown",
   "metadata": {},
   "source": [
    "### Target engineering"
   ]
  },
  {
   "cell_type": "markdown",
   "metadata": {},
   "source": [
    "❓ We are asked to minimize the RMS**L**E. Why don't we transform our target to directly predict its log?\n",
    "- Check-out historgram of your target `y`. Normally distributed variables should be easier to predict with linear models. \n",
    "- Create `y_log` and your new performance metrics\n",
    "- Don't forget at the end to take the exponential of your predictions!"
   ]
  },
  {
   "cell_type": "code",
   "execution_count": 27,
   "metadata": {
    "ExecuteTime": {
     "end_time": "2021-02-02T15:51:52.314746Z",
     "start_time": "2021-02-02T15:51:51.942808Z"
    }
   },
   "outputs": [
    {
     "data": {
      "text/plain": [
       "<AxesSubplot:xlabel='SalePrice', ylabel='Count'>"
      ]
     },
     "execution_count": 27,
     "metadata": {},
     "output_type": "execute_result"
    },
    {
     "data": {
      "image/png": "[encoded data removed]",
      "text/plain": [
       "<Figure size 1080x216 with 2 Axes>"
      ]
     },
     "metadata": {
      "needs_background": "light"
     },
     "output_type": "display_data"
    }
   ],
   "source": [
    "y_log = np.log(y)\n",
    "\n",
    "plt.figure(figsize=(15,3))\n",
    "\n",
    "plt.subplot(1,2,1)\n",
    "sns.histplot(y)\n",
    "\n",
    "plt.subplot(1,2,2)\n",
    "sns.histplot(y_log, color='green')"
   ]
  },
  {
   "cell_type": "code",
   "execution_count": 28,
   "metadata": {},
   "outputs": [],
   "source": [
    "from sklearn.metrics import mean_squared_error\n",
    "rmse = make_scorer(lambda y_true, y_pred: mean_squared_error(y_true, y_pred)**0.5)\n",
    "\n",
    "# Create new scorer to maximize\n",
    "rmse_neg = make_scorer(lambda y_true, y_pred: -1 * mean_squared_error(y_true, y_pred)**0.5)"
   ]
  },
  {
   "cell_type": "markdown",
   "metadata": {},
   "source": [
    "### Statistical Feature Selection"
   ]
  },
  {
   "cell_type": "markdown",
   "metadata": {},
   "source": [
    "Our goal is to remove the least interesting features, to limit overfitting and shorten training time.  \n",
    "Choose one of the 3 options below"
   ]
  },
  {
   "cell_type": "markdown",
   "metadata": {
    "heading_collapsed": true
   },
   "source": [
    "#### (option 1 - recommended) univariate feature selection based on relationship with target `y`"
   ]
  },
  {
   "cell_type": "markdown",
   "metadata": {
    "hidden": true
   },
   "source": [
    "❓ We will use sklearn's [feature selection](https://scikit-learn.org/stable/modules/classes.html#module-sklearn.feature_selection) tools directly in your pipeline.\n",
    "- Add a `SelectPercentile` filter (coupled with `mutual_info_regression` for the statistical test to use) at the end of your `preproc` pipeline.\n",
    "- This will filter-out features that, - taken individually - least explain your target!  "
   ]
  },
  {
   "cell_type": "code",
   "execution_count": 29,
   "metadata": {
    "hidden": true,
    "scrolled": true
   },
   "outputs": [
    {
     "data": {
      "text/html": [
       "<style>#sk-8dd45617-a1b5-4fb7-8a5f-e303e2b55bac {color: black;background-color: white;}#sk-8dd45617-a1b5-4fb7-8a5f-e303e2b55bac pre{padding: 0;}#sk-8dd45617-a1b5-4fb7-8a5f-e303e2b55bac div.sk-toggleable {background-color: white;}#sk-8dd45617-a1b5-4fb7-8a5f-e303e2b55bac label.sk-toggleable__label {cursor: pointer;display: block;width: 100%;margin-bottom: 0;padding: 0.3em;box-sizing: border-box;text-align: center;}#sk-8dd45617-a1b5-4fb7-8a5f-e303e2b55bac div.sk-toggleable__content {max-height: 0;max-width: 0;overflow: hidden;text-align: left;background-color: #f0f8ff;}#sk-8dd45617-a1b5-4fb7-8a5f-e303e2b55bac div.sk-toggleable__content pre {margin: 0.2em;color: black;border-radius: 0.25em;background-color: #f0f8ff;}#sk-8dd45617-a1b5-4fb7-8a5f-e303e2b55bac input.sk-toggleable__control:checked~div.sk-toggleable__content {max-height: 200px;max-width: 100%;overflow: auto;}#sk-8dd45617-a1b5-4fb7-8a5f-e303e2b55bac div.sk-estimator input.sk-toggleable__control:checked~label.sk-toggleable__label {background-color: #d4ebff;}#sk-8dd45617-a1b5-4fb7-8a5f-e303e2b55bac div.sk-label input.sk-toggleable__control:checked~label.sk-toggleable__label {background-color: #d4ebff;}#sk-8dd45617-a1b5-4fb7-8a5f-e303e2b55bac input.sk-hidden--visually {border: 0;clip: rect(1px 1px 1px 1px);clip: rect(1px, 1px, 1px, 1px);height: 1px;margin: -1px;overflow: hidden;padding: 0;position: absolute;width: 1px;}#sk-8dd45617-a1b5-4fb7-8a5f-e303e2b55bac div.sk-estimator {font-family: monospace;background-color: #f0f8ff;border: 1px dotted black;border-radius: 0.25em;box-sizing: border-box;margin-bottom: 0.5em;}#sk-8dd45617-a1b5-4fb7-8a5f-e303e2b55bac div.sk-estimator:hover {background-color: #d4ebff;}#sk-8dd45617-a1b5-4fb7-8a5f-e303e2b55bac div.sk-parallel-item::after {content: \"\";width: 100%;border-bottom: 1px solid gray;flex-grow: 1;}#sk-8dd45617-a1b5-4fb7-8a5f-e303e2b55bac div.sk-label:hover label.sk-toggleable__label {background-color: #d4ebff;}#sk-8dd45617-a1b5-4fb7-8a5f-e303e2b55bac div.sk-serial::before {content: \"\";position: absolute;border-left: 1px solid gray;box-sizing: border-box;top: 2em;bottom: 0;left: 50%;}#sk-8dd45617-a1b5-4fb7-8a5f-e303e2b55bac div.sk-serial {display: flex;flex-direction: column;align-items: center;background-color: white;padding-right: 0.2em;padding-left: 0.2em;}#sk-8dd45617-a1b5-4fb7-8a5f-e303e2b55bac div.sk-item {z-index: 1;}#sk-8dd45617-a1b5-4fb7-8a5f-e303e2b55bac div.sk-parallel {display: flex;align-items: stretch;justify-content: center;background-color: white;}#sk-8dd45617-a1b5-4fb7-8a5f-e303e2b55bac div.sk-parallel::before {content: \"\";position: absolute;border-left: 1px solid gray;box-sizing: border-box;top: 2em;bottom: 0;left: 50%;}#sk-8dd45617-a1b5-4fb7-8a5f-e303e2b55bac div.sk-parallel-item {display: flex;flex-direction: column;position: relative;background-color: white;}#sk-8dd45617-a1b5-4fb7-8a5f-e303e2b55bac div.sk-parallel-item:first-child::after {align-self: flex-end;width: 50%;}#sk-8dd45617-a1b5-4fb7-8a5f-e303e2b55bac div.sk-parallel-item:last-child::after {align-self: flex-start;width: 50%;}#sk-8dd45617-a1b5-4fb7-8a5f-e303e2b55bac div.sk-parallel-item:only-child::after {width: 0;}#sk-8dd45617-a1b5-4fb7-8a5f-e303e2b55bac div.sk-dashed-wrapped {border: 1px dashed gray;margin: 0 0.4em 0.5em 0.4em;box-sizing: border-box;padding-bottom: 0.4em;background-color: white;position: relative;}#sk-8dd45617-a1b5-4fb7-8a5f-e303e2b55bac div.sk-label label {font-family: monospace;font-weight: bold;background-color: white;display: inline-block;line-height: 1.2em;}#sk-8dd45617-a1b5-4fb7-8a5f-e303e2b55bac div.sk-label-container {position: relative;z-index: 2;text-align: center;}#sk-8dd45617-a1b5-4fb7-8a5f-e303e2b55bac div.sk-container {display: inline-block;position: relative;}</style><div id=\"sk-8dd45617-a1b5-4fb7-8a5f-e303e2b55bac\" class\"sk-top-container\"><div class=\"sk-container\"><div class=\"sk-item sk-dashed-wrapped\"><div class=\"sk-label-container\"><div class=\"sk-label sk-toggleable\"><input class=\"sk-toggleable__control sk-hidden--visually\" id=\"2ba78f48-de45-4d51-82f3-8bbc0bf2e26b\" type=\"checkbox\" ><label class=\"sk-toggleable__label\" for=\"2ba78f48-de45-4d51-82f3-8bbc0bf2e26b\">Pipeline</label><div class=\"sk-toggleable__content\"><pre>Pipeline(steps=[('columntransformer',\n",
       "                 ColumnTransformer(transformers=[('pipeline-1',\n",
       "                                                  Pipeline(steps=[('knnimputer',\n",
       "                                                                   KNNImputer()),\n",
       "                                                                  ('minmaxscaler',\n",
       "                                                                   MinMaxScaler())]),\n",
       "                                                  <sklearn.compose._column_transformer.make_column_selector object at 0x7fa1000878e0>),\n",
       "                                                 ('pipeline-2',\n",
       "                                                  Pipeline(steps=[('simpleimputer',\n",
       "                                                                   SimpleImputer(fill_value='missing',\n",
       "                                                                                 strategy='constant')),\n",
       "                                                                  ('o...\n",
       "                                                   'CentralAir', 'Condition1',\n",
       "                                                   'Condition2', 'Exterior1st',\n",
       "                                                   'Exterior2nd', 'Foundation',\n",
       "                                                   'GarageType', 'Heating',\n",
       "                                                   'HouseStyle', 'LotConfig',\n",
       "                                                   'MSZoning', 'MasVnrType',\n",
       "                                                   'MiscFeature',\n",
       "                                                   'Neighborhood', 'RoofMatl',\n",
       "                                                   'RoofStyle', 'SaleCondition',\n",
       "                                                   'SaleType', 'Street',\n",
       "                                                   'Utilities'])])),\n",
       "                ('selectpercentile',\n",
       "                 SelectPercentile(percentile=50,\n",
       "                                  score_func=<function mutual_info_regression at 0x7fa100014e50>))])</pre></div></div></div><div class=\"sk-serial\"><div class=\"sk-item sk-dashed-wrapped\"><div class=\"sk-label-container\"><div class=\"sk-label sk-toggleable\"><input class=\"sk-toggleable__control sk-hidden--visually\" id=\"bd498ce2-16eb-486c-9b2c-8eb397ac2277\" type=\"checkbox\" ><label class=\"sk-toggleable__label\" for=\"bd498ce2-16eb-486c-9b2c-8eb397ac2277\">columntransformer: ColumnTransformer</label><div class=\"sk-toggleable__content\"><pre>ColumnTransformer(transformers=[('pipeline-1',\n",
       "                                 Pipeline(steps=[('knnimputer', KNNImputer()),\n",
       "                                                 ('minmaxscaler',\n",
       "                                                  MinMaxScaler())]),\n",
       "                                 <sklearn.compose._column_transformer.make_column_selector object at 0x7fa1000878e0>),\n",
       "                                ('pipeline-2',\n",
       "                                 Pipeline(steps=[('simpleimputer',\n",
       "                                                  SimpleImputer(fill_value='missing',\n",
       "                                                                strategy='constant')),\n",
       "                                                 ('ordinalencoder',\n",
       "                                                  OrdinalEncoder(categor...\n",
       "                                                  SimpleImputer(strategy='most_frequent')),\n",
       "                                                 ('onehotencoder',\n",
       "                                                  OneHotEncoder(handle_unknown='ignore'))]),\n",
       "                                 ['Alley', 'BldgType', 'CentralAir',\n",
       "                                  'Condition1', 'Condition2', 'Exterior1st',\n",
       "                                  'Exterior2nd', 'Foundation', 'GarageType',\n",
       "                                  'Heating', 'HouseStyle', 'LotConfig',\n",
       "                                  'MSZoning', 'MasVnrType', 'MiscFeature',\n",
       "                                  'Neighborhood', 'RoofMatl', 'RoofStyle',\n",
       "                                  'SaleCondition', 'SaleType', 'Street',\n",
       "                                  'Utilities'])])</pre></div></div></div><div class=\"sk-parallel\"><div class=\"sk-parallel-item\"><div class=\"sk-item\"><div class=\"sk-label-container\"><div class=\"sk-label sk-toggleable\"><input class=\"sk-toggleable__control sk-hidden--visually\" id=\"f32b93ef-0c24-464e-b032-4653ee8ae479\" type=\"checkbox\" ><label class=\"sk-toggleable__label\" for=\"f32b93ef-0c24-464e-b032-4653ee8ae479\">pipeline-1</label><div class=\"sk-toggleable__content\"><pre><sklearn.compose._column_transformer.make_column_selector object at 0x7fa1000878e0></pre></div></div></div><div class=\"sk-serial\"><div class=\"sk-item\"><div class=\"sk-serial\"><div class=\"sk-item\"><div class=\"sk-estimator sk-toggleable\"><input class=\"sk-toggleable__control sk-hidden--visually\" id=\"7a9c6aad-987c-4526-b4aa-f880985fb4d9\" type=\"checkbox\" ><label class=\"sk-toggleable__label\" for=\"7a9c6aad-987c-4526-b4aa-f880985fb4d9\">KNNImputer</label><div class=\"sk-toggleable__content\"><pre>KNNImputer()</pre></div></div></div><div class=\"sk-item\"><div class=\"sk-estimator sk-toggleable\"><input class=\"sk-toggleable__control sk-hidden--visually\" id=\"bf17f558-fff6-4241-bf7c-cb997728feb8\" type=\"checkbox\" ><label class=\"sk-toggleable__label\" for=\"bf17f558-fff6-4241-bf7c-cb997728feb8\">MinMaxScaler</label><div class=\"sk-toggleable__content\"><pre>MinMaxScaler()</pre></div></div></div></div></div></div></div></div><div class=\"sk-parallel-item\"><div class=\"sk-item\"><div class=\"sk-label-container\"><div class=\"sk-label sk-toggleable\"><input class=\"sk-toggleable__control sk-hidden--visually\" id=\"5886db90-5b70-4112-a87f-f67b39b49957\" type=\"checkbox\" ><label class=\"sk-toggleable__label\" for=\"5886db90-5b70-4112-a87f-f67b39b49957\">pipeline-2</label><div class=\"sk-toggleable__content\"><pre>['BsmtCond', 'BsmtExposure', 'BsmtFinType1', 'BsmtFinType2', 'BsmtQual', 'Electrical', 'ExterCond', 'ExterQual', 'Fence', 'FireplaceQu', 'Functional', 'GarageCond', 'GarageFinish', 'GarageQual', 'HeatingQC', 'KitchenQual', 'LandContour', 'LandSlope', 'LotShape', 'PavedDrive', 'PoolQC']</pre></div></div></div><div class=\"sk-serial\"><div class=\"sk-item\"><div class=\"sk-serial\"><div class=\"sk-item\"><div class=\"sk-estimator sk-toggleable\"><input class=\"sk-toggleable__control sk-hidden--visually\" id=\"8d662e8c-39bf-4649-a667-8cffdddaa513\" type=\"checkbox\" ><label class=\"sk-toggleable__label\" for=\"8d662e8c-39bf-4649-a667-8cffdddaa513\">SimpleImputer</label><div class=\"sk-toggleable__content\"><pre>SimpleImputer(fill_value='missing', strategy='constant')</pre></div></div></div><div class=\"sk-item\"><div class=\"sk-estimator sk-toggleable\"><input class=\"sk-toggleable__control sk-hidden--visually\" id=\"680af7c2-603e-4cff-82e2-db2e1bfdf281\" type=\"checkbox\" ><label class=\"sk-toggleable__label\" for=\"680af7c2-603e-4cff-82e2-db2e1bfdf281\">OrdinalEncoder</label><div class=\"sk-toggleable__content\"><pre>OrdinalEncoder(categories=[['missing', 'Po', 'Fa', 'TA', 'Gd'],\n",
       "                           ['missing', 'No', 'Mn', 'Av', 'Gd'],\n",
       "                           ['missing', 'Unf', 'LwQ', 'Rec', 'BLQ', 'ALQ',\n",
       "                            'GLQ'],\n",
       "                           ['missing', 'Unf', 'LwQ', 'Rec', 'BLQ', 'ALQ',\n",
       "                            'GLQ'],\n",
       "                           ['missing', 'Fa', 'TA', 'Gd', 'Ex'],\n",
       "                           ['missing', 'Mix', 'FuseP', 'FuseF', 'FuseA',\n",
       "                            'SBrkr'],\n",
       "                           ['missing', 'Po', 'Fa', 'TA', 'Gd', 'Ex'],\n",
       "                           ['missing', 'Fa', 'TA', 'Gd', 'Ex'],\n",
       "                           ['missing', '...\n",
       "                           ['missing', 'Unf', 'RFn', 'Fin'],\n",
       "                           ['missing', 'Po', 'Fa', 'TA', 'Gd', 'Ex'],\n",
       "                           ['missing', 'Po', 'Fa', 'TA', 'Gd', 'Ex'],\n",
       "                           ['missing', 'Fa', 'TA', 'Gd', 'Ex'],\n",
       "                           ['missing', 'Low', 'Bnk', 'HLS', 'Lvl'],\n",
       "                           ['missing', 'Sev', 'Mod', 'Gtl'],\n",
       "                           ['missing', 'IR3', 'IR2', 'IR1', 'Reg'],\n",
       "                           ['missing', 'N', 'P', 'Y'],\n",
       "                           ['missing', 'Fa', 'Gd', 'Ex']],\n",
       "               dtype=<class 'numpy.int64'>, handle_unknown='use_encoded_value',\n",
       "               unknown_value=-1)</pre></div></div></div><div class=\"sk-item\"><div class=\"sk-estimator sk-toggleable\"><input class=\"sk-toggleable__control sk-hidden--visually\" id=\"3e7ad38b-3c05-451d-947b-8892f767a5f4\" type=\"checkbox\" ><label class=\"sk-toggleable__label\" for=\"3e7ad38b-3c05-451d-947b-8892f767a5f4\">MinMaxScaler</label><div class=\"sk-toggleable__content\"><pre>MinMaxScaler()</pre></div></div></div></div></div></div></div></div><div class=\"sk-parallel-item\"><div class=\"sk-item\"><div class=\"sk-label-container\"><div class=\"sk-label sk-toggleable\"><input class=\"sk-toggleable__control sk-hidden--visually\" id=\"361b1cbd-c905-4233-91cb-1525c3a26617\" type=\"checkbox\" ><label class=\"sk-toggleable__label\" for=\"361b1cbd-c905-4233-91cb-1525c3a26617\">pipeline-3</label><div class=\"sk-toggleable__content\"><pre>['Alley', 'BldgType', 'CentralAir', 'Condition1', 'Condition2', 'Exterior1st', 'Exterior2nd', 'Foundation', 'GarageType', 'Heating', 'HouseStyle', 'LotConfig', 'MSZoning', 'MasVnrType', 'MiscFeature', 'Neighborhood', 'RoofMatl', 'RoofStyle', 'SaleCondition', 'SaleType', 'Street', 'Utilities']</pre></div></div></div><div class=\"sk-serial\"><div class=\"sk-item\"><div class=\"sk-serial\"><div class=\"sk-item\"><div class=\"sk-estimator sk-toggleable\"><input class=\"sk-toggleable__control sk-hidden--visually\" id=\"aefb875e-1b63-41bf-b485-1768d4d7eb5a\" type=\"checkbox\" ><label class=\"sk-toggleable__label\" for=\"aefb875e-1b63-41bf-b485-1768d4d7eb5a\">SimpleImputer</label><div class=\"sk-toggleable__content\"><pre>SimpleImputer(strategy='most_frequent')</pre></div></div></div><div class=\"sk-item\"><div class=\"sk-estimator sk-toggleable\"><input class=\"sk-toggleable__control sk-hidden--visually\" id=\"3db04b81-f48e-4bad-9d46-ee8b2045c259\" type=\"checkbox\" ><label class=\"sk-toggleable__label\" for=\"3db04b81-f48e-4bad-9d46-ee8b2045c259\">OneHotEncoder</label><div class=\"sk-toggleable__content\"><pre>OneHotEncoder(handle_unknown='ignore')</pre></div></div></div></div></div></div></div></div></div></div><div class=\"sk-item\"><div class=\"sk-estimator sk-toggleable\"><input class=\"sk-toggleable__control sk-hidden--visually\" id=\"3fc8db8f-0f96-4e59-bee9-2baaf2ab83f5\" type=\"checkbox\" ><label class=\"sk-toggleable__label\" for=\"3fc8db8f-0f96-4e59-bee9-2baaf2ab83f5\">SelectPercentile</label><div class=\"sk-toggleable__content\"><pre>SelectPercentile(percentile=50,\n",
       "                 score_func=<function mutual_info_regression at 0x7fa100014e50>)</pre></div></div></div></div></div></div></div>"
      ],
      "text/plain": [
       "Pipeline(steps=[('columntransformer',\n",
       "                 ColumnTransformer(transformers=[('pipeline-1',\n",
       "                                                  Pipeline(steps=[('knnimputer',\n",
       "                                                                   KNNImputer()),\n",
       "                                                                  ('minmaxscaler',\n",
       "                                                                   MinMaxScaler())]),\n",
       "                                                  <sklearn.compose._column_transformer.make_column_selector object at 0x7fa1000878e0>),\n",
       "                                                 ('pipeline-2',\n",
       "                                                  Pipeline(steps=[('simpleimputer',\n",
       "                                                                   SimpleImputer(fill_value='missing',\n",
       "                                                                                 strategy='constant')),\n",
       "                                                                  ('o...\n",
       "                                                   'CentralAir', 'Condition1',\n",
       "                                                   'Condition2', 'Exterior1st',\n",
       "                                                   'Exterior2nd', 'Foundation',\n",
       "                                                   'GarageType', 'Heating',\n",
       "                                                   'HouseStyle', 'LotConfig',\n",
       "                                                   'MSZoning', 'MasVnrType',\n",
       "                                                   'MiscFeature',\n",
       "                                                   'Neighborhood', 'RoofMatl',\n",
       "                                                   'RoofStyle', 'SaleCondition',\n",
       "                                                   'SaleType', 'Street',\n",
       "                                                   'Utilities'])])),\n",
       "                ('selectpercentile',\n",
       "                 SelectPercentile(percentile=50,\n",
       "                                  score_func=<function mutual_info_regression at 0x7fa100014e50>))])"
      ]
     },
     "execution_count": 29,
     "metadata": {},
     "output_type": "execute_result"
    }
   ],
   "source": [
    "from sklearn.feature_selection import SelectPercentile, mutual_info_regression\n",
    "\n",
    "preproc_transformer = make_column_transformer(\n",
    "    (preproc_numerical, make_column_selector(dtype_include=['int64', 'float64'])),\n",
    "    (preproc_ordinal, feat_ordinal),\n",
    "    (preproc_norminal, feat_norminal),\n",
    "    remainder='drop')\n",
    "\n",
    "preproc_selector = SelectPercentile(\n",
    "    mutual_info_regression,\n",
    "    percentile=50 # keep only 50% of all features\n",
    ")\n",
    "\n",
    "preproc = make_pipeline(\n",
    "    preproc_transformer,\n",
    "    preproc_selector\n",
    ")\n",
    "\n",
    "preproc"
   ]
  },
  {
   "cell_type": "code",
   "execution_count": 30,
   "metadata": {
    "hidden": true
   },
   "outputs": [
    {
     "data": {
      "text/plain": [
       "(1460, 108)"
      ]
     },
     "execution_count": 30,
     "metadata": {},
     "output_type": "execute_result"
    }
   ],
   "source": [
    "preproc.fit_transform(X, y).shape"
   ]
  },
  {
   "cell_type": "markdown",
   "metadata": {},
   "source": [
    "#### (option 2) multivariate feature selection based their common relationship with target `y`"
   ]
  },
  {
   "cell_type": "markdown",
   "metadata": {},
   "source": [
    "❓ We will use sklearn's [feature selection](https://scikit-learn.org/stable/modules/classes.html#module-sklearn.feature_selection) tools directly in your pipeline.\n",
    "- Add a `SequentialFeatureSelector` at the end of your `preproc` pipeline.\n",
    "- This will recursively filter-out least important features according to `feature_permutation` importance!  \n",
    "- Probably overkill for such small dataset!"
   ]
  },
  {
   "cell_type": "code",
   "execution_count": 31,
   "metadata": {},
   "outputs": [],
   "source": [
    "# # TODO: Create a Solution\n",
    "# from sklearn.feature_selection import SequentialFeatureSelector\n",
    "\n",
    "# preproc_2 = make_pipeline(\n",
    "#     SequentialFeatureSelector(preproc, scoring=rmsle)\n",
    "# )\n",
    "\n",
    "# preproc_2"
   ]
  },
  {
   "cell_type": "markdown",
   "metadata": {},
   "source": [
    "#### (option 3) Filter based only on the properties of `X` ?"
   ]
  },
  {
   "cell_type": "markdown",
   "metadata": {},
   "source": [
    "❓ Use Pearson's correlation combined with a heatmap...\n",
    "- to check visually whether some **numerical** features almost entirely explain others. \n",
    "- Then, create a \"filter\" in your pipeline that removes any correlated below a certain threshold"
   ]
  },
  {
   "cell_type": "code",
   "execution_count": 32,
   "metadata": {
    "ExecuteTime": {
     "end_time": "2021-02-02T15:51:54.086492Z",
     "start_time": "2021-02-02T15:51:54.084287Z"
    }
   },
   "outputs": [
    {
     "data": {
      "text/plain": [
       "<AxesSubplot:>"
      ]
     },
     "execution_count": 32,
     "metadata": {},
     "output_type": "execute_result"
    },
    {
     "data": {
      "image/png": "[encoded data removed]",
      "text/plain": [
       "<Figure size 432x288 with 2 Axes>"
      ]
     },
     "metadata": {
      "needs_background": "light"
     },
     "output_type": "display_data"
    }
   ],
   "source": [
    "corr_num = X[feat_numerical].corr()\n",
    "sns.heatmap(corr_num, cmap='coolwarm')"
   ]
  },
  {
   "cell_type": "code",
   "execution_count": 33,
   "metadata": {},
   "outputs": [],
   "source": [
    "# TODO(solution): Incorporate filtering into the pipeline by creating custom encoder class"
   ]
  },
  {
   "cell_type": "markdown",
   "metadata": {},
   "source": [
    "❓ Use [Spearman's rank correlation](https://en.wikipedia.org/wiki/Spearman%27s_rank_correlation_coefficient) combined with a heatmap...\n",
    "- to whether some **ordinally encoded** features are almost entirely \"ordered\" similarily than others\n",
    "- Then, create a \"filter\" in your pipeline that removes any ordinal features correlated below a certain threshold"
   ]
  },
  {
   "cell_type": "code",
   "execution_count": 34,
   "metadata": {
    "ExecuteTime": {
     "end_time": "2021-02-02T15:51:54.378627Z",
     "start_time": "2021-02-02T15:51:54.376048Z"
    }
   },
   "outputs": [
    {
     "data": {
      "text/plain": [
       "<AxesSubplot:>"
      ]
     },
     "execution_count": 34,
     "metadata": {},
     "output_type": "execute_result"
    },
    {
     "data": {
      "image/png": "[encoded data removed]",
      "text/plain": [
       "<Figure size 432x288 with 2 Axes>"
      ]
     },
     "metadata": {
      "needs_background": "light"
     },
     "output_type": "display_data"
    }
   ],
   "source": [
    "X_ordinally_encoded = pd.DataFrame(preproc_ordinal.fit_transform(X[feat_ordinal]))\n",
    "sns.heatmap(X_ordinally_encoded.corr(method=\"spearman\"), cmap='coolwarm')"
   ]
  },
  {
   "cell_type": "markdown",
   "metadata": {},
   "source": [
    "❓ Another way to filter out feature relies solely on removing those with the lowest variance.  \n",
    "- Think about it: a feature which only takes one value is useless (and has a variance of 0).  \n",
    "- Try to add a `VarianceThreshold` to the end of your pipeline"
   ]
  },
  {
   "cell_type": "code",
   "execution_count": 35,
   "metadata": {
    "ExecuteTime": {
     "end_time": "2021-02-02T15:51:55.855088Z",
     "start_time": "2021-02-02T15:51:55.853045Z"
    }
   },
   "outputs": [
    {
     "data": {
      "text/plain": [
       "Text(0, 0.5, 'Number of Feature Remaining')"
      ]
     },
     "execution_count": 35,
     "metadata": {},
     "output_type": "execute_result"
    },
    {
     "data": {
      "image/png": "[encoded data removed]",
      "text/plain": [
       "<Figure size 432x288 with 1 Axes>"
      ]
     },
     "metadata": {
      "needs_background": "light"
     },
     "output_type": "display_data"
    }
   ],
   "source": [
    "from sklearn.feature_selection import VarianceThreshold\n",
    "\n",
    "def number_feature_remaining(cutoff=0):\n",
    "    preproc_transformer = make_column_transformer(\n",
    "        (preproc_numerical, make_column_selector(dtype_include=('int64', 'float64'))),\n",
    "        (preproc_ordinal, feat_ordinal),\n",
    "        (preproc_norminal, feat_norminal),\n",
    "        remainder='drop')\n",
    "    \n",
    "    preproc_selector = VarianceThreshold(cutoff)\n",
    "    \n",
    "    preproc = make_pipeline(\n",
    "        preproc_transformer,\n",
    "        preproc_selector)\n",
    "    \n",
    "    return preproc.fit_transform(X).shape[1]\n",
    "\n",
    "cutoff_values = np.arange(0, 0.2, 0.01)\n",
    "plt.plot(cutoff_values, [number_feature_remaining(t) for t in cutoff_values], marker='x')\n",
    "plt.xlabel(\"feature variance cotoff\")\n",
    "plt.ylabel('Number of Feature Remaining')"
   ]
  },
  {
   "cell_type": "code",
   "execution_count": 36,
   "metadata": {},
   "outputs": [
    {
     "data": {
      "text/html": [
       "<div>\n",
       "<style scoped>\n",
       "    .dataframe tbody tr th:only-of-type {\n",
       "        vertical-align: middle;\n",
       "    }\n",
       "\n",
       "    .dataframe tbody tr th {\n",
       "        vertical-align: top;\n",
       "    }\n",
       "\n",
       "    .dataframe thead th {\n",
       "        text-align: right;\n",
       "    }\n",
       "</style>\n",
       "<table border=\"1\" class=\"dataframe\">\n",
       "  <thead>\n",
       "    <tr style=\"text-align: right;\">\n",
       "      <th></th>\n",
       "      <th>0</th>\n",
       "      <th>1</th>\n",
       "    </tr>\n",
       "  </thead>\n",
       "  <tbody>\n",
       "    <tr>\n",
       "      <th>0</th>\n",
       "      <td>0.00</td>\n",
       "      <td>216</td>\n",
       "    </tr>\n",
       "    <tr>\n",
       "      <th>1</th>\n",
       "      <td>0.01</td>\n",
       "      <td>137</td>\n",
       "    </tr>\n",
       "    <tr>\n",
       "      <th>2</th>\n",
       "      <td>0.02</td>\n",
       "      <td>103</td>\n",
       "    </tr>\n",
       "    <tr>\n",
       "      <th>3</th>\n",
       "      <td>0.03</td>\n",
       "      <td>85</td>\n",
       "    </tr>\n",
       "    <tr>\n",
       "      <th>4</th>\n",
       "      <td>0.04</td>\n",
       "      <td>70</td>\n",
       "    </tr>\n",
       "    <tr>\n",
       "      <th>5</th>\n",
       "      <td>0.05</td>\n",
       "      <td>58</td>\n",
       "    </tr>\n",
       "    <tr>\n",
       "      <th>6</th>\n",
       "      <td>0.06</td>\n",
       "      <td>53</td>\n",
       "    </tr>\n",
       "    <tr>\n",
       "      <th>7</th>\n",
       "      <td>0.07</td>\n",
       "      <td>43</td>\n",
       "    </tr>\n",
       "    <tr>\n",
       "      <th>8</th>\n",
       "      <td>0.08</td>\n",
       "      <td>37</td>\n",
       "    </tr>\n",
       "    <tr>\n",
       "      <th>9</th>\n",
       "      <td>0.09</td>\n",
       "      <td>35</td>\n",
       "    </tr>\n",
       "    <tr>\n",
       "      <th>10</th>\n",
       "      <td>0.10</td>\n",
       "      <td>31</td>\n",
       "    </tr>\n",
       "    <tr>\n",
       "      <th>11</th>\n",
       "      <td>0.11</td>\n",
       "      <td>31</td>\n",
       "    </tr>\n",
       "    <tr>\n",
       "      <th>12</th>\n",
       "      <td>0.12</td>\n",
       "      <td>26</td>\n",
       "    </tr>\n",
       "    <tr>\n",
       "      <th>13</th>\n",
       "      <td>0.13</td>\n",
       "      <td>19</td>\n",
       "    </tr>\n",
       "    <tr>\n",
       "      <th>14</th>\n",
       "      <td>0.14</td>\n",
       "      <td>16</td>\n",
       "    </tr>\n",
       "    <tr>\n",
       "      <th>15</th>\n",
       "      <td>0.15</td>\n",
       "      <td>14</td>\n",
       "    </tr>\n",
       "    <tr>\n",
       "      <th>16</th>\n",
       "      <td>0.16</td>\n",
       "      <td>13</td>\n",
       "    </tr>\n",
       "    <tr>\n",
       "      <th>17</th>\n",
       "      <td>0.17</td>\n",
       "      <td>12</td>\n",
       "    </tr>\n",
       "    <tr>\n",
       "      <th>18</th>\n",
       "      <td>0.18</td>\n",
       "      <td>11</td>\n",
       "    </tr>\n",
       "    <tr>\n",
       "      <th>19</th>\n",
       "      <td>0.19</td>\n",
       "      <td>11</td>\n",
       "    </tr>\n",
       "  </tbody>\n",
       "</table>\n",
       "</div>"
      ],
      "text/plain": [
       "       0    1\n",
       "0   0.00  216\n",
       "1   0.01  137\n",
       "2   0.02  103\n",
       "3   0.03   85\n",
       "4   0.04   70\n",
       "5   0.05   58\n",
       "6   0.06   53\n",
       "7   0.07   43\n",
       "8   0.08   37\n",
       "9   0.09   35\n",
       "10  0.10   31\n",
       "11  0.11   31\n",
       "12  0.12   26\n",
       "13  0.13   19\n",
       "14  0.14   16\n",
       "15  0.15   14\n",
       "16  0.16   13\n",
       "17  0.17   12\n",
       "18  0.18   11\n",
       "19  0.19   11"
      ]
     },
     "execution_count": 36,
     "metadata": {},
     "output_type": "execute_result"
    }
   ],
   "source": [
    "feature_droping = pd.concat([pd.Series(cutoff_values),  pd.Series([number_feature_remaining(t) for t in cutoff_values])], \n",
    "                            axis=1)\n",
    "feature_droping"
   ]
  },
  {
   "cell_type": "code",
   "execution_count": 37,
   "metadata": {},
   "outputs": [],
   "source": [
    "# ☝️ We could decide to put a 0.025 threshold on the categorical features to divide their number by more than half"
   ]
  },
  {
   "cell_type": "markdown",
   "metadata": {},
   "source": [
    "### Final preproc pipeline\n",
    "❓ store here your final version of the preproc pipeline"
   ]
  },
  {
   "cell_type": "code",
   "execution_count": 38,
   "metadata": {},
   "outputs": [],
   "source": [
    "# Define the three features (numerical, ordinal and norminal) to be passed into the column transformer\n",
    "\n",
    "feat_numerical = sorted(X.select_dtypes(include=['int64', \"float64\"]).columns)\n",
    "feat_ordinal = sorted(feat_ordinal_dict.keys()) # sort alphabetically\n",
    "feat_norminal = sorted(list(set(X.columns) - set(feat_numerical) - set(feat_ordinal)))"
   ]
  },
  {
   "cell_type": "code",
   "execution_count": 39,
   "metadata": {
    "ExecuteTime": {
     "end_time": "2021-02-02T19:56:27.306869Z",
     "start_time": "2021-02-02T19:56:27.161247Z"
    }
   },
   "outputs": [
    {
     "data": {
      "text/html": [
       "<style>#sk-95b28318-59f7-4352-b100-ac676a7ab146 {color: black;background-color: white;}#sk-95b28318-59f7-4352-b100-ac676a7ab146 pre{padding: 0;}#sk-95b28318-59f7-4352-b100-ac676a7ab146 div.sk-toggleable {background-color: white;}#sk-95b28318-59f7-4352-b100-ac676a7ab146 label.sk-toggleable__label {cursor: pointer;display: block;width: 100%;margin-bottom: 0;padding: 0.3em;box-sizing: border-box;text-align: center;}#sk-95b28318-59f7-4352-b100-ac676a7ab146 div.sk-toggleable__content {max-height: 0;max-width: 0;overflow: hidden;text-align: left;background-color: #f0f8ff;}#sk-95b28318-59f7-4352-b100-ac676a7ab146 div.sk-toggleable__content pre {margin: 0.2em;color: black;border-radius: 0.25em;background-color: #f0f8ff;}#sk-95b28318-59f7-4352-b100-ac676a7ab146 input.sk-toggleable__control:checked~div.sk-toggleable__content {max-height: 200px;max-width: 100%;overflow: auto;}#sk-95b28318-59f7-4352-b100-ac676a7ab146 div.sk-estimator input.sk-toggleable__control:checked~label.sk-toggleable__label {background-color: #d4ebff;}#sk-95b28318-59f7-4352-b100-ac676a7ab146 div.sk-label input.sk-toggleable__control:checked~label.sk-toggleable__label {background-color: #d4ebff;}#sk-95b28318-59f7-4352-b100-ac676a7ab146 input.sk-hidden--visually {border: 0;clip: rect(1px 1px 1px 1px);clip: rect(1px, 1px, 1px, 1px);height: 1px;margin: -1px;overflow: hidden;padding: 0;position: absolute;width: 1px;}#sk-95b28318-59f7-4352-b100-ac676a7ab146 div.sk-estimator {font-family: monospace;background-color: #f0f8ff;border: 1px dotted black;border-radius: 0.25em;box-sizing: border-box;margin-bottom: 0.5em;}#sk-95b28318-59f7-4352-b100-ac676a7ab146 div.sk-estimator:hover {background-color: #d4ebff;}#sk-95b28318-59f7-4352-b100-ac676a7ab146 div.sk-parallel-item::after {content: \"\";width: 100%;border-bottom: 1px solid gray;flex-grow: 1;}#sk-95b28318-59f7-4352-b100-ac676a7ab146 div.sk-label:hover label.sk-toggleable__label {background-color: #d4ebff;}#sk-95b28318-59f7-4352-b100-ac676a7ab146 div.sk-serial::before {content: \"\";position: absolute;border-left: 1px solid gray;box-sizing: border-box;top: 2em;bottom: 0;left: 50%;}#sk-95b28318-59f7-4352-b100-ac676a7ab146 div.sk-serial {display: flex;flex-direction: column;align-items: center;background-color: white;padding-right: 0.2em;padding-left: 0.2em;}#sk-95b28318-59f7-4352-b100-ac676a7ab146 div.sk-item {z-index: 1;}#sk-95b28318-59f7-4352-b100-ac676a7ab146 div.sk-parallel {display: flex;align-items: stretch;justify-content: center;background-color: white;}#sk-95b28318-59f7-4352-b100-ac676a7ab146 div.sk-parallel::before {content: \"\";position: absolute;border-left: 1px solid gray;box-sizing: border-box;top: 2em;bottom: 0;left: 50%;}#sk-95b28318-59f7-4352-b100-ac676a7ab146 div.sk-parallel-item {display: flex;flex-direction: column;position: relative;background-color: white;}#sk-95b28318-59f7-4352-b100-ac676a7ab146 div.sk-parallel-item:first-child::after {align-self: flex-end;width: 50%;}#sk-95b28318-59f7-4352-b100-ac676a7ab146 div.sk-parallel-item:last-child::after {align-self: flex-start;width: 50%;}#sk-95b28318-59f7-4352-b100-ac676a7ab146 div.sk-parallel-item:only-child::after {width: 0;}#sk-95b28318-59f7-4352-b100-ac676a7ab146 div.sk-dashed-wrapped {border: 1px dashed gray;margin: 0 0.4em 0.5em 0.4em;box-sizing: border-box;padding-bottom: 0.4em;background-color: white;position: relative;}#sk-95b28318-59f7-4352-b100-ac676a7ab146 div.sk-label label {font-family: monospace;font-weight: bold;background-color: white;display: inline-block;line-height: 1.2em;}#sk-95b28318-59f7-4352-b100-ac676a7ab146 div.sk-label-container {position: relative;z-index: 2;text-align: center;}#sk-95b28318-59f7-4352-b100-ac676a7ab146 div.sk-container {display: inline-block;position: relative;}</style><div id=\"sk-95b28318-59f7-4352-b100-ac676a7ab146\" class\"sk-top-container\"><div class=\"sk-container\"><div class=\"sk-item sk-dashed-wrapped\"><div class=\"sk-label-container\"><div class=\"sk-label sk-toggleable\"><input class=\"sk-toggleable__control sk-hidden--visually\" id=\"a2f6c561-e18e-4f36-a474-a3eab6cdb327\" type=\"checkbox\" ><label class=\"sk-toggleable__label\" for=\"a2f6c561-e18e-4f36-a474-a3eab6cdb327\">Pipeline</label><div class=\"sk-toggleable__content\"><pre>Pipeline(steps=[('columntransformer',\n",
       "                 ColumnTransformer(transformers=[('pipeline-1',\n",
       "                                                  Pipeline(steps=[('knnimputer',\n",
       "                                                                   KNNImputer()),\n",
       "                                                                  ('minmaxscaler',\n",
       "                                                                   MinMaxScaler())]),\n",
       "                                                  ['1stFlrSF', '2ndFlrSF',\n",
       "                                                   '3SsnPorch', 'BedroomAbvGr',\n",
       "                                                   'BsmtFinSF1', 'BsmtFinSF2',\n",
       "                                                   'BsmtFullBath',\n",
       "                                                   'BsmtHalfBath', 'BsmtUnfSF',\n",
       "                                                   'EnclosedPorch',\n",
       "                                                   'Fireplaces', 'FullBath',\n",
       "                                                   'GarageArea', 'GarageCars',\n",
       "                                                   'Gara...\n",
       "                                                   'CentralAir', 'Condition1',\n",
       "                                                   'Condition2', 'Exterior1st',\n",
       "                                                   'Exterior2nd', 'Foundation',\n",
       "                                                   'GarageType', 'Heating',\n",
       "                                                   'HouseStyle', 'LotConfig',\n",
       "                                                   'MSZoning', 'MasVnrType',\n",
       "                                                   'MiscFeature',\n",
       "                                                   'Neighborhood', 'RoofMatl',\n",
       "                                                   'RoofStyle', 'SaleCondition',\n",
       "                                                   'SaleType', 'Street',\n",
       "                                                   'Utilities'])])),\n",
       "                ('selectpercentile',\n",
       "                 SelectPercentile(percentile=75,\n",
       "                                  score_func=<function mutual_info_regression at 0x7fa100014e50>))])</pre></div></div></div><div class=\"sk-serial\"><div class=\"sk-item sk-dashed-wrapped\"><div class=\"sk-label-container\"><div class=\"sk-label sk-toggleable\"><input class=\"sk-toggleable__control sk-hidden--visually\" id=\"d4d8aa9c-733a-4d82-a429-c4f178872ff3\" type=\"checkbox\" ><label class=\"sk-toggleable__label\" for=\"d4d8aa9c-733a-4d82-a429-c4f178872ff3\">columntransformer: ColumnTransformer</label><div class=\"sk-toggleable__content\"><pre>ColumnTransformer(transformers=[('pipeline-1',\n",
       "                                 Pipeline(steps=[('knnimputer', KNNImputer()),\n",
       "                                                 ('minmaxscaler',\n",
       "                                                  MinMaxScaler())]),\n",
       "                                 ['1stFlrSF', '2ndFlrSF', '3SsnPorch',\n",
       "                                  'BedroomAbvGr', 'BsmtFinSF1', 'BsmtFinSF2',\n",
       "                                  'BsmtFullBath', 'BsmtHalfBath', 'BsmtUnfSF',\n",
       "                                  'EnclosedPorch', 'Fireplaces', 'FullBath',\n",
       "                                  'GarageArea', 'GarageCars', 'GarageYrBlt',\n",
       "                                  'GrLivArea', 'HalfBath', 'Kitc...\n",
       "                                                  SimpleImputer(strategy='most_frequent')),\n",
       "                                                 ('onehotencoder',\n",
       "                                                  OneHotEncoder(handle_unknown='ignore'))]),\n",
       "                                 ['Alley', 'BldgType', 'CentralAir',\n",
       "                                  'Condition1', 'Condition2', 'Exterior1st',\n",
       "                                  'Exterior2nd', 'Foundation', 'GarageType',\n",
       "                                  'Heating', 'HouseStyle', 'LotConfig',\n",
       "                                  'MSZoning', 'MasVnrType', 'MiscFeature',\n",
       "                                  'Neighborhood', 'RoofMatl', 'RoofStyle',\n",
       "                                  'SaleCondition', 'SaleType', 'Street',\n",
       "                                  'Utilities'])])</pre></div></div></div><div class=\"sk-parallel\"><div class=\"sk-parallel-item\"><div class=\"sk-item\"><div class=\"sk-label-container\"><div class=\"sk-label sk-toggleable\"><input class=\"sk-toggleable__control sk-hidden--visually\" id=\"067c2c15-c837-4604-a0a4-f3406c908077\" type=\"checkbox\" ><label class=\"sk-toggleable__label\" for=\"067c2c15-c837-4604-a0a4-f3406c908077\">pipeline-1</label><div class=\"sk-toggleable__content\"><pre>['1stFlrSF', '2ndFlrSF', '3SsnPorch', 'BedroomAbvGr', 'BsmtFinSF1', 'BsmtFinSF2', 'BsmtFullBath', 'BsmtHalfBath', 'BsmtUnfSF', 'EnclosedPorch', 'Fireplaces', 'FullBath', 'GarageArea', 'GarageCars', 'GarageYrBlt', 'GrLivArea', 'HalfBath', 'KitchenAbvGr', 'LotArea', 'LotFrontage', 'LowQualFinSF', 'MSSubClass', 'MasVnrArea', 'MiscVal', 'MoSold', 'OpenPorchSF', 'OverallCond', 'OverallQual', 'PoolArea', 'ScreenPorch', 'TotRmsAbvGrd', 'TotalBsmtSF', 'WoodDeckSF', 'YearBuilt', 'YearRemodAdd', 'YrSold']</pre></div></div></div><div class=\"sk-serial\"><div class=\"sk-item\"><div class=\"sk-serial\"><div class=\"sk-item\"><div class=\"sk-estimator sk-toggleable\"><input class=\"sk-toggleable__control sk-hidden--visually\" id=\"21042184-dca6-4385-9d55-f607ba55e408\" type=\"checkbox\" ><label class=\"sk-toggleable__label\" for=\"21042184-dca6-4385-9d55-f607ba55e408\">KNNImputer</label><div class=\"sk-toggleable__content\"><pre>KNNImputer()</pre></div></div></div><div class=\"sk-item\"><div class=\"sk-estimator sk-toggleable\"><input class=\"sk-toggleable__control sk-hidden--visually\" id=\"c6bd009c-f8c6-4d60-a77a-e37293569d56\" type=\"checkbox\" ><label class=\"sk-toggleable__label\" for=\"c6bd009c-f8c6-4d60-a77a-e37293569d56\">MinMaxScaler</label><div class=\"sk-toggleable__content\"><pre>MinMaxScaler()</pre></div></div></div></div></div></div></div></div><div class=\"sk-parallel-item\"><div class=\"sk-item\"><div class=\"sk-label-container\"><div class=\"sk-label sk-toggleable\"><input class=\"sk-toggleable__control sk-hidden--visually\" id=\"e9e0ecc8-b125-4251-8cc8-06b685fb9984\" type=\"checkbox\" ><label class=\"sk-toggleable__label\" for=\"e9e0ecc8-b125-4251-8cc8-06b685fb9984\">pipeline-2</label><div class=\"sk-toggleable__content\"><pre>['BsmtCond', 'BsmtExposure', 'BsmtFinType1', 'BsmtFinType2', 'BsmtQual', 'Electrical', 'ExterCond', 'ExterQual', 'Fence', 'FireplaceQu', 'Functional', 'GarageCond', 'GarageFinish', 'GarageQual', 'HeatingQC', 'KitchenQual', 'LandContour', 'LandSlope', 'LotShape', 'PavedDrive', 'PoolQC']</pre></div></div></div><div class=\"sk-serial\"><div class=\"sk-item\"><div class=\"sk-serial\"><div class=\"sk-item\"><div class=\"sk-estimator sk-toggleable\"><input class=\"sk-toggleable__control sk-hidden--visually\" id=\"3dd48934-d30d-4dd1-9d05-b0584e5031fd\" type=\"checkbox\" ><label class=\"sk-toggleable__label\" for=\"3dd48934-d30d-4dd1-9d05-b0584e5031fd\">SimpleImputer</label><div class=\"sk-toggleable__content\"><pre>SimpleImputer(fill_value='missing', strategy='constant')</pre></div></div></div><div class=\"sk-item\"><div class=\"sk-estimator sk-toggleable\"><input class=\"sk-toggleable__control sk-hidden--visually\" id=\"3f716ff1-6441-42f8-b6f9-1c3806c8859b\" type=\"checkbox\" ><label class=\"sk-toggleable__label\" for=\"3f716ff1-6441-42f8-b6f9-1c3806c8859b\">OrdinalEncoder</label><div class=\"sk-toggleable__content\"><pre>OrdinalEncoder(categories=[['missing', 'Po', 'Fa', 'TA', 'Gd'],\n",
       "                           ['missing', 'No', 'Mn', 'Av', 'Gd'],\n",
       "                           ['missing', 'Unf', 'LwQ', 'Rec', 'BLQ', 'ALQ',\n",
       "                            'GLQ'],\n",
       "                           ['missing', 'Unf', 'LwQ', 'Rec', 'BLQ', 'ALQ',\n",
       "                            'GLQ'],\n",
       "                           ['missing', 'Fa', 'TA', 'Gd', 'Ex'],\n",
       "                           ['missing', 'Mix', 'FuseP', 'FuseF', 'FuseA',\n",
       "                            'SBrkr'],\n",
       "                           ['missing', 'Po', 'Fa', 'TA', 'Gd', 'Ex'],\n",
       "                           ['missing', 'Fa', 'TA', 'Gd', 'Ex'],\n",
       "                           ['missing', '...\n",
       "                           ['missing', 'Unf', 'RFn', 'Fin'],\n",
       "                           ['missing', 'Po', 'Fa', 'TA', 'Gd', 'Ex'],\n",
       "                           ['missing', 'Po', 'Fa', 'TA', 'Gd', 'Ex'],\n",
       "                           ['missing', 'Fa', 'TA', 'Gd', 'Ex'],\n",
       "                           ['missing', 'Low', 'Bnk', 'HLS', 'Lvl'],\n",
       "                           ['missing', 'Sev', 'Mod', 'Gtl'],\n",
       "                           ['missing', 'IR3', 'IR2', 'IR1', 'Reg'],\n",
       "                           ['missing', 'N', 'P', 'Y'],\n",
       "                           ['missing', 'Fa', 'Gd', 'Ex']],\n",
       "               dtype=<class 'numpy.int64'>, handle_unknown='use_encoded_value',\n",
       "               unknown_value=-1)</pre></div></div></div><div class=\"sk-item\"><div class=\"sk-estimator sk-toggleable\"><input class=\"sk-toggleable__control sk-hidden--visually\" id=\"d5dc881d-838a-47c5-96a1-ceb1c8c2acde\" type=\"checkbox\" ><label class=\"sk-toggleable__label\" for=\"d5dc881d-838a-47c5-96a1-ceb1c8c2acde\">MinMaxScaler</label><div class=\"sk-toggleable__content\"><pre>MinMaxScaler()</pre></div></div></div></div></div></div></div></div><div class=\"sk-parallel-item\"><div class=\"sk-item\"><div class=\"sk-label-container\"><div class=\"sk-label sk-toggleable\"><input class=\"sk-toggleable__control sk-hidden--visually\" id=\"ffb7166c-cc6e-4b4f-91b5-9a14fa767e1a\" type=\"checkbox\" ><label class=\"sk-toggleable__label\" for=\"ffb7166c-cc6e-4b4f-91b5-9a14fa767e1a\">pipeline-3</label><div class=\"sk-toggleable__content\"><pre>['Alley', 'BldgType', 'CentralAir', 'Condition1', 'Condition2', 'Exterior1st', 'Exterior2nd', 'Foundation', 'GarageType', 'Heating', 'HouseStyle', 'LotConfig', 'MSZoning', 'MasVnrType', 'MiscFeature', 'Neighborhood', 'RoofMatl', 'RoofStyle', 'SaleCondition', 'SaleType', 'Street', 'Utilities']</pre></div></div></div><div class=\"sk-serial\"><div class=\"sk-item\"><div class=\"sk-serial\"><div class=\"sk-item\"><div class=\"sk-estimator sk-toggleable\"><input class=\"sk-toggleable__control sk-hidden--visually\" id=\"70f7bed3-12d3-4db2-9159-5c2cdb1f0373\" type=\"checkbox\" ><label class=\"sk-toggleable__label\" for=\"70f7bed3-12d3-4db2-9159-5c2cdb1f0373\">SimpleImputer</label><div class=\"sk-toggleable__content\"><pre>SimpleImputer(strategy='most_frequent')</pre></div></div></div><div class=\"sk-item\"><div class=\"sk-estimator sk-toggleable\"><input class=\"sk-toggleable__control sk-hidden--visually\" id=\"d12a3362-43c2-477b-be47-0706d8b2af94\" type=\"checkbox\" ><label class=\"sk-toggleable__label\" for=\"d12a3362-43c2-477b-be47-0706d8b2af94\">OneHotEncoder</label><div class=\"sk-toggleable__content\"><pre>OneHotEncoder(handle_unknown='ignore')</pre></div></div></div></div></div></div></div></div></div></div><div class=\"sk-item\"><div class=\"sk-estimator sk-toggleable\"><input class=\"sk-toggleable__control sk-hidden--visually\" id=\"bb03a8fd-2ee9-4ce3-a416-cd37dc6cf2a1\" type=\"checkbox\" ><label class=\"sk-toggleable__label\" for=\"bb03a8fd-2ee9-4ce3-a416-cd37dc6cf2a1\">SelectPercentile</label><div class=\"sk-toggleable__content\"><pre>SelectPercentile(percentile=75,\n",
       "                 score_func=<function mutual_info_regression at 0x7fa100014e50>)</pre></div></div></div></div></div></div></div>"
      ],
      "text/plain": [
       "Pipeline(steps=[('columntransformer',\n",
       "                 ColumnTransformer(transformers=[('pipeline-1',\n",
       "                                                  Pipeline(steps=[('knnimputer',\n",
       "                                                                   KNNImputer()),\n",
       "                                                                  ('minmaxscaler',\n",
       "                                                                   MinMaxScaler())]),\n",
       "                                                  ['1stFlrSF', '2ndFlrSF',\n",
       "                                                   '3SsnPorch', 'BedroomAbvGr',\n",
       "                                                   'BsmtFinSF1', 'BsmtFinSF2',\n",
       "                                                   'BsmtFullBath',\n",
       "                                                   'BsmtHalfBath', 'BsmtUnfSF',\n",
       "                                                   'EnclosedPorch',\n",
       "                                                   'Fireplaces', 'FullBath',\n",
       "                                                   'GarageArea', 'GarageCars',\n",
       "                                                   'Gara...\n",
       "                                                   'CentralAir', 'Condition1',\n",
       "                                                   'Condition2', 'Exterior1st',\n",
       "                                                   'Exterior2nd', 'Foundation',\n",
       "                                                   'GarageType', 'Heating',\n",
       "                                                   'HouseStyle', 'LotConfig',\n",
       "                                                   'MSZoning', 'MasVnrType',\n",
       "                                                   'MiscFeature',\n",
       "                                                   'Neighborhood', 'RoofMatl',\n",
       "                                                   'RoofStyle', 'SaleCondition',\n",
       "                                                   'SaleType', 'Street',\n",
       "                                                   'Utilities'])])),\n",
       "                ('selectpercentile',\n",
       "                 SelectPercentile(percentile=75,\n",
       "                                  score_func=<function mutual_info_regression at 0x7fa100014e50>))])"
      ]
     },
     "execution_count": 39,
     "metadata": {},
     "output_type": "execute_result"
    }
   ],
   "source": [
    "# Define the three pipelines then combine them in a column transformer\n",
    "\n",
    "preproc_ordinal = make_pipeline(\n",
    "    SimpleImputer(strategy='constant', fill_value=\"missing\"),\n",
    "    OrdinalEncoder(categories=feat_ordinal_values_sorted,\n",
    "                    dtype=np.int64,\n",
    "                    handle_unknown='use_encoded_value',\n",
    "                    unknown_value=-1),\n",
    "    MinMaxScaler()\n",
    ")\n",
    "\n",
    "\n",
    "preproc_numerical = make_pipeline(\n",
    "    KNNImputer(),\n",
    "    MinMaxScaler()\n",
    ")\n",
    "\n",
    "\n",
    "preproc_norminal = make_pipeline(\n",
    "    SimpleImputer(strategy=\"most_frequent\"),\n",
    "    OneHotEncoder(handle_unknown='ignore')\n",
    ")\n",
    "\n",
    "\n",
    "preproc_transformer = make_column_transformer(\n",
    "    (preproc_numerical, feat_numerical),\n",
    "    (preproc_ordinal, feat_ordinal),\n",
    "    (preproc_norminal, feat_norminal),\n",
    "    remainder='drop')\n",
    "\n",
    "#  keep only 75% of all features\n",
    "preproc_selector = SelectPercentile(\n",
    "    mutual_info_regression,\n",
    "    percentile=75\n",
    ")\n",
    "\n",
    "# final preprocess pipeline\n",
    "preproc = make_pipeline(\n",
    "    preproc_transformer,\n",
    "    preproc_selector\n",
    ")\n",
    "\n",
    "preproc"
   ]
  },
  {
   "cell_type": "code",
   "execution_count": 40,
   "metadata": {},
   "outputs": [
    {
     "data": {
      "text/plain": [
       "(1460, 162)"
      ]
     },
     "execution_count": 40,
     "metadata": {},
     "output_type": "execute_result"
    }
   ],
   "source": [
    "# Check shape\n",
    "preproc_fitted = preproc.fit(X,y)\n",
    "X_preproc = preproc_fitted.transform(X)\n",
    "\n",
    "preproc_fitted_log = preproc.fit(X,y_log)\n",
    "preproc_fitted_log.transform(X).shape"
   ]
  },
  {
   "cell_type": "code",
   "execution_count": 41,
   "metadata": {},
   "outputs": [],
   "source": [
    "# # TODO: treat cyclical features\n",
    "# feat_cyclical = sorted([\n",
    "#     \"MoSold\"  # Month Sold (MM)\n",
    "# ])"
   ]
  },
  {
   "cell_type": "markdown",
   "metadata": {},
   "source": [
    "## Models Iteration"
   ]
  },
  {
   "cell_type": "code",
   "execution_count": 42,
   "metadata": {},
   "outputs": [],
   "source": [
    "# SOLUTION\n",
    "allow_grid_searching = True # use True to activate girdsearch in the notebook cells below\n",
    "\n",
    "# Cache the preprocessing step of the pipeline\n",
    "from tempfile import mkdtemp\n",
    "from shutil import rmtree\n",
    "cachedir = mkdtemp()"
   ]
  },
  {
   "cell_type": "markdown",
   "metadata": {},
   "source": [
    "### Linear Models (Lasso, Ridge, ElasticNet, SGDRegressor)"
   ]
  },
  {
   "cell_type": "code",
   "execution_count": 43,
   "metadata": {},
   "outputs": [
    {
     "data": {
      "text/plain": [
       "0.16869577225904103"
      ]
     },
     "execution_count": 43,
     "metadata": {},
     "output_type": "execute_result"
    }
   ],
   "source": [
    "# Ridge with normal(y) target\n",
    "r_model = Ridge()\n",
    "pipe_ridge = make_pipeline(preproc, r_model, memory=cachedir)\n",
    "cross_val_score(pipe_ridge, X, y, cv=5, scoring=rmsle).mean()"
   ]
  },
  {
   "cell_type": "code",
   "execution_count": 44,
   "metadata": {},
   "outputs": [
    {
     "data": {
      "text/plain": [
       "0.13945654756797468"
      ]
     },
     "execution_count": 44,
     "metadata": {},
     "output_type": "execute_result"
    }
   ],
   "source": [
    "# Ridge with log_target(y_log)\n",
    "r_model = Ridge()\n",
    "pipe_ridge = make_pipeline(preproc, r_model, memory=cachedir)\n",
    "cross_val_score(pipe_ridge, X=X, y=y_log, cv=5, scoring=rmse).mean()"
   ]
  },
  {
   "cell_type": "code",
   "execution_count": 45,
   "metadata": {},
   "outputs": [
    {
     "name": "stdout",
     "output_type": "stream",
     "text": [
      "{'ridge__alpha': 2.0}\n"
     ]
    }
   ],
   "source": [
    "# Grid search the Ridge regularization\n",
    "if allow_grid_searching:\n",
    "    param_grid = {'ridge__alpha': np.linspace(0.5, 2, 20)}\n",
    "    search_ridge = GridSearchCV(pipe_ridge, param_grid=param_grid, cv=5, \n",
    "                                n_jobs=-1, scoring=rmse_neg)\n",
    "    search_ridge.fit(X,y_log)\n",
    "    print(search_ridge.best_params_)\n",
    "    search_ridge.best_score_"
   ]
  },
  {
   "cell_type": "markdown",
   "metadata": {},
   "source": [
    "### KNN"
   ]
  },
  {
   "cell_type": "code",
   "execution_count": 46,
   "metadata": {},
   "outputs": [],
   "source": [
    "model = KNeighborsRegressor()\n",
    "pipe_knn = make_pipeline(preproc, model)"
   ]
  },
  {
   "cell_type": "code",
   "execution_count": 47,
   "metadata": {},
   "outputs": [
    {
     "data": {
      "text/plain": [
       "0.20363579140475552"
      ]
     },
     "execution_count": 47,
     "metadata": {},
     "output_type": "execute_result"
    }
   ],
   "source": [
    "scores = cross_val_score(pipe_knn, X, y_log, cv=5, scoring=rmse)\n",
    "scores.mean()"
   ]
  },
  {
   "cell_type": "code",
   "execution_count": 48,
   "metadata": {},
   "outputs": [
    {
     "name": "stdout",
     "output_type": "stream",
     "text": [
      "Fitting 5 folds for each of 11 candidates, totalling 55 fits\n",
      "{'kneighborsregressor__n_neighbors': 6}\n"
     ]
    }
   ],
   "source": [
    "# Grid search KNN\n",
    "if allow_grid_searching:\n",
    "    param_grid = {'kneighborsregressor__n_neighbors': [3,4,5,6,7,8,9,10,15,20,30]}\n",
    "    search_knn = GridSearchCV(pipe_knn, param_grid=param_grid,cv=5,\n",
    "                             n_jobs=-1, scoring=rmsle_neg, verbose=2)\n",
    "    search_knn.fit(X, y_log);\n",
    "    print(search_knn.best_params_)\n",
    "    search_knn.best_score_"
   ]
  },
  {
   "cell_type": "code",
   "execution_count": 49,
   "metadata": {},
   "outputs": [],
   "source": [
    "pipe_knn_best = search_knn.best_estimator_"
   ]
  },
  {
   "cell_type": "markdown",
   "metadata": {},
   "source": [
    "### SVM"
   ]
  },
  {
   "cell_type": "code",
   "execution_count": 50,
   "metadata": {},
   "outputs": [],
   "source": [
    "model = SVR()\n",
    "pipe_svm = make_pipeline(preproc, model, memory=cachedir)"
   ]
  },
  {
   "cell_type": "code",
   "execution_count": 51,
   "metadata": {},
   "outputs": [
    {
     "data": {
      "text/plain": [
       "0.12932219596651517"
      ]
     },
     "execution_count": 51,
     "metadata": {},
     "output_type": "execute_result"
    }
   ],
   "source": [
    "scores = cross_val_score(pipe_svm, X, y_log, cv=5, scoring=rmse)\n",
    "scores.mean()"
   ]
  },
  {
   "cell_type": "code",
   "execution_count": 52,
   "metadata": {},
   "outputs": [
    {
     "name": "stdout",
     "output_type": "stream",
     "text": [
      "Fitting 5 folds for each of 120 candidates, totalling 600 fits\n",
      "{'svr__C': 1, 'svr__epsilon': 0.01, 'svr__kernel': 'rbf'}\n"
     ]
    }
   ],
   "source": [
    "# Grid search SVM\n",
    "if allow_grid_searching:\n",
    "    param_grid = {'svr__C': [0.5, 0.7, 1, 2, 5, 10],\n",
    "                 'svr__epsilon': [0.01, 0.05, 0.1, 0.2, 0.5],\n",
    "                 'svr__kernel': ['linear', 'poly', 'rbf', 'sigmoid']}\n",
    "    search_svm = GridSearchCV(pipe_svm, param_grid=param_grid, cv=5,\n",
    "                             n_jobs=-1, scoring=rmse_neg, verbose=2)\n",
    "    search_svm.fit(X, y_log);\n",
    "    print(search_svm.best_params_)\n",
    "    search_svm.best_score_"
   ]
  },
  {
   "cell_type": "markdown",
   "metadata": {
    "heading_collapsed": true
   },
   "source": [
    "### Trees"
   ]
  },
  {
   "cell_type": "code",
   "execution_count": 53,
   "metadata": {
    "hidden": true
   },
   "outputs": [
    {
     "name": "stdout",
     "output_type": "stream",
     "text": [
      "0.016270736619083494\n"
     ]
    },
    {
     "data": {
      "text/plain": [
       "0.20374242955848093"
      ]
     },
     "execution_count": 53,
     "metadata": {},
     "output_type": "execute_result"
    }
   ],
   "source": [
    "from sklearn.tree import DecisionTreeRegressor\n",
    "\n",
    "model = DecisionTreeRegressor()\n",
    "pipe_tree = make_pipeline(preproc, model, memory=cachedir)\n",
    "score = cross_val_score(pipe_tree, X, y_log, cv=5, scoring=rmse)\n",
    "print(score.std())\n",
    "score.mean()"
   ]
  },
  {
   "cell_type": "markdown",
   "metadata": {
    "heading_collapsed": true
   },
   "source": [
    "### Random Forest"
   ]
  },
  {
   "cell_type": "code",
   "execution_count": 54,
   "metadata": {
    "hidden": true
   },
   "outputs": [
    {
     "name": "stdout",
     "output_type": "stream",
     "text": [
      "0.0072129392682607285\n"
     ]
    },
    {
     "data": {
      "text/plain": [
       "0.16304273369158856"
      ]
     },
     "execution_count": 54,
     "metadata": {},
     "output_type": "execute_result"
    }
   ],
   "source": [
    "model = RandomForestRegressor(max_depth=50, min_samples_leaf=20)\n",
    "pipe_forest = make_pipeline(preproc, model, memory=cachedir)\n",
    "score = cross_val_score(pipe_forest, X, y_log, cv=5, scoring=rmse)\n",
    "print(score.std())\n",
    "score.mean()"
   ]
  },
  {
   "cell_type": "markdown",
   "metadata": {
    "heading_collapsed": true
   },
   "source": [
    "### Boosted Trees"
   ]
  },
  {
   "cell_type": "code",
   "execution_count": 55,
   "metadata": {
    "hidden": true
   },
   "outputs": [
    {
     "name": "stdout",
     "output_type": "stream",
     "text": [
      "0.010323250406789625\n"
     ]
    },
    {
     "data": {
      "text/plain": [
       "0.1380920318057316"
      ]
     },
     "execution_count": 55,
     "metadata": {},
     "output_type": "execute_result"
    }
   ],
   "source": [
    "model_adaboost = AdaBoostRegressor(base_estimator=DecisionTreeRegressor(max_depth=None))\n",
    "pipe_boost = make_pipeline(preproc, model_adaboost, memory=cachedir)\n",
    "score = cross_val_score(pipe_boost, X, y_log, cv=5, scoring=rmse)\n",
    "print(score.std())\n",
    "score.mean()"
   ]
  },
  {
   "cell_type": "markdown",
   "metadata": {
    "heading_collapsed": true
   },
   "source": [
    "### Stacking"
   ]
  },
  {
   "cell_type": "code",
   "execution_count": 56,
   "metadata": {
    "hidden": true
   },
   "outputs": [
    {
     "name": "stdout",
     "output_type": "stream",
     "text": [
      "0.01164933522112072\n"
     ]
    },
    {
     "data": {
      "text/plain": [
       "0.11936374151610418"
      ]
     },
     "execution_count": 56,
     "metadata": {},
     "output_type": "execute_result"
    }
   ],
   "source": [
    "gboost = GradientBoostingRegressor(n_estimators=100)\n",
    "ridge = Ridge()\n",
    "svm = SVR(C=1, epsilon=0.05)\n",
    "adaboost = AdaBoostRegressor(base_estimator=DecisionTreeRegressor(max_depth=None))\n",
    "\n",
    "model = VotingRegressor(\n",
    "    estimators=[(\"gboost\", gboost), (\"adaboost\", adaboost), ('ridge', ridge), (\"svm_rbf\", svm)],\n",
    "    weights=[1,1,1,1],\n",
    "    n_jobs=-1\n",
    ")\n",
    "\n",
    "pipe_ensemble = make_pipeline(preproc, model, memory=cachedir)\n",
    "\n",
    "score = cross_val_score(pipe_ensemble, X, y_log, cv=5, scoring=rmse, n_jobs=-1)\n",
    "print(score.std())\n",
    "score.mean()"
   ]
  },
  {
   "cell_type": "markdown",
   "metadata": {},
   "source": [
    "### XGBOOST"
   ]
  },
  {
   "cell_type": "code",
   "execution_count": 57,
   "metadata": {},
   "outputs": [],
   "source": [
    "from xgboost import XGBRegressor"
   ]
  },
  {
   "cell_type": "code",
   "execution_count": 58,
   "metadata": {},
   "outputs": [],
   "source": [
    "# Create eval test just for early stopping purpose (XGBOOST and Deep Learning)\n",
    "X_train, X_eval, y_train_log, y_eval_log = train_test_split(X, y_log, random_state=42)"
   ]
  },
  {
   "cell_type": "code",
   "execution_count": 59,
   "metadata": {},
   "outputs": [],
   "source": [
    "# Istantiate model\n",
    "model_xgb = XGBRegressor(max_depth=10, n_estimators=300, learning_rate=0.05)"
   ]
  },
  {
   "cell_type": "code",
   "execution_count": 60,
   "metadata": {},
   "outputs": [
    {
     "name": "stdout",
     "output_type": "stream",
     "text": [
      "[CV] END .................kneighborsregressor__n_neighbors=4; total time=   3.3s\n",
      "[CV] END .................kneighborsregressor__n_neighbors=5; total time=   3.3s\n",
      "[CV] END .................kneighborsregressor__n_neighbors=7; total time=   3.3s\n",
      "[CV] END .................kneighborsregressor__n_neighbors=9; total time=   3.7s\n",
      "[CV] END ................kneighborsregressor__n_neighbors=10; total time=   3.5s\n",
      "[CV] END ................kneighborsregressor__n_neighbors=20; total time=   3.0s\n",
      "[CV] END ................kneighborsregressor__n_neighbors=30; total time=   2.2s\n",
      "[CV] END ....svr__C=0.5, svr__epsilon=0.01, svr__kernel=poly; total time=   1.0s\n",
      "[CV] END ....svr__C=0.5, svr__epsilon=0.01, svr__kernel=poly; total time=   1.0s\n",
      "[CV] END .svr__C=0.5, svr__epsilon=0.01, svr__kernel=sigmoid; total time=   0.9s\n",
      "[CV] END ..svr__C=0.5, svr__epsilon=0.05, svr__kernel=linear; total time=   1.3s\n",
      "[CV] END .....svr__C=0.5, svr__epsilon=0.05, svr__kernel=rbf; total time=   0.7s\n",
      "[CV] END .svr__C=0.5, svr__epsilon=0.05, svr__kernel=sigmoid; total time=   0.9s\n",
      "[CV] END .....svr__C=0.5, svr__epsilon=0.1, svr__kernel=poly; total time=   0.6s\n",
      "[CV] END ......svr__C=0.5, svr__epsilon=0.1, svr__kernel=rbf; total time=   0.6s\n",
      "[CV] END ..svr__C=0.5, svr__epsilon=0.1, svr__kernel=sigmoid; total time=   0.8s\n",
      "[CV] END .....svr__C=0.5, svr__epsilon=0.2, svr__kernel=poly; total time=   0.5s\n",
      "[CV] END ......svr__C=0.5, svr__epsilon=0.2, svr__kernel=rbf; total time=   0.5s\n",
      "[CV] END ...svr__C=0.5, svr__epsilon=0.5, svr__kernel=linear; total time=   0.5s\n",
      "[CV] END ...svr__C=0.5, svr__epsilon=0.5, svr__kernel=linear; total time=   0.5s\n",
      "[CV] END ......svr__C=0.5, svr__epsilon=0.5, svr__kernel=rbf; total time=   0.5s\n",
      "[CV] END ..svr__C=0.7, svr__epsilon=0.01, svr__kernel=linear; total time=   2.4s\n",
      "[CV] END ....svr__C=0.7, svr__epsilon=0.01, svr__kernel=poly; total time=   1.0s\n",
      "[CV] END .svr__C=0.7, svr__epsilon=0.01, svr__kernel=sigmoid; total time=   1.1s\n",
      "[CV] END ....svr__C=0.7, svr__epsilon=0.05, svr__kernel=poly; total time=   1.0s\n",
      "[CV] END .....svr__C=0.7, svr__epsilon=0.05, svr__kernel=rbf; total time=   0.9s\n",
      "[CV] END .svr__C=0.7, svr__epsilon=0.05, svr__kernel=sigmoid; total time=   1.0s\n",
      "[CV] END .....svr__C=0.7, svr__epsilon=0.1, svr__kernel=poly; total time=   0.7s\n",
      "[CV] END ..svr__C=0.7, svr__epsilon=0.1, svr__kernel=sigmoid; total time=   1.1s\n",
      "[CV] END .....svr__C=0.7, svr__epsilon=0.2, svr__kernel=poly; total time=   0.6s\n",
      "[CV] END ..svr__C=0.7, svr__epsilon=0.2, svr__kernel=sigmoid; total time=   0.9s\n",
      "[CV] END ...svr__C=0.7, svr__epsilon=0.5, svr__kernel=linear; total time=   0.6s\n",
      "[CV] END ......svr__C=0.7, svr__epsilon=0.5, svr__kernel=rbf; total time=   0.5s\n",
      "[CV] END ..svr__C=0.7, svr__epsilon=0.5, svr__kernel=sigmoid; total time=   0.5s\n",
      "[CV] END ....svr__C=1, svr__epsilon=0.01, svr__kernel=linear; total time=   2.4s\n",
      "[CV] END .......svr__C=1, svr__epsilon=0.01, svr__kernel=rbf; total time=   1.1s\n",
      "[CV] END ....svr__C=1, svr__epsilon=0.05, svr__kernel=linear; total time=   1.9s\n",
      "[CV] END ......svr__C=1, svr__epsilon=0.05, svr__kernel=poly; total time=   0.8s\n",
      "[CV] END ...svr__C=1, svr__epsilon=0.05, svr__kernel=sigmoid; total time=   0.9s\n",
      "[CV] END .....svr__C=1, svr__epsilon=0.1, svr__kernel=linear; total time=   1.4s\n",
      "[CV] END ........svr__C=1, svr__epsilon=0.1, svr__kernel=rbf; total time=   0.6s\n",
      "[CV] END ....svr__C=1, svr__epsilon=0.1, svr__kernel=sigmoid; total time=   0.9s\n",
      "[CV] END .......svr__C=1, svr__epsilon=0.2, svr__kernel=poly; total time=   0.6s\n",
      "[CV] END ........svr__C=1, svr__epsilon=0.2, svr__kernel=rbf; total time=   0.6s\n",
      "[CV] END .....svr__C=1, svr__epsilon=0.5, svr__kernel=linear; total time=   0.5s\n",
      "[CV] END .....svr__C=1, svr__epsilon=0.5, svr__kernel=linear; total time=   0.5s\n",
      "[CV] END ........svr__C=1, svr__epsilon=0.5, svr__kernel=rbf; total time=   0.6s\n",
      "[CV] END ....svr__C=1, svr__epsilon=0.5, svr__kernel=sigmoid; total time=   0.5s\n",
      "[CV] END ......svr__C=2, svr__epsilon=0.01, svr__kernel=poly; total time=   1.5s\n",
      "[CV] END ......svr__C=2, svr__epsilon=0.01, svr__kernel=poly; total time=   1.4s\n",
      "[CV] END .......svr__C=2, svr__epsilon=0.01, svr__kernel=rbf; total time=   1.2s\n",
      "[CV] END .......svr__C=2, svr__epsilon=0.01, svr__kernel=rbf; total time=   1.2s\n",
      "[CV] END ....svr__C=2, svr__epsilon=0.05, svr__kernel=linear; total time=   4.0s\n",
      "[CV] END .......svr__C=2, svr__epsilon=0.05, svr__kernel=rbf; total time=   1.2s\n",
      "[CV] END ...svr__C=2, svr__epsilon=0.05, svr__kernel=sigmoid; total time=   2.0s\n",
      "[CV] END .......svr__C=2, svr__epsilon=0.1, svr__kernel=poly; total time=   0.8s\n",
      "[CV] END .......svr__C=2, svr__epsilon=0.1, svr__kernel=poly; total time=   1.2s\n",
      "[CV] END ........svr__C=2, svr__epsilon=0.1, svr__kernel=rbf; total time=   1.2s\n",
      "[CV] END ....svr__C=2, svr__epsilon=0.1, svr__kernel=sigmoid; total time=   1.4s\n",
      "[CV] END .......svr__C=2, svr__epsilon=0.2, svr__kernel=poly; total time=   1.1s\n",
      "[CV] END ....svr__C=2, svr__epsilon=0.2, svr__kernel=sigmoid; total time=   1.4s\n",
      "[CV] END .......svr__C=2, svr__epsilon=0.5, svr__kernel=poly; total time=   0.8s\n",
      "[CV] END ........svr__C=2, svr__epsilon=0.5, svr__kernel=rbf; total time=   0.7s\n",
      "[CV] END ....svr__C=5, svr__epsilon=0.01, svr__kernel=linear; total time=  12.4s\n",
      "[CV] END ......svr__C=5, svr__epsilon=0.05, svr__kernel=poly; total time=   1.2s\n",
      "[CV] END .......svr__C=5, svr__epsilon=0.05, svr__kernel=rbf; total time=   1.1s\n",
      "[CV] END .......svr__C=5, svr__epsilon=0.05, svr__kernel=rbf; total time=   1.1s\n",
      "[CV] END ...svr__C=5, svr__epsilon=0.05, svr__kernel=sigmoid; total time=   1.3s\n",
      "[CV] END .......svr__C=5, svr__epsilon=0.1, svr__kernel=poly; total time=   1.0s\n",
      "[CV] END .......svr__C=5, svr__epsilon=0.1, svr__kernel=poly; total time=   1.0s\n",
      "[CV] END ........svr__C=5, svr__epsilon=0.1, svr__kernel=rbf; total time=   0.9s\n",
      "[CV] END ........svr__C=5, svr__epsilon=0.1, svr__kernel=rbf; total time=   0.9s\n",
      "[CV] END ....svr__C=5, svr__epsilon=0.1, svr__kernel=sigmoid; total time=   1.2s\n",
      "[CV] END .....svr__C=5, svr__epsilon=0.2, svr__kernel=linear; total time=   2.3s\n",
      "[CV] END ....svr__C=5, svr__epsilon=0.2, svr__kernel=sigmoid; total time=   1.3s\n",
      "[CV] END ........svr__C=5, svr__epsilon=0.5, svr__kernel=rbf; total time=   0.7s\n",
      "[CV] END ....svr__C=5, svr__epsilon=0.5, svr__kernel=sigmoid; total time=   1.3s\n",
      "[CV] END .....svr__C=10, svr__epsilon=0.01, svr__kernel=poly; total time=   2.1s\n",
      "[CV] END ......svr__C=10, svr__epsilon=0.01, svr__kernel=rbf; total time=   1.6s\n",
      "[CV] END ......svr__C=10, svr__epsilon=0.01, svr__kernel=rbf; total time=   1.9s\n",
      "[CV] END ..svr__C=10, svr__epsilon=0.01, svr__kernel=sigmoid; total time=   1.2s\n",
      "[CV] END ..svr__C=10, svr__epsilon=0.01, svr__kernel=sigmoid; total time=   1.3s\n",
      "[CV] END ...svr__C=10, svr__epsilon=0.05, svr__kernel=linear; total time=  23.8s\n",
      "[CV] END ....svr__C=10, svr__epsilon=0.1, svr__kernel=linear; total time=  13.8s\n",
      "[CV] END ......svr__C=10, svr__epsilon=0.5, svr__kernel=poly; total time=   0.6s\n",
      "[CV] END ...svr__C=10, svr__epsilon=0.5, svr__kernel=sigmoid; total time=   1.0s\n",
      "[CV] END .................kneighborsregressor__n_neighbors=3; total time=   3.6s\n",
      "[CV] END .................kneighborsregressor__n_neighbors=5; total time=   2.9s\n",
      "[CV] END .................kneighborsregressor__n_neighbors=7; total time=   2.9s\n",
      "[CV] END .................kneighborsregressor__n_neighbors=8; total time=   3.0s\n",
      "[CV] END .................kneighborsregressor__n_neighbors=9; total time=   2.8s\n",
      "[CV] END ................kneighborsregressor__n_neighbors=15; total time=   3.0s\n",
      "[CV] END ................kneighborsregressor__n_neighbors=20; total time=   2.8s\n",
      "[CV] END ..svr__C=0.5, svr__epsilon=0.01, svr__kernel=linear; total time=   1.6s\n",
      "[CV] END .....svr__C=0.5, svr__epsilon=0.01, svr__kernel=rbf; total time=   1.0s\n",
      "[CV] END .svr__C=0.5, svr__epsilon=0.01, svr__kernel=sigmoid; total time=   0.9s\n",
      "[CV] END ....svr__C=0.5, svr__epsilon=0.05, svr__kernel=poly; total time=   0.7s\n",
      "[CV] END .....svr__C=0.5, svr__epsilon=0.05, svr__kernel=rbf; total time=   0.7s\n",
      "[CV] END .svr__C=0.5, svr__epsilon=0.05, svr__kernel=sigmoid; total time=   0.9s\n",
      "[CV] END .....svr__C=0.5, svr__epsilon=0.1, svr__kernel=poly; total time=   0.6s\n",
      "[CV] END .....svr__C=0.5, svr__epsilon=0.1, svr__kernel=poly; total time=   0.6s\n",
      "[CV] END ..svr__C=0.5, svr__epsilon=0.1, svr__kernel=sigmoid; total time=   0.8s\n",
      "[CV] END .....svr__C=0.5, svr__epsilon=0.2, svr__kernel=poly; total time=   0.5s\n",
      "[CV] END ......svr__C=0.5, svr__epsilon=0.2, svr__kernel=rbf; total time=   0.6s\n",
      "[CV] END ...svr__C=0.5, svr__epsilon=0.5, svr__kernel=linear; total time=   0.5s\n",
      "[CV] END .....svr__C=0.5, svr__epsilon=0.5, svr__kernel=poly; total time=   0.5s\n",
      "[CV] END ..svr__C=0.5, svr__epsilon=0.5, svr__kernel=sigmoid; total time=   0.6s\n",
      "[CV] END ..svr__C=0.7, svr__epsilon=0.01, svr__kernel=linear; total time=   3.4s\n",
      "[CV] END .svr__C=0.7, svr__epsilon=0.01, svr__kernel=sigmoid; total time=   1.1s\n",
      "[CV] END ....svr__C=0.7, svr__epsilon=0.05, svr__kernel=poly; total time=   0.8s\n",
      "[CV] END ....svr__C=0.7, svr__epsilon=0.05, svr__kernel=poly; total time=   0.7s\n",
      "[CV] END .svr__C=0.7, svr__epsilon=0.05, svr__kernel=sigmoid; total time=   0.9s\n",
      "[CV] END ...svr__C=0.7, svr__epsilon=0.1, svr__kernel=linear; total time=   1.1s\n",
      "[CV] END ......svr__C=0.7, svr__epsilon=0.1, svr__kernel=rbf; total time=   0.6s\n",
      "[CV] END ...svr__C=0.7, svr__epsilon=0.2, svr__kernel=linear; total time=   0.7s\n",
      "[CV] END .....svr__C=0.7, svr__epsilon=0.2, svr__kernel=poly; total time=   0.5s\n",
      "[CV] END ......svr__C=0.7, svr__epsilon=0.2, svr__kernel=rbf; total time=   0.6s\n",
      "[CV] END ...svr__C=0.7, svr__epsilon=0.5, svr__kernel=linear; total time=   0.5s\n",
      "[CV] END .....svr__C=0.7, svr__epsilon=0.5, svr__kernel=poly; total time=   0.5s\n",
      "[CV] END ......svr__C=0.7, svr__epsilon=0.5, svr__kernel=rbf; total time=   0.5s\n",
      "[CV] END ....svr__C=1, svr__epsilon=0.01, svr__kernel=linear; total time=   2.5s\n",
      "[CV] END .......svr__C=1, svr__epsilon=0.01, svr__kernel=rbf; total time=   1.1s\n",
      "[CV] END ...svr__C=1, svr__epsilon=0.01, svr__kernel=sigmoid; total time=   1.1s\n",
      "[CV] END ....svr__C=1, svr__epsilon=0.05, svr__kernel=linear; total time=   1.8s\n",
      "[CV] END .......svr__C=1, svr__epsilon=0.05, svr__kernel=rbf; total time=   0.8s\n",
      "[CV] END .....svr__C=1, svr__epsilon=0.1, svr__kernel=linear; total time=   1.5s\n",
      "[CV] END ........svr__C=1, svr__epsilon=0.1, svr__kernel=rbf; total time=   0.7s\n",
      "[CV] END ....svr__C=1, svr__epsilon=0.1, svr__kernel=sigmoid; total time=   1.0s\n",
      "[CV] END .......svr__C=1, svr__epsilon=0.2, svr__kernel=poly; total time=   0.5s\n",
      "[CV] END ........svr__C=1, svr__epsilon=0.2, svr__kernel=rbf; total time=   0.6s\n",
      "[CV] END ....svr__C=1, svr__epsilon=0.2, svr__kernel=sigmoid; total time=   0.8s\n",
      "[CV] END .......svr__C=1, svr__epsilon=0.5, svr__kernel=poly; total time=   0.5s\n",
      "[CV] END ........svr__C=1, svr__epsilon=0.5, svr__kernel=rbf; total time=   0.6s\n",
      "[CV] END ....svr__C=2, svr__epsilon=0.01, svr__kernel=linear; total time=   4.6s\n",
      "[CV] END ...svr__C=2, svr__epsilon=0.01, svr__kernel=sigmoid; total time=   1.1s\n",
      "[CV] END ....svr__C=2, svr__epsilon=0.05, svr__kernel=linear; total time=   3.6s\n",
      "[CV] END ......svr__C=2, svr__epsilon=0.05, svr__kernel=poly; total time=   1.5s\n",
      "[CV] END .......svr__C=2, svr__epsilon=0.05, svr__kernel=rbf; total time=   1.4s\n",
      "[CV] END .....svr__C=2, svr__epsilon=0.1, svr__kernel=linear; total time=   3.3s\n",
      "[CV] END ........svr__C=2, svr__epsilon=0.1, svr__kernel=rbf; total time=   1.0s\n",
      "[CV] END .....svr__C=2, svr__epsilon=0.2, svr__kernel=linear; total time=   1.5s\n",
      "[CV] END .......svr__C=2, svr__epsilon=0.2, svr__kernel=poly; total time=   0.9s\n",
      "[CV] END ....svr__C=2, svr__epsilon=0.2, svr__kernel=sigmoid; total time=   1.6s\n",
      "[CV] END .......svr__C=2, svr__epsilon=0.5, svr__kernel=poly; total time=   0.7s\n",
      "[CV] END ....svr__C=2, svr__epsilon=0.5, svr__kernel=sigmoid; total time=   0.7s\n",
      "[CV] END ....svr__C=5, svr__epsilon=0.01, svr__kernel=linear; total time=  10.1s\n",
      "[CV] END ....svr__C=5, svr__epsilon=0.05, svr__kernel=linear; total time=   6.6s\n",
      "[CV] END .....svr__C=5, svr__epsilon=0.1, svr__kernel=linear; total time=   4.9s\n",
      "[CV] END ....svr__C=5, svr__epsilon=0.1, svr__kernel=sigmoid; total time=   1.3s\n",
      "[CV] END .......svr__C=5, svr__epsilon=0.2, svr__kernel=poly; total time=   0.7s\n",
      "[CV] END ........svr__C=5, svr__epsilon=0.2, svr__kernel=rbf; total time=   0.8s\n",
      "[CV] END ....svr__C=5, svr__epsilon=0.2, svr__kernel=sigmoid; total time=   1.3s\n",
      "[CV] END .......svr__C=5, svr__epsilon=0.5, svr__kernel=poly; total time=   0.7s\n",
      "[CV] END ....svr__C=5, svr__epsilon=0.5, svr__kernel=sigmoid; total time=   1.2s\n",
      "[CV] END .....svr__C=10, svr__epsilon=0.01, svr__kernel=poly; total time=   1.7s\n",
      "[CV] END .....svr__C=10, svr__epsilon=0.01, svr__kernel=poly; total time=   1.8s\n",
      "[CV] END ......svr__C=10, svr__epsilon=0.01, svr__kernel=rbf; total time=   1.8s\n",
      "[CV] END ......svr__C=10, svr__epsilon=0.01, svr__kernel=rbf; total time=   1.7s\n",
      "[CV] END ..svr__C=10, svr__epsilon=0.01, svr__kernel=sigmoid; total time=   1.5s\n",
      "[CV] END ...svr__C=10, svr__epsilon=0.05, svr__kernel=linear; total time=  25.0s\n",
      "[CV] END ......svr__C=10, svr__epsilon=0.1, svr__kernel=poly; total time=   1.1s\n",
      "[CV] END ......svr__C=10, svr__epsilon=0.1, svr__kernel=poly; total time=   1.0s\n",
      "[CV] END ......svr__C=10, svr__epsilon=0.1, svr__kernel=poly; total time=   0.8s\n",
      "[CV] END ......svr__C=10, svr__epsilon=0.1, svr__kernel=poly; total time=   0.7s\n",
      "[CV] END .......svr__C=10, svr__epsilon=0.1, svr__kernel=rbf; total time=   1.4s\n",
      "[CV] END .......svr__C=10, svr__epsilon=0.1, svr__kernel=rbf; total time=   0.8s\n",
      "[CV] END ...svr__C=10, svr__epsilon=0.1, svr__kernel=sigmoid; total time=   2.1s\n",
      "[CV] END ....svr__C=10, svr__epsilon=0.2, svr__kernel=linear; total time=   3.6s\n",
      "[CV] END ....svr__C=10, svr__epsilon=0.5, svr__kernel=linear; total time=   0.6s\n",
      "[CV] END ....svr__C=10, svr__epsilon=0.5, svr__kernel=linear; total time=   0.7s\n",
      "[CV] END ...svr__C=10, svr__epsilon=0.5, svr__kernel=sigmoid; total time=   1.0s\n"
     ]
    },
    {
     "name": "stdout",
     "output_type": "stream",
     "text": [
      "[CV] END .................kneighborsregressor__n_neighbors=3; total time=   3.2s\n",
      "[CV] END .................kneighborsregressor__n_neighbors=4; total time=   3.1s\n",
      "[CV] END .................kneighborsregressor__n_neighbors=6; total time=   2.9s\n",
      "[CV] END .................kneighborsregressor__n_neighbors=7; total time=   2.9s\n",
      "[CV] END .................kneighborsregressor__n_neighbors=9; total time=   2.9s\n",
      "[CV] END ................kneighborsregressor__n_neighbors=15; total time=   2.9s\n",
      "[CV] END ................kneighborsregressor__n_neighbors=20; total time=   2.9s\n",
      "[CV] END ..svr__C=0.5, svr__epsilon=0.01, svr__kernel=linear; total time=   1.7s\n",
      "[CV] END .....svr__C=0.5, svr__epsilon=0.01, svr__kernel=rbf; total time=   1.0s\n",
      "[CV] END ..svr__C=0.5, svr__epsilon=0.05, svr__kernel=linear; total time=   1.3s\n",
      "[CV] END ....svr__C=0.5, svr__epsilon=0.05, svr__kernel=poly; total time=   0.7s\n",
      "[CV] END .svr__C=0.5, svr__epsilon=0.05, svr__kernel=sigmoid; total time=   0.9s\n",
      "[CV] END .....svr__C=0.5, svr__epsilon=0.1, svr__kernel=poly; total time=   0.6s\n",
      "[CV] END .....svr__C=0.5, svr__epsilon=0.1, svr__kernel=poly; total time=   0.6s\n",
      "[CV] END ..svr__C=0.5, svr__epsilon=0.1, svr__kernel=sigmoid; total time=   0.8s\n",
      "[CV] END ...svr__C=0.5, svr__epsilon=0.2, svr__kernel=linear; total time=   0.6s\n",
      "[CV] END ......svr__C=0.5, svr__epsilon=0.2, svr__kernel=rbf; total time=   0.5s\n",
      "[CV] END ..svr__C=0.5, svr__epsilon=0.2, svr__kernel=sigmoid; total time=   0.7s\n",
      "[CV] END .....svr__C=0.5, svr__epsilon=0.5, svr__kernel=poly; total time=   0.5s\n",
      "[CV] END ..svr__C=0.5, svr__epsilon=0.5, svr__kernel=sigmoid; total time=   0.5s\n",
      "[CV] END ..svr__C=0.7, svr__epsilon=0.01, svr__kernel=linear; total time=   2.4s\n",
      "[CV] END .....svr__C=0.7, svr__epsilon=0.01, svr__kernel=rbf; total time=   0.9s\n",
      "[CV] END .svr__C=0.7, svr__epsilon=0.01, svr__kernel=sigmoid; total time=   1.0s\n",
      "[CV] END ..svr__C=0.7, svr__epsilon=0.05, svr__kernel=linear; total time=   1.4s\n",
      "[CV] END .....svr__C=0.7, svr__epsilon=0.05, svr__kernel=rbf; total time=   0.8s\n",
      "[CV] END ...svr__C=0.7, svr__epsilon=0.1, svr__kernel=linear; total time=   1.2s\n",
      "[CV] END ......svr__C=0.7, svr__epsilon=0.1, svr__kernel=rbf; total time=   0.6s\n",
      "[CV] END ..svr__C=0.7, svr__epsilon=0.1, svr__kernel=sigmoid; total time=   1.0s\n",
      "[CV] END .....svr__C=0.7, svr__epsilon=0.2, svr__kernel=poly; total time=   0.5s\n",
      "[CV] END ......svr__C=0.7, svr__epsilon=0.2, svr__kernel=rbf; total time=   0.6s\n",
      "[CV] END ..svr__C=0.7, svr__epsilon=0.2, svr__kernel=sigmoid; total time=   1.0s\n",
      "[CV] END ......svr__C=0.7, svr__epsilon=0.5, svr__kernel=rbf; total time=   0.6s\n",
      "[CV] END ..svr__C=0.7, svr__epsilon=0.5, svr__kernel=sigmoid; total time=   0.5s\n",
      "[CV] END ......svr__C=1, svr__epsilon=0.01, svr__kernel=poly; total time=   1.5s\n",
      "[CV] END .......svr__C=1, svr__epsilon=0.01, svr__kernel=rbf; total time=   1.4s\n",
      "[CV] END ...svr__C=1, svr__epsilon=0.01, svr__kernel=sigmoid; total time=   1.4s\n",
      "[CV] END ......svr__C=1, svr__epsilon=0.05, svr__kernel=poly; total time=   1.3s\n",
      "[CV] END .......svr__C=1, svr__epsilon=0.05, svr__kernel=rbf; total time=   0.9s\n",
      "[CV] END ...svr__C=1, svr__epsilon=0.05, svr__kernel=sigmoid; total time=   1.2s\n",
      "[CV] END .......svr__C=1, svr__epsilon=0.1, svr__kernel=poly; total time=   0.9s\n",
      "[CV] END ....svr__C=1, svr__epsilon=0.1, svr__kernel=sigmoid; total time=   1.1s\n",
      "[CV] END .....svr__C=1, svr__epsilon=0.2, svr__kernel=linear; total time=   0.9s\n",
      "[CV] END ....svr__C=1, svr__epsilon=0.2, svr__kernel=sigmoid; total time=   1.1s\n",
      "[CV] END .......svr__C=1, svr__epsilon=0.5, svr__kernel=poly; total time=   0.6s\n",
      "[CV] END ....svr__C=1, svr__epsilon=0.5, svr__kernel=sigmoid; total time=   0.6s\n",
      "[CV] END ....svr__C=2, svr__epsilon=0.01, svr__kernel=linear; total time=   7.2s\n",
      "[CV] END ......svr__C=2, svr__epsilon=0.05, svr__kernel=poly; total time=   2.0s\n",
      "[CV] END ......svr__C=2, svr__epsilon=0.05, svr__kernel=poly; total time=   1.6s\n",
      "[CV] END ...svr__C=2, svr__epsilon=0.05, svr__kernel=sigmoid; total time=   1.6s\n",
      "[CV] END .....svr__C=2, svr__epsilon=0.1, svr__kernel=linear; total time=   3.0s\n",
      "[CV] END ....svr__C=2, svr__epsilon=0.1, svr__kernel=sigmoid; total time=   1.3s\n",
      "[CV] END .....svr__C=2, svr__epsilon=0.2, svr__kernel=linear; total time=   1.3s\n",
      "[CV] END ........svr__C=2, svr__epsilon=0.2, svr__kernel=rbf; total time=   0.9s\n",
      "[CV] END ....svr__C=2, svr__epsilon=0.2, svr__kernel=sigmoid; total time=   1.3s\n",
      "[CV] END .....svr__C=2, svr__epsilon=0.5, svr__kernel=linear; total time=   0.7s\n",
      "[CV] END ........svr__C=2, svr__epsilon=0.5, svr__kernel=rbf; total time=   0.8s\n",
      "[CV] END ....svr__C=5, svr__epsilon=0.01, svr__kernel=linear; total time=  11.1s\n",
      "[CV] END ......svr__C=5, svr__epsilon=0.05, svr__kernel=poly; total time=   1.0s\n",
      "[CV] END ......svr__C=5, svr__epsilon=0.05, svr__kernel=poly; total time=   1.0s\n",
      "[CV] END ......svr__C=5, svr__epsilon=0.05, svr__kernel=poly; total time=   1.0s\n",
      "[CV] END .......svr__C=5, svr__epsilon=0.05, svr__kernel=rbf; total time=   1.1s\n",
      "[CV] END ...svr__C=5, svr__epsilon=0.05, svr__kernel=sigmoid; total time=   1.0s\n",
      "[CV] END .....svr__C=5, svr__epsilon=0.1, svr__kernel=linear; total time=   6.7s\n",
      "[CV] END .......svr__C=5, svr__epsilon=0.2, svr__kernel=poly; total time=   0.6s\n",
      "[CV] END .......svr__C=5, svr__epsilon=0.2, svr__kernel=poly; total time=   0.6s\n",
      "[CV] END ....svr__C=5, svr__epsilon=0.2, svr__kernel=sigmoid; total time=   1.1s\n",
      "[CV] END .....svr__C=5, svr__epsilon=0.5, svr__kernel=linear; total time=   0.6s\n",
      "[CV] END ........svr__C=5, svr__epsilon=0.5, svr__kernel=rbf; total time=   0.6s\n",
      "[CV] END ...svr__C=10, svr__epsilon=0.01, svr__kernel=linear; total time=  22.9s\n",
      "[CV] END .....svr__C=10, svr__epsilon=0.05, svr__kernel=poly; total time=   1.3s\n",
      "[CV] END .....svr__C=10, svr__epsilon=0.05, svr__kernel=poly; total time=   1.4s\n",
      "[CV] END ......svr__C=10, svr__epsilon=0.05, svr__kernel=rbf; total time=   1.3s\n",
      "[CV] END ..svr__C=10, svr__epsilon=0.05, svr__kernel=sigmoid; total time=   1.2s\n",
      "[CV] END ..svr__C=10, svr__epsilon=0.05, svr__kernel=sigmoid; total time=   1.6s\n",
      "[CV] END ....svr__C=10, svr__epsilon=0.1, svr__kernel=linear; total time=  12.0s\n",
      "[CV] END ....svr__C=10, svr__epsilon=0.2, svr__kernel=linear; total time=   2.7s\n",
      "[CV] END ......svr__C=10, svr__epsilon=0.2, svr__kernel=poly; total time=   0.6s\n",
      "[CV] END .......svr__C=10, svr__epsilon=0.2, svr__kernel=rbf; total time=   0.6s\n",
      "[CV] END ...svr__C=10, svr__epsilon=0.2, svr__kernel=sigmoid; total time=   1.0s\n",
      "[CV] END ....svr__C=10, svr__epsilon=0.5, svr__kernel=linear; total time=   0.5s\n",
      "[CV] END ......svr__C=10, svr__epsilon=0.5, svr__kernel=poly; total time=   0.5s\n",
      "[CV] END .......svr__C=10, svr__epsilon=0.5, svr__kernel=rbf; total time=   0.5s\n"
     ]
    },
    {
     "data": {
      "text/plain": [
       "0.12811888761216025"
      ]
     },
     "execution_count": 60,
     "metadata": {},
     "output_type": "execute_result"
    }
   ],
   "source": [
    "# Option 1: Integrate XGB into Sklearn's pipeline\n",
    "# It allows to GridSearchCV its best hyperparams\n",
    "pipe_xgb = make_pipeline(preproc, model_xgb)\n",
    "cross_val_score(pipe_xgb, X, y_log, cv=5, scoring=rmse, n_jobs=-1).mean()"
   ]
  },
  {
   "cell_type": "code",
   "execution_count": 61,
   "metadata": {},
   "outputs": [
    {
     "name": "stdout",
     "output_type": "stream",
     "text": [
      "Best Validation Score 0.136427\n"
     ]
    },
    {
     "data": {
      "image/png": "[encoded data removed]",
      "text/plain": [
       "<Figure size 432x288 with 1 Axes>"
      ]
     },
     "metadata": {
      "needs_background": "light"
     },
     "output_type": "display_data"
    }
   ],
   "source": [
    "# Option 2: Use XGBoost Library to fit it\n",
    "# It allows to use an early_stopping criteria with a Train/Val slit\n",
    "X_train_preproc = preproc.fit_transform(X_train, y_train_log)\n",
    "X_eval_preproc = preproc.transform(X_eval)\n",
    "\n",
    "model_xgb.fit(X_train_preproc, y_train_log,\n",
    "        verbose=False,\n",
    "        eval_set=[(X_train_preproc, y_train_log), (X_eval_preproc, y_eval_log)],\n",
    "        eval_metric=[\"rmse\"],\n",
    "        early_stopping_rounds=10)\n",
    "\n",
    "# retrieve performance metrics\n",
    "results = model_xgb.evals_result()\n",
    "epochs = len(results['validation_0'][\"rmse\"])\n",
    "x_axis = range(0, epochs)\n",
    "\n",
    "# plot rmsle loss\n",
    "fig, ax = plt.subplots()\n",
    "ax.plot(x_axis, results['validation_0']['rmse'], label='Train')\n",
    "ax.plot(x_axis, results['validation_1']['rmse'], label='Val')\n",
    "ax.legend(); plt.ylabel('RMSE (of log)'); plt.title('XGBoost Log Loss')\n",
    "\n",
    "print(\"Best Validation Score\", min(results['validation_1']['rmse']))"
   ]
  },
  {
   "cell_type": "markdown",
   "metadata": {},
   "source": [
    "# 🏅FIRST SUBMISSION"
   ]
  },
  {
   "cell_type": "markdown",
   "metadata": {},
   "source": [
    "Discover the real test score by submitting on Kaggle! "
   ]
  },
  {
   "cell_type": "code",
   "execution_count": 62,
   "metadata": {
    "ExecuteTime": {
     "end_time": "2021-01-27T14:05:37.861551Z",
     "start_time": "2021-01-27T14:04:03.536Z"
    }
   },
   "outputs": [],
   "source": [
    "X_test = pd.read_csv(\"https://wagon-public-datasets.s3.amazonaws.com/houses_test_raw.csv\")\n",
    "X_test_ids = X_test['Id'] # Keep ids\n",
    "X_test = X_test.drop(columns=['Id'])"
   ]
  },
  {
   "cell_type": "code",
   "execution_count": 63,
   "metadata": {},
   "outputs": [],
   "source": [
    "pipe_knn_best.fit(X, y_log)\n",
    "predictions_log = pipe_knn_best.predict(X_test)\n",
    "predictions = np.exp(predictions_log)"
   ]
  },
  {
   "cell_type": "code",
   "execution_count": 64,
   "metadata": {},
   "outputs": [
    {
     "data": {
      "text/html": [
       "<div>\n",
       "<style scoped>\n",
       "    .dataframe tbody tr th:only-of-type {\n",
       "        vertical-align: middle;\n",
       "    }\n",
       "\n",
       "    .dataframe tbody tr th {\n",
       "        vertical-align: top;\n",
       "    }\n",
       "\n",
       "    .dataframe thead th {\n",
       "        text-align: right;\n",
       "    }\n",
       "</style>\n",
       "<table border=\"1\" class=\"dataframe\">\n",
       "  <thead>\n",
       "    <tr style=\"text-align: right;\">\n",
       "      <th></th>\n",
       "      <th>Id</th>\n",
       "      <th>SalePrice</th>\n",
       "    </tr>\n",
       "  </thead>\n",
       "  <tbody>\n",
       "    <tr>\n",
       "      <th>0</th>\n",
       "      <td>1461</td>\n",
       "      <td>136151.133063</td>\n",
       "    </tr>\n",
       "    <tr>\n",
       "      <th>1</th>\n",
       "      <td>1462</td>\n",
       "      <td>141959.442260</td>\n",
       "    </tr>\n",
       "    <tr>\n",
       "      <th>2</th>\n",
       "      <td>1463</td>\n",
       "      <td>184363.709406</td>\n",
       "    </tr>\n",
       "    <tr>\n",
       "      <th>3</th>\n",
       "      <td>1464</td>\n",
       "      <td>192752.264207</td>\n",
       "    </tr>\n",
       "    <tr>\n",
       "      <th>4</th>\n",
       "      <td>1465</td>\n",
       "      <td>199244.256909</td>\n",
       "    </tr>\n",
       "    <tr>\n",
       "      <th>...</th>\n",
       "      <td>...</td>\n",
       "      <td>...</td>\n",
       "    </tr>\n",
       "    <tr>\n",
       "      <th>1454</th>\n",
       "      <td>2915</td>\n",
       "      <td>84654.688302</td>\n",
       "    </tr>\n",
       "    <tr>\n",
       "      <th>1455</th>\n",
       "      <td>2916</td>\n",
       "      <td>94884.790625</td>\n",
       "    </tr>\n",
       "    <tr>\n",
       "      <th>1456</th>\n",
       "      <td>2917</td>\n",
       "      <td>113880.952325</td>\n",
       "    </tr>\n",
       "    <tr>\n",
       "      <th>1457</th>\n",
       "      <td>2918</td>\n",
       "      <td>121985.785044</td>\n",
       "    </tr>\n",
       "    <tr>\n",
       "      <th>1458</th>\n",
       "      <td>2919</td>\n",
       "      <td>216522.745286</td>\n",
       "    </tr>\n",
       "  </tbody>\n",
       "</table>\n",
       "<p>1459 rows × 2 columns</p>\n",
       "</div>"
      ],
      "text/plain": [
       "        Id      SalePrice\n",
       "0     1461  136151.133063\n",
       "1     1462  141959.442260\n",
       "2     1463  184363.709406\n",
       "3     1464  192752.264207\n",
       "4     1465  199244.256909\n",
       "...    ...            ...\n",
       "1454  2915   84654.688302\n",
       "1455  2916   94884.790625\n",
       "1456  2917  113880.952325\n",
       "1457  2918  121985.785044\n",
       "1458  2919  216522.745286\n",
       "\n",
       "[1459 rows x 2 columns]"
      ]
     },
     "execution_count": 64,
     "metadata": {},
     "output_type": "execute_result"
    }
   ],
   "source": [
    "results = pd.concat([X_test_ids, pd.Series(predictions, name='SalePrice')], axis=1)\n",
    "results"
   ]
  },
  {
   "cell_type": "code",
   "execution_count": 65,
   "metadata": {},
   "outputs": [],
   "source": [
    "# Export to Kaggle format submission and submit it online!\n",
    "results.to_csv(\"submission_first.csv\", header=True, index=False)"
   ]
  },
  {
   "cell_type": "code",
   "execution_count": 66,
   "metadata": {},
   "outputs": [],
   "source": [
    "# Clear the cache directory at the end\n",
    "rmtree(cachedir)"
   ]
  },
  {
   "cell_type": "markdown",
   "metadata": {},
   "source": [
    "## Using Neural Networks to optimize the model"
   ]
  },
  {
   "cell_type": "code",
   "execution_count": 67,
   "metadata": {},
   "outputs": [],
   "source": [
    "X_train, X_val, y_train, y_val = train_test_split(X_preproc, y, test_size=0.3, shuffle=True)"
   ]
  },
  {
   "cell_type": "code",
   "execution_count": 69,
   "metadata": {},
   "outputs": [],
   "source": [
    "def initialize_model(X):\n",
    "    \n",
    "    # Model architecture\n",
    "    model = Sequential()\n",
    "    model.add(layers.Dense(20, activation='relu', input_dim=X.shape[1])),\n",
    "    model.add(layers.Dense(15, activation='relu'))\n",
    "    model.add(layers.Dense(15, activation='relu'))\n",
    "    model.add(layers.Dense(20, activation='relu'))\n",
    "    model.add(layers.Dense(1, activation='linear'))\n",
    "    \n",
    "    \n",
    "    model.compile(loss='msle', # we directly optimize for the kaggle's metric!\n",
    "                  optimizer='adam')\n",
    "    \n",
    "    return model "
   ]
  },
  {
   "cell_type": "code",
   "execution_count": 70,
   "metadata": {},
   "outputs": [
    {
     "name": "stdout",
     "output_type": "stream",
     "text": [
      "Model: \"sequential\"\n",
      "_________________________________________________________________\n",
      "Layer (type)                 Output Shape              Param #   \n",
      "=================================================================\n",
      "dense (Dense)                (None, 20)                3260      \n",
      "_________________________________________________________________\n",
      "dense_1 (Dense)              (None, 15)                315       \n",
      "_________________________________________________________________\n",
      "dense_2 (Dense)              (None, 15)                240       \n",
      "_________________________________________________________________\n",
      "dense_3 (Dense)              (None, 20)                320       \n",
      "_________________________________________________________________\n",
      "dense_4 (Dense)              (None, 1)                 21        \n",
      "=================================================================\n",
      "Total params: 4,156\n",
      "Trainable params: 4,156\n",
      "Non-trainable params: 0\n",
      "_________________________________________________________________\n"
     ]
    },
    {
     "name": "stderr",
     "output_type": "stream",
     "text": [
      "2022-02-01 20:04:50.011949: W tensorflow/stream_executor/platform/default/dso_loader.cc:64] Could not load dynamic library 'libcuda.so.1'; dlerror: libcuda.so.1: cannot open shared object file: No such file or directory\n",
      "2022-02-01 20:04:50.012212: W tensorflow/stream_executor/cuda/cuda_driver.cc:326] failed call to cuInit: UNKNOWN ERROR (303)\n",
      "2022-02-01 20:04:50.082207: I tensorflow/stream_executor/cuda/cuda_diagnostics.cc:156] kernel driver does not appear to be running on this host (DESKTOP-BM2AJIC): /proc/driver/nvidia/version does not exist\n",
      "2022-02-01 20:04:50.083691: I tensorflow/core/platform/cpu_feature_guard.cc:142] This TensorFlow binary is optimized with oneAPI Deep Neural Network Library (oneDNN) to use the following CPU instructions in performance-critical operations:  AVX2 FMA\n",
      "To enable them in other operations, rebuild TensorFlow with the appropriate compiler flags.\n"
     ]
    }
   ],
   "source": [
    "model = initialize_model(X_train)\n",
    "model.summary()"
   ]
  },
  {
   "cell_type": "code",
   "execution_count": 71,
   "metadata": {},
   "outputs": [
    {
     "name": "stdout",
     "output_type": "stream",
     "text": [
      "Epoch 1/500\n"
     ]
    },
    {
     "name": "stderr",
     "output_type": "stream",
     "text": [
      "2022-02-01 20:04:50.333922: I tensorflow/compiler/mlir/mlir_graph_optimization_pass.cc:176] None of the MLIR Optimization Passes are enabled (registered 2)\n",
      "2022-02-01 20:04:50.336428: I tensorflow/core/platform/profile_utils/cpu_utils.cc:114] CPU Frequency: 2394455000 Hz\n"
     ]
    },
    {
     "name": "stdout",
     "output_type": "stream",
     "text": [
      "64/64 [==============================] - 1s 5ms/step - loss: 117.4101 - val_loss: 87.0344\n",
      "Epoch 2/500\n",
      "64/64 [==============================] - 0s 3ms/step - loss: 70.6647 - val_loss: 57.5672\n",
      "Epoch 3/500\n",
      "64/64 [==============================] - 0s 3ms/step - loss: 49.2953 - val_loss: 42.2648\n",
      "Epoch 4/500\n",
      "64/64 [==============================] - 0s 3ms/step - loss: 37.2874 - val_loss: 32.8907\n",
      "Epoch 5/500\n",
      "64/64 [==============================] - 0s 2ms/step - loss: 29.5497 - val_loss: 26.5269\n",
      "Epoch 6/500\n",
      "64/64 [==============================] - 0s 2ms/step - loss: 24.0937 - val_loss: 21.8336\n",
      "Epoch 7/500\n",
      "64/64 [==============================] - 0s 2ms/step - loss: 19.8712 - val_loss: 18.0017\n",
      "Epoch 8/500\n",
      "64/64 [==============================] - 0s 2ms/step - loss: 16.3671 - val_loss: 14.8296\n",
      "Epoch 9/500\n",
      "64/64 [==============================] - 0s 2ms/step - loss: 13.5166 - val_loss: 12.2858\n",
      "Epoch 10/500\n",
      "64/64 [==============================] - 0s 2ms/step - loss: 11.2314 - val_loss: 10.2418\n",
      "Epoch 11/500\n",
      "64/64 [==============================] - 0s 2ms/step - loss: 9.3907 - val_loss: 8.5874\n",
      "Epoch 12/500\n",
      "64/64 [==============================] - 0s 3ms/step - loss: 7.8925 - val_loss: 7.2182\n",
      "Epoch 13/500\n",
      "64/64 [==============================] - 0s 2ms/step - loss: 6.5824 - val_loss: 5.9520\n",
      "Epoch 14/500\n",
      "64/64 [==============================] - 0s 2ms/step - loss: 5.3995 - val_loss: 4.8699\n",
      "Epoch 15/500\n",
      "64/64 [==============================] - 0s 3ms/step - loss: 4.4243 - val_loss: 3.9981\n",
      "Epoch 16/500\n",
      "64/64 [==============================] - 0s 3ms/step - loss: 3.6437 - val_loss: 3.3024\n",
      "Epoch 17/500\n",
      "64/64 [==============================] - 0s 2ms/step - loss: 3.0181 - val_loss: 2.7401\n",
      "Epoch 18/500\n",
      "64/64 [==============================] - 0s 2ms/step - loss: 2.5112 - val_loss: 2.2850\n",
      "Epoch 19/500\n",
      "64/64 [==============================] - 0s 2ms/step - loss: 2.0985 - val_loss: 1.9095\n",
      "Epoch 20/500\n",
      "64/64 [==============================] - 0s 2ms/step - loss: 1.7589 - val_loss: 1.6015\n",
      "Epoch 21/500\n",
      "64/64 [==============================] - 0s 2ms/step - loss: 1.4779 - val_loss: 1.3460\n",
      "Epoch 22/500\n",
      "64/64 [==============================] - 0s 2ms/step - loss: 1.2431 - val_loss: 1.1295\n",
      "Epoch 23/500\n",
      "64/64 [==============================] - 0s 3ms/step - loss: 1.0435 - val_loss: 0.9448\n",
      "Epoch 24/500\n",
      "64/64 [==============================] - 0s 2ms/step - loss: 0.8694 - val_loss: 0.7711\n",
      "Epoch 25/500\n",
      "64/64 [==============================] - 0s 2ms/step - loss: 0.6912 - val_loss: 0.5935\n",
      "Epoch 26/500\n",
      "64/64 [==============================] - 0s 2ms/step - loss: 0.5299 - val_loss: 0.4504\n",
      "Epoch 27/500\n",
      "64/64 [==============================] - 0s 2ms/step - loss: 0.4056 - val_loss: 0.3428\n",
      "Epoch 28/500\n",
      "64/64 [==============================] - 0s 2ms/step - loss: 0.3144 - val_loss: 0.2649\n",
      "Epoch 29/500\n",
      "64/64 [==============================] - 0s 2ms/step - loss: 0.2488 - val_loss: 0.2100\n",
      "Epoch 30/500\n",
      "64/64 [==============================] - 0s 3ms/step - loss: 0.2023 - val_loss: 0.1709\n",
      "Epoch 31/500\n",
      "64/64 [==============================] - 0s 2ms/step - loss: 0.1697 - val_loss: 0.1433\n",
      "Epoch 32/500\n",
      "64/64 [==============================] - 0s 2ms/step - loss: 0.1470 - val_loss: 0.1242\n",
      "Epoch 33/500\n",
      "64/64 [==============================] - 0s 2ms/step - loss: 0.1313 - val_loss: 0.1109\n",
      "Epoch 34/500\n",
      "64/64 [==============================] - 0s 2ms/step - loss: 0.1202 - val_loss: 0.1018\n",
      "Epoch 35/500\n",
      "64/64 [==============================] - 0s 2ms/step - loss: 0.1126 - val_loss: 0.0952\n",
      "Epoch 36/500\n",
      "64/64 [==============================] - 0s 2ms/step - loss: 0.1077 - val_loss: 0.0912\n",
      "Epoch 37/500\n",
      "64/64 [==============================] - 0s 3ms/step - loss: 0.1046 - val_loss: 0.0887\n",
      "Epoch 38/500\n",
      "64/64 [==============================] - 0s 3ms/step - loss: 0.1026 - val_loss: 0.0872\n",
      "Epoch 39/500\n",
      "64/64 [==============================] - 0s 2ms/step - loss: 0.1015 - val_loss: 0.0862\n",
      "Epoch 40/500\n",
      "64/64 [==============================] - 0s 3ms/step - loss: 0.1007 - val_loss: 0.0856\n",
      "Epoch 41/500\n",
      "64/64 [==============================] - 0s 3ms/step - loss: 0.1001 - val_loss: 0.0850\n",
      "Epoch 42/500\n",
      "64/64 [==============================] - 0s 3ms/step - loss: 0.0997 - val_loss: 0.0846\n",
      "Epoch 43/500\n",
      "64/64 [==============================] - 0s 2ms/step - loss: 0.0993 - val_loss: 0.0843\n",
      "Epoch 44/500\n",
      "64/64 [==============================] - 0s 2ms/step - loss: 0.0989 - val_loss: 0.0839\n",
      "Epoch 45/500\n",
      "64/64 [==============================] - 0s 2ms/step - loss: 0.0986 - val_loss: 0.0836\n",
      "Epoch 46/500\n",
      "64/64 [==============================] - 0s 2ms/step - loss: 0.0983 - val_loss: 0.0833\n",
      "Epoch 47/500\n",
      "64/64 [==============================] - 0s 2ms/step - loss: 0.0978 - val_loss: 0.0830\n",
      "Epoch 48/500\n",
      "64/64 [==============================] - 0s 3ms/step - loss: 0.0975 - val_loss: 0.0826\n",
      "Epoch 49/500\n",
      "64/64 [==============================] - 0s 2ms/step - loss: 0.0971 - val_loss: 0.0823\n",
      "Epoch 50/500\n",
      "64/64 [==============================] - 0s 2ms/step - loss: 0.0967 - val_loss: 0.0819\n",
      "Epoch 51/500\n",
      "64/64 [==============================] - 0s 2ms/step - loss: 0.0963 - val_loss: 0.0815\n",
      "Epoch 52/500\n",
      "64/64 [==============================] - 0s 2ms/step - loss: 0.0959 - val_loss: 0.0812\n",
      "Epoch 53/500\n",
      "64/64 [==============================] - 0s 2ms/step - loss: 0.0954 - val_loss: 0.0808\n",
      "Epoch 54/500\n",
      "64/64 [==============================] - 0s 2ms/step - loss: 0.0950 - val_loss: 0.0804\n",
      "Epoch 55/500\n",
      "64/64 [==============================] - 0s 2ms/step - loss: 0.0945 - val_loss: 0.0800\n",
      "Epoch 56/500\n",
      "64/64 [==============================] - 0s 3ms/step - loss: 0.0941 - val_loss: 0.0796\n",
      "Epoch 57/500\n",
      "64/64 [==============================] - 0s 2ms/step - loss: 0.0936 - val_loss: 0.0791\n",
      "Epoch 58/500\n",
      "64/64 [==============================] - 0s 2ms/step - loss: 0.0931 - val_loss: 0.0787\n",
      "Epoch 59/500\n",
      "64/64 [==============================] - 0s 2ms/step - loss: 0.0926 - val_loss: 0.0782\n",
      "Epoch 60/500\n",
      "64/64 [==============================] - 0s 2ms/step - loss: 0.0921 - val_loss: 0.0778\n",
      "Epoch 61/500\n",
      "64/64 [==============================] - 0s 2ms/step - loss: 0.0916 - val_loss: 0.0773\n",
      "Epoch 62/500\n",
      "64/64 [==============================] - 0s 3ms/step - loss: 0.0911 - val_loss: 0.0769\n",
      "Epoch 63/500\n",
      "64/64 [==============================] - 0s 3ms/step - loss: 0.0905 - val_loss: 0.0764\n",
      "Epoch 64/500\n",
      "64/64 [==============================] - 0s 2ms/step - loss: 0.0900 - val_loss: 0.0759\n",
      "Epoch 65/500\n",
      "64/64 [==============================] - 0s 3ms/step - loss: 0.0894 - val_loss: 0.0754\n",
      "Epoch 66/500\n",
      "64/64 [==============================] - 0s 3ms/step - loss: 0.0888 - val_loss: 0.0748\n",
      "Epoch 67/500\n",
      "64/64 [==============================] - 0s 3ms/step - loss: 0.0882 - val_loss: 0.0743\n",
      "Epoch 68/500\n",
      "64/64 [==============================] - 0s 2ms/step - loss: 0.0876 - val_loss: 0.0738\n",
      "Epoch 69/500\n",
      "64/64 [==============================] - 0s 2ms/step - loss: 0.0870 - val_loss: 0.0732\n",
      "Epoch 70/500\n",
      "64/64 [==============================] - 0s 2ms/step - loss: 0.0864 - val_loss: 0.0727\n",
      "Epoch 71/500\n",
      "64/64 [==============================] - 0s 2ms/step - loss: 0.0857 - val_loss: 0.0721\n",
      "Epoch 72/500\n",
      "64/64 [==============================] - 0s 2ms/step - loss: 0.0850 - val_loss: 0.0715\n",
      "Epoch 73/500\n",
      "64/64 [==============================] - 0s 2ms/step - loss: 0.0844 - val_loss: 0.0709\n",
      "Epoch 74/500\n",
      "64/64 [==============================] - 0s 2ms/step - loss: 0.0837 - val_loss: 0.0703\n",
      "Epoch 75/500\n",
      "64/64 [==============================] - 0s 2ms/step - loss: 0.0830 - val_loss: 0.0697\n",
      "Epoch 76/500\n",
      "64/64 [==============================] - 0s 2ms/step - loss: 0.0823 - val_loss: 0.0691\n",
      "Epoch 77/500\n",
      "64/64 [==============================] - 0s 3ms/step - loss: 0.0815 - val_loss: 0.0685\n",
      "Epoch 78/500\n",
      "64/64 [==============================] - 0s 3ms/step - loss: 0.0808 - val_loss: 0.0678\n",
      "Epoch 79/500\n",
      "64/64 [==============================] - 0s 3ms/step - loss: 0.0801 - val_loss: 0.0672\n",
      "Epoch 80/500\n",
      "64/64 [==============================] - 0s 2ms/step - loss: 0.0794 - val_loss: 0.0665\n",
      "Epoch 81/500\n",
      "64/64 [==============================] - 0s 2ms/step - loss: 0.0786 - val_loss: 0.0658\n",
      "Epoch 82/500\n",
      "64/64 [==============================] - 0s 2ms/step - loss: 0.0777 - val_loss: 0.0651\n"
     ]
    },
    {
     "name": "stdout",
     "output_type": "stream",
     "text": [
      "Epoch 83/500\n",
      "64/64 [==============================] - 0s 2ms/step - loss: 0.0770 - val_loss: 0.0644\n",
      "Epoch 84/500\n",
      "64/64 [==============================] - 0s 2ms/step - loss: 0.0762 - val_loss: 0.0637\n",
      "Epoch 85/500\n",
      "64/64 [==============================] - 0s 2ms/step - loss: 0.0753 - val_loss: 0.0630\n",
      "Epoch 86/500\n",
      "64/64 [==============================] - 0s 2ms/step - loss: 0.0745 - val_loss: 0.0623\n",
      "Epoch 87/500\n",
      "64/64 [==============================] - 0s 2ms/step - loss: 0.0736 - val_loss: 0.0616\n",
      "Epoch 88/500\n",
      "64/64 [==============================] - 0s 2ms/step - loss: 0.0728 - val_loss: 0.0608\n",
      "Epoch 89/500\n",
      "64/64 [==============================] - 0s 2ms/step - loss: 0.0721 - val_loss: 0.0601\n",
      "Epoch 90/500\n",
      "64/64 [==============================] - 0s 2ms/step - loss: 0.0710 - val_loss: 0.0593\n",
      "Epoch 91/500\n",
      "64/64 [==============================] - 0s 2ms/step - loss: 0.0701 - val_loss: 0.0586\n",
      "Epoch 92/500\n",
      "64/64 [==============================] - 0s 3ms/step - loss: 0.0693 - val_loss: 0.0578\n",
      "Epoch 93/500\n",
      "64/64 [==============================] - 0s 2ms/step - loss: 0.0683 - val_loss: 0.0571\n",
      "Epoch 94/500\n",
      "64/64 [==============================] - 0s 2ms/step - loss: 0.0674 - val_loss: 0.0563\n",
      "Epoch 95/500\n",
      "64/64 [==============================] - 0s 2ms/step - loss: 0.0665 - val_loss: 0.0555\n",
      "Epoch 96/500\n",
      "64/64 [==============================] - 0s 2ms/step - loss: 0.0655 - val_loss: 0.0547\n",
      "Epoch 97/500\n",
      "64/64 [==============================] - 0s 2ms/step - loss: 0.0646 - val_loss: 0.0539\n",
      "Epoch 98/500\n",
      "64/64 [==============================] - 0s 2ms/step - loss: 0.0637 - val_loss: 0.0531\n",
      "Epoch 99/500\n",
      "64/64 [==============================] - 0s 3ms/step - loss: 0.0627 - val_loss: 0.0523\n",
      "Epoch 100/500\n",
      "64/64 [==============================] - 0s 2ms/step - loss: 0.0618 - val_loss: 0.0516\n",
      "Epoch 101/500\n",
      "64/64 [==============================] - 0s 2ms/step - loss: 0.0609 - val_loss: 0.0508\n",
      "Epoch 102/500\n",
      "64/64 [==============================] - 0s 2ms/step - loss: 0.0598 - val_loss: 0.0500\n",
      "Epoch 103/500\n",
      "64/64 [==============================] - 0s 2ms/step - loss: 0.0589 - val_loss: 0.0492\n",
      "Epoch 104/500\n",
      "64/64 [==============================] - 0s 2ms/step - loss: 0.0579 - val_loss: 0.0484\n",
      "Epoch 105/500\n",
      "64/64 [==============================] - 0s 2ms/step - loss: 0.0569 - val_loss: 0.0476\n",
      "Epoch 106/500\n",
      "64/64 [==============================] - 0s 2ms/step - loss: 0.0560 - val_loss: 0.0469\n",
      "Epoch 107/500\n",
      "64/64 [==============================] - 0s 3ms/step - loss: 0.0550 - val_loss: 0.0461\n",
      "Epoch 108/500\n",
      "64/64 [==============================] - 0s 2ms/step - loss: 0.0541 - val_loss: 0.0453\n",
      "Epoch 109/500\n",
      "64/64 [==============================] - 0s 2ms/step - loss: 0.0531 - val_loss: 0.0446\n",
      "Epoch 110/500\n",
      "64/64 [==============================] - 0s 2ms/step - loss: 0.0522 - val_loss: 0.0439\n",
      "Epoch 111/500\n",
      "64/64 [==============================] - 0s 2ms/step - loss: 0.0512 - val_loss: 0.0432\n",
      "Epoch 112/500\n",
      "64/64 [==============================] - 0s 3ms/step - loss: 0.0503 - val_loss: 0.0424\n",
      "Epoch 113/500\n",
      "64/64 [==============================] - 0s 3ms/step - loss: 0.0494 - val_loss: 0.0418\n",
      "Epoch 114/500\n",
      "64/64 [==============================] - 0s 2ms/step - loss: 0.0485 - val_loss: 0.0411\n",
      "Epoch 115/500\n",
      "64/64 [==============================] - 0s 2ms/step - loss: 0.0476 - val_loss: 0.0404\n",
      "Epoch 116/500\n",
      "64/64 [==============================] - 0s 2ms/step - loss: 0.0467 - val_loss: 0.0398\n",
      "Epoch 117/500\n",
      "64/64 [==============================] - 0s 2ms/step - loss: 0.0459 - val_loss: 0.0391\n",
      "Epoch 118/500\n",
      "64/64 [==============================] - 0s 2ms/step - loss: 0.0450 - val_loss: 0.0386\n",
      "Epoch 119/500\n",
      "64/64 [==============================] - 0s 2ms/step - loss: 0.0442 - val_loss: 0.0380\n",
      "Epoch 120/500\n",
      "64/64 [==============================] - 0s 2ms/step - loss: 0.0434 - val_loss: 0.0374\n",
      "Epoch 121/500\n",
      "64/64 [==============================] - 0s 2ms/step - loss: 0.0427 - val_loss: 0.0369\n",
      "Epoch 122/500\n",
      "64/64 [==============================] - 0s 2ms/step - loss: 0.0419 - val_loss: 0.0363\n",
      "Epoch 123/500\n",
      "64/64 [==============================] - 0s 2ms/step - loss: 0.0412 - val_loss: 0.0358\n",
      "Epoch 124/500\n",
      "64/64 [==============================] - 0s 2ms/step - loss: 0.0404 - val_loss: 0.0354\n",
      "Epoch 125/500\n",
      "64/64 [==============================] - 0s 2ms/step - loss: 0.0397 - val_loss: 0.0349\n",
      "Epoch 126/500\n",
      "64/64 [==============================] - 0s 2ms/step - loss: 0.0391 - val_loss: 0.0345\n",
      "Epoch 127/500\n",
      "64/64 [==============================] - 0s 2ms/step - loss: 0.0384 - val_loss: 0.0341\n",
      "Epoch 128/500\n",
      "64/64 [==============================] - 0s 2ms/step - loss: 0.0379 - val_loss: 0.0337\n",
      "Epoch 129/500\n",
      "64/64 [==============================] - 0s 2ms/step - loss: 0.0373 - val_loss: 0.0333\n",
      "Epoch 130/500\n",
      "64/64 [==============================] - 0s 2ms/step - loss: 0.0367 - val_loss: 0.0330\n",
      "Epoch 131/500\n",
      "64/64 [==============================] - 0s 2ms/step - loss: 0.0361 - val_loss: 0.0326\n",
      "Epoch 132/500\n",
      "64/64 [==============================] - 0s 2ms/step - loss: 0.0356 - val_loss: 0.0323\n",
      "Epoch 133/500\n",
      "64/64 [==============================] - 0s 2ms/step - loss: 0.0350 - val_loss: 0.0320\n",
      "Epoch 134/500\n",
      "64/64 [==============================] - 0s 2ms/step - loss: 0.0346 - val_loss: 0.0316\n",
      "Epoch 135/500\n",
      "64/64 [==============================] - 0s 2ms/step - loss: 0.0340 - val_loss: 0.0314\n",
      "Epoch 136/500\n",
      "64/64 [==============================] - 0s 2ms/step - loss: 0.0336 - val_loss: 0.0311\n",
      "Epoch 137/500\n",
      "64/64 [==============================] - 0s 2ms/step - loss: 0.0331 - val_loss: 0.0308\n",
      "Epoch 138/500\n",
      "64/64 [==============================] - 0s 2ms/step - loss: 0.0327 - val_loss: 0.0305\n",
      "Epoch 139/500\n",
      "64/64 [==============================] - 0s 2ms/step - loss: 0.0323 - val_loss: 0.0303\n",
      "Epoch 140/500\n",
      "64/64 [==============================] - 0s 2ms/step - loss: 0.0319 - val_loss: 0.0300\n",
      "Epoch 141/500\n",
      "64/64 [==============================] - 0s 2ms/step - loss: 0.0314 - val_loss: 0.0298\n",
      "Epoch 142/500\n",
      "64/64 [==============================] - 0s 2ms/step - loss: 0.0310 - val_loss: 0.0295\n",
      "Epoch 143/500\n",
      "64/64 [==============================] - 0s 2ms/step - loss: 0.0307 - val_loss: 0.0293\n",
      "Epoch 144/500\n",
      "64/64 [==============================] - 0s 3ms/step - loss: 0.0303 - val_loss: 0.0291\n",
      "Epoch 145/500\n",
      "64/64 [==============================] - 0s 2ms/step - loss: 0.0299 - val_loss: 0.0288\n",
      "Epoch 146/500\n",
      "64/64 [==============================] - 0s 2ms/step - loss: 0.0296 - val_loss: 0.0286\n",
      "Epoch 147/500\n",
      "64/64 [==============================] - 0s 2ms/step - loss: 0.0293 - val_loss: 0.0284\n",
      "Epoch 148/500\n",
      "64/64 [==============================] - 0s 3ms/step - loss: 0.0290 - val_loss: 0.0283\n",
      "Epoch 149/500\n",
      "64/64 [==============================] - 0s 2ms/step - loss: 0.0286 - val_loss: 0.0281\n",
      "Epoch 150/500\n",
      "64/64 [==============================] - 0s 2ms/step - loss: 0.0283 - val_loss: 0.0278\n",
      "Epoch 151/500\n",
      "64/64 [==============================] - 0s 2ms/step - loss: 0.0282 - val_loss: 0.0276\n",
      "Epoch 152/500\n",
      "64/64 [==============================] - 0s 2ms/step - loss: 0.0278 - val_loss: 0.0277\n",
      "Epoch 153/500\n",
      "64/64 [==============================] - 0s 2ms/step - loss: 0.0275 - val_loss: 0.0273\n",
      "Epoch 154/500\n",
      "64/64 [==============================] - 0s 2ms/step - loss: 0.0273 - val_loss: 0.0272\n",
      "Epoch 155/500\n",
      "64/64 [==============================] - 0s 2ms/step - loss: 0.0270 - val_loss: 0.0270\n",
      "Epoch 156/500\n",
      "64/64 [==============================] - 0s 2ms/step - loss: 0.0267 - val_loss: 0.0269\n",
      "Epoch 157/500\n",
      "64/64 [==============================] - 0s 2ms/step - loss: 0.0265 - val_loss: 0.0266\n",
      "Epoch 158/500\n",
      "64/64 [==============================] - 0s 2ms/step - loss: 0.0262 - val_loss: 0.0267\n",
      "Epoch 159/500\n",
      "64/64 [==============================] - 0s 2ms/step - loss: 0.0261 - val_loss: 0.0264\n",
      "Epoch 160/500\n",
      "64/64 [==============================] - 0s 2ms/step - loss: 0.0258 - val_loss: 0.0263\n",
      "Epoch 161/500\n",
      "64/64 [==============================] - 0s 2ms/step - loss: 0.0256 - val_loss: 0.0260\n",
      "Epoch 162/500\n",
      "64/64 [==============================] - 0s 2ms/step - loss: 0.0254 - val_loss: 0.0259\n",
      "Epoch 163/500\n",
      "64/64 [==============================] - 0s 2ms/step - loss: 0.0251 - val_loss: 0.0258\n",
      "Epoch 164/500\n"
     ]
    },
    {
     "name": "stdout",
     "output_type": "stream",
     "text": [
      "64/64 [==============================] - 0s 2ms/step - loss: 0.0249 - val_loss: 0.0256\n",
      "Epoch 165/500\n",
      "64/64 [==============================] - 0s 3ms/step - loss: 0.0247 - val_loss: 0.0257\n",
      "Epoch 166/500\n",
      "64/64 [==============================] - 0s 2ms/step - loss: 0.0246 - val_loss: 0.0256\n",
      "Epoch 167/500\n",
      "64/64 [==============================] - 0s 2ms/step - loss: 0.0243 - val_loss: 0.0253\n",
      "Epoch 168/500\n",
      "64/64 [==============================] - 0s 2ms/step - loss: 0.0241 - val_loss: 0.0253\n",
      "Epoch 169/500\n",
      "64/64 [==============================] - 0s 2ms/step - loss: 0.0239 - val_loss: 0.0252\n",
      "Epoch 170/500\n",
      "64/64 [==============================] - 0s 2ms/step - loss: 0.0237 - val_loss: 0.0249\n",
      "Epoch 171/500\n",
      "64/64 [==============================] - 0s 2ms/step - loss: 0.0235 - val_loss: 0.0248\n",
      "Epoch 172/500\n",
      "64/64 [==============================] - 0s 2ms/step - loss: 0.0233 - val_loss: 0.0248\n",
      "Epoch 173/500\n",
      "64/64 [==============================] - 0s 2ms/step - loss: 0.0232 - val_loss: 0.0245\n",
      "Epoch 174/500\n",
      "64/64 [==============================] - 0s 2ms/step - loss: 0.0230 - val_loss: 0.0246\n",
      "Epoch 175/500\n",
      "64/64 [==============================] - 0s 2ms/step - loss: 0.0228 - val_loss: 0.0243\n",
      "Epoch 176/500\n",
      "64/64 [==============================] - 0s 2ms/step - loss: 0.0226 - val_loss: 0.0242\n",
      "Epoch 177/500\n",
      "64/64 [==============================] - 0s 2ms/step - loss: 0.0225 - val_loss: 0.0241\n",
      "Epoch 178/500\n",
      "64/64 [==============================] - 0s 2ms/step - loss: 0.0222 - val_loss: 0.0239\n",
      "Epoch 179/500\n",
      "64/64 [==============================] - 0s 2ms/step - loss: 0.0221 - val_loss: 0.0238\n",
      "Epoch 180/500\n",
      "64/64 [==============================] - 0s 3ms/step - loss: 0.0219 - val_loss: 0.0237\n",
      "Epoch 181/500\n",
      "64/64 [==============================] - 0s 2ms/step - loss: 0.0216 - val_loss: 0.0235\n",
      "Epoch 182/500\n",
      "64/64 [==============================] - 0s 2ms/step - loss: 0.0216 - val_loss: 0.0234\n",
      "Epoch 183/500\n",
      "64/64 [==============================] - 0s 2ms/step - loss: 0.0212 - val_loss: 0.0243\n",
      "Epoch 184/500\n",
      "64/64 [==============================] - 0s 2ms/step - loss: 0.0214 - val_loss: 0.0234\n",
      "Epoch 185/500\n",
      "64/64 [==============================] - 0s 3ms/step - loss: 0.0210 - val_loss: 0.0231\n",
      "Epoch 186/500\n",
      "64/64 [==============================] - 0s 2ms/step - loss: 0.0208 - val_loss: 0.0232\n",
      "Epoch 187/500\n",
      "64/64 [==============================] - 0s 3ms/step - loss: 0.0207 - val_loss: 0.0229\n",
      "Epoch 188/500\n",
      "64/64 [==============================] - 0s 2ms/step - loss: 0.0205 - val_loss: 0.0229\n",
      "Epoch 189/500\n",
      "64/64 [==============================] - 0s 2ms/step - loss: 0.0204 - val_loss: 0.0228\n",
      "Epoch 190/500\n",
      "64/64 [==============================] - 0s 2ms/step - loss: 0.0202 - val_loss: 0.0229\n",
      "Epoch 191/500\n",
      "64/64 [==============================] - 0s 2ms/step - loss: 0.0201 - val_loss: 0.0226\n",
      "Epoch 192/500\n",
      "64/64 [==============================] - 0s 2ms/step - loss: 0.0200 - val_loss: 0.0226\n",
      "Epoch 193/500\n",
      "64/64 [==============================] - 0s 2ms/step - loss: 0.0198 - val_loss: 0.0225\n",
      "Epoch 194/500\n",
      "64/64 [==============================] - 0s 2ms/step - loss: 0.0197 - val_loss: 0.0225\n",
      "Epoch 195/500\n",
      "64/64 [==============================] - 0s 2ms/step - loss: 0.0197 - val_loss: 0.0224\n",
      "Epoch 196/500\n",
      "64/64 [==============================] - 0s 2ms/step - loss: 0.0194 - val_loss: 0.0223\n",
      "Epoch 197/500\n",
      "64/64 [==============================] - 0s 2ms/step - loss: 0.0194 - val_loss: 0.0223\n",
      "Epoch 198/500\n",
      "64/64 [==============================] - 0s 2ms/step - loss: 0.0192 - val_loss: 0.0224\n",
      "Epoch 199/500\n",
      "64/64 [==============================] - 0s 2ms/step - loss: 0.0191 - val_loss: 0.0222\n",
      "Epoch 200/500\n",
      "64/64 [==============================] - 0s 2ms/step - loss: 0.0190 - val_loss: 0.0228\n",
      "Epoch 201/500\n",
      "64/64 [==============================] - 0s 2ms/step - loss: 0.0188 - val_loss: 0.0220\n",
      "Epoch 202/500\n",
      "64/64 [==============================] - 0s 2ms/step - loss: 0.0187 - val_loss: 0.0222\n",
      "Epoch 203/500\n",
      "64/64 [==============================] - 0s 2ms/step - loss: 0.0186 - val_loss: 0.0219\n",
      "Epoch 204/500\n",
      "64/64 [==============================] - 0s 2ms/step - loss: 0.0186 - val_loss: 0.0219\n",
      "Epoch 205/500\n",
      "64/64 [==============================] - 0s 2ms/step - loss: 0.0184 - val_loss: 0.0234\n",
      "Epoch 206/500\n",
      "64/64 [==============================] - 0s 2ms/step - loss: 0.0185 - val_loss: 0.0219\n",
      "Epoch 207/500\n",
      "64/64 [==============================] - 0s 2ms/step - loss: 0.0181 - val_loss: 0.0219\n",
      "Epoch 208/500\n",
      "64/64 [==============================] - 0s 3ms/step - loss: 0.0181 - val_loss: 0.0216\n",
      "Epoch 209/500\n",
      "64/64 [==============================] - 0s 2ms/step - loss: 0.0180 - val_loss: 0.0217\n",
      "Epoch 210/500\n",
      "64/64 [==============================] - 0s 2ms/step - loss: 0.0179 - val_loss: 0.0216\n",
      "Epoch 211/500\n",
      "64/64 [==============================] - 0s 2ms/step - loss: 0.0178 - val_loss: 0.0219\n",
      "Epoch 212/500\n",
      "64/64 [==============================] - 0s 2ms/step - loss: 0.0176 - val_loss: 0.0215\n",
      "Epoch 213/500\n",
      "64/64 [==============================] - 0s 2ms/step - loss: 0.0175 - val_loss: 0.0218\n",
      "Epoch 214/500\n",
      "64/64 [==============================] - 0s 2ms/step - loss: 0.0175 - val_loss: 0.0215\n",
      "Epoch 215/500\n",
      "64/64 [==============================] - 0s 2ms/step - loss: 0.0174 - val_loss: 0.0221\n",
      "Epoch 216/500\n",
      "64/64 [==============================] - 0s 2ms/step - loss: 0.0174 - val_loss: 0.0213\n",
      "Epoch 217/500\n",
      "64/64 [==============================] - 0s 3ms/step - loss: 0.0173 - val_loss: 0.0213\n",
      "Epoch 218/500\n",
      "64/64 [==============================] - 0s 2ms/step - loss: 0.0171 - val_loss: 0.0214\n",
      "Epoch 219/500\n",
      "64/64 [==============================] - 0s 2ms/step - loss: 0.0171 - val_loss: 0.0214\n",
      "Epoch 220/500\n",
      "64/64 [==============================] - 0s 3ms/step - loss: 0.0169 - val_loss: 0.0212\n",
      "Epoch 221/500\n",
      "64/64 [==============================] - 0s 2ms/step - loss: 0.0169 - val_loss: 0.0213\n",
      "Epoch 222/500\n",
      "64/64 [==============================] - 0s 2ms/step - loss: 0.0168 - val_loss: 0.0215\n",
      "Epoch 223/500\n",
      "64/64 [==============================] - 0s 2ms/step - loss: 0.0167 - val_loss: 0.0213\n",
      "Epoch 224/500\n",
      "64/64 [==============================] - 0s 2ms/step - loss: 0.0166 - val_loss: 0.0214\n",
      "Epoch 225/500\n",
      "64/64 [==============================] - 0s 2ms/step - loss: 0.0165 - val_loss: 0.0214\n",
      "Epoch 226/500\n",
      "64/64 [==============================] - 0s 2ms/step - loss: 0.0165 - val_loss: 0.0211\n",
      "Epoch 227/500\n",
      "64/64 [==============================] - 0s 2ms/step - loss: 0.0164 - val_loss: 0.0213\n",
      "Epoch 228/500\n",
      "64/64 [==============================] - 0s 2ms/step - loss: 0.0163 - val_loss: 0.0214\n",
      "Epoch 229/500\n",
      "64/64 [==============================] - 0s 2ms/step - loss: 0.0162 - val_loss: 0.0210\n",
      "Epoch 230/500\n",
      "64/64 [==============================] - 0s 2ms/step - loss: 0.0162 - val_loss: 0.0210\n",
      "Epoch 231/500\n",
      "64/64 [==============================] - 0s 2ms/step - loss: 0.0160 - val_loss: 0.0211\n",
      "Epoch 232/500\n",
      "64/64 [==============================] - 0s 2ms/step - loss: 0.0160 - val_loss: 0.0211\n",
      "Epoch 233/500\n",
      "64/64 [==============================] - 0s 2ms/step - loss: 0.0160 - val_loss: 0.0214\n",
      "Epoch 234/500\n",
      "64/64 [==============================] - 0s 2ms/step - loss: 0.0159 - val_loss: 0.0210\n",
      "Epoch 235/500\n",
      "64/64 [==============================] - 0s 3ms/step - loss: 0.0158 - val_loss: 0.0211\n",
      "Epoch 236/500\n",
      "64/64 [==============================] - 0s 2ms/step - loss: 0.0157 - val_loss: 0.0211\n",
      "Epoch 237/500\n",
      "64/64 [==============================] - 0s 2ms/step - loss: 0.0156 - val_loss: 0.0212\n",
      "Epoch 238/500\n",
      "64/64 [==============================] - 0s 2ms/step - loss: 0.0156 - val_loss: 0.0213\n",
      "Epoch 239/500\n",
      "64/64 [==============================] - 0s 2ms/step - loss: 0.0155 - val_loss: 0.0211\n",
      "Epoch 240/500\n",
      "64/64 [==============================] - 0s 2ms/step - loss: 0.0154 - val_loss: 0.0210\n",
      "Epoch 241/500\n",
      "64/64 [==============================] - 0s 2ms/step - loss: 0.0154 - val_loss: 0.0212\n",
      "Epoch 242/500\n",
      "64/64 [==============================] - 0s 2ms/step - loss: 0.0153 - val_loss: 0.0210\n",
      "Epoch 243/500\n",
      "64/64 [==============================] - 0s 2ms/step - loss: 0.0153 - val_loss: 0.0212\n",
      "Epoch 244/500\n",
      "64/64 [==============================] - 0s 2ms/step - loss: 0.0152 - val_loss: 0.0210\n",
      "Epoch 245/500\n"
     ]
    },
    {
     "name": "stdout",
     "output_type": "stream",
     "text": [
      "64/64 [==============================] - 0s 2ms/step - loss: 0.0151 - val_loss: 0.0211\n",
      "Epoch 246/500\n",
      "64/64 [==============================] - 0s 2ms/step - loss: 0.0150 - val_loss: 0.0210\n",
      "Epoch 247/500\n",
      "64/64 [==============================] - 0s 2ms/step - loss: 0.0149 - val_loss: 0.0211\n",
      "Epoch 248/500\n",
      "64/64 [==============================] - 0s 2ms/step - loss: 0.0149 - val_loss: 0.0211\n",
      "Epoch 249/500\n",
      "64/64 [==============================] - 0s 2ms/step - loss: 0.0148 - val_loss: 0.0211\n",
      "Epoch 250/500\n",
      "64/64 [==============================] - 0s 3ms/step - loss: 0.0149 - val_loss: 0.0212\n",
      "Epoch 251/500\n",
      "64/64 [==============================] - 0s 2ms/step - loss: 0.0146 - val_loss: 0.0211\n",
      "Epoch 252/500\n",
      "64/64 [==============================] - 0s 2ms/step - loss: 0.0147 - val_loss: 0.0212\n",
      "Epoch 253/500\n",
      "64/64 [==============================] - 0s 3ms/step - loss: 0.0146 - val_loss: 0.0211\n",
      "Epoch 254/500\n",
      "64/64 [==============================] - 0s 2ms/step - loss: 0.0145 - val_loss: 0.0212\n",
      "Epoch 255/500\n",
      "64/64 [==============================] - 0s 2ms/step - loss: 0.0146 - val_loss: 0.0212\n",
      "Epoch 256/500\n",
      "64/64 [==============================] - 0s 2ms/step - loss: 0.0144 - val_loss: 0.0213\n",
      "Epoch 257/500\n",
      "64/64 [==============================] - 0s 2ms/step - loss: 0.0143 - val_loss: 0.0212\n",
      "Epoch 258/500\n",
      "64/64 [==============================] - 0s 2ms/step - loss: 0.0143 - val_loss: 0.0212\n",
      "Epoch 259/500\n",
      "64/64 [==============================] - 0s 2ms/step - loss: 0.0142 - val_loss: 0.0212\n",
      "Epoch 260/500\n",
      "64/64 [==============================] - 0s 2ms/step - loss: 0.0143 - val_loss: 0.0213\n",
      "Epoch 261/500\n",
      "64/64 [==============================] - 0s 2ms/step - loss: 0.0141 - val_loss: 0.0215\n",
      "Epoch 262/500\n",
      "64/64 [==============================] - 0s 2ms/step - loss: 0.0141 - val_loss: 0.0214\n",
      "Epoch 263/500\n",
      "64/64 [==============================] - 0s 2ms/step - loss: 0.0140 - val_loss: 0.0215\n",
      "Epoch 264/500\n",
      "64/64 [==============================] - 0s 2ms/step - loss: 0.0141 - val_loss: 0.0214\n",
      "Epoch 265/500\n",
      "64/64 [==============================] - 0s 3ms/step - loss: 0.0139 - val_loss: 0.0214\n",
      "Epoch 266/500\n",
      "64/64 [==============================] - 0s 3ms/step - loss: 0.0139 - val_loss: 0.0214\n",
      "Epoch 267/500\n",
      "64/64 [==============================] - 0s 2ms/step - loss: 0.0137 - val_loss: 0.0216\n",
      "Epoch 268/500\n",
      "64/64 [==============================] - 0s 2ms/step - loss: 0.0137 - val_loss: 0.0215\n",
      "Epoch 269/500\n",
      "64/64 [==============================] - 0s 2ms/step - loss: 0.0137 - val_loss: 0.0216\n",
      "Epoch 270/500\n",
      "64/64 [==============================] - 0s 3ms/step - loss: 0.0136 - val_loss: 0.0215\n",
      "Epoch 271/500\n",
      "64/64 [==============================] - 0s 2ms/step - loss: 0.0136 - val_loss: 0.0216\n",
      "Epoch 272/500\n",
      "64/64 [==============================] - 0s 3ms/step - loss: 0.0136 - val_loss: 0.0214\n",
      "Epoch 273/500\n",
      "64/64 [==============================] - 0s 3ms/step - loss: 0.0135 - val_loss: 0.0215\n",
      "Epoch 274/500\n",
      "64/64 [==============================] - 0s 2ms/step - loss: 0.0134 - val_loss: 0.0218\n",
      "Epoch 275/500\n",
      "64/64 [==============================] - 0s 2ms/step - loss: 0.0134 - val_loss: 0.0217\n",
      "Epoch 276/500\n",
      "64/64 [==============================] - 0s 2ms/step - loss: 0.0133 - val_loss: 0.0215\n",
      "Epoch 277/500\n",
      "64/64 [==============================] - 0s 2ms/step - loss: 0.0132 - val_loss: 0.0219\n",
      "Epoch 278/500\n",
      "64/64 [==============================] - 0s 2ms/step - loss: 0.0133 - val_loss: 0.0217\n",
      "Epoch 279/500\n",
      "64/64 [==============================] - 0s 2ms/step - loss: 0.0132 - val_loss: 0.0218\n",
      "Epoch 280/500\n",
      "64/64 [==============================] - 0s 2ms/step - loss: 0.0132 - val_loss: 0.0218\n",
      "Epoch 281/500\n",
      "64/64 [==============================] - 0s 2ms/step - loss: 0.0130 - val_loss: 0.0218\n",
      "Epoch 282/500\n",
      "64/64 [==============================] - 0s 2ms/step - loss: 0.0130 - val_loss: 0.0217\n",
      "Epoch 283/500\n",
      "64/64 [==============================] - 0s 2ms/step - loss: 0.0129 - val_loss: 0.0217\n",
      "Epoch 284/500\n",
      "64/64 [==============================] - 0s 2ms/step - loss: 0.0128 - val_loss: 0.0220\n",
      "Epoch 285/500\n",
      "64/64 [==============================] - 0s 2ms/step - loss: 0.0128 - val_loss: 0.0218\n",
      "Epoch 286/500\n",
      "64/64 [==============================] - 0s 2ms/step - loss: 0.0127 - val_loss: 0.0218\n",
      "Epoch 287/500\n",
      "64/64 [==============================] - 0s 2ms/step - loss: 0.0127 - val_loss: 0.0217\n",
      "Epoch 288/500\n",
      "64/64 [==============================] - 0s 2ms/step - loss: 0.0127 - val_loss: 0.0224\n",
      "Epoch 289/500\n",
      "64/64 [==============================] - 0s 2ms/step - loss: 0.0128 - val_loss: 0.0219\n",
      "Epoch 290/500\n",
      "64/64 [==============================] - 0s 2ms/step - loss: 0.0126 - val_loss: 0.0218\n",
      "Epoch 291/500\n",
      "64/64 [==============================] - 0s 3ms/step - loss: 0.0125 - val_loss: 0.0221\n",
      "Epoch 292/500\n",
      "64/64 [==============================] - 0s 2ms/step - loss: 0.0125 - val_loss: 0.0225\n",
      "Epoch 293/500\n",
      "64/64 [==============================] - 0s 2ms/step - loss: 0.0125 - val_loss: 0.0220\n",
      "Epoch 294/500\n",
      "64/64 [==============================] - 0s 3ms/step - loss: 0.0123 - val_loss: 0.0234\n",
      "Epoch 295/500\n",
      "64/64 [==============================] - 0s 2ms/step - loss: 0.0125 - val_loss: 0.0219\n",
      "Epoch 296/500\n",
      "64/64 [==============================] - 0s 2ms/step - loss: 0.0123 - val_loss: 0.0219\n",
      "Epoch 297/500\n",
      "64/64 [==============================] - 0s 2ms/step - loss: 0.0123 - val_loss: 0.0221\n",
      "Epoch 298/500\n",
      "64/64 [==============================] - 0s 2ms/step - loss: 0.0122 - val_loss: 0.0222\n",
      "Epoch 299/500\n",
      "64/64 [==============================] - 0s 2ms/step - loss: 0.0122 - val_loss: 0.0222\n",
      "Epoch 300/500\n",
      "64/64 [==============================] - 0s 2ms/step - loss: 0.0122 - val_loss: 0.0220\n",
      "Epoch 301/500\n",
      "64/64 [==============================] - 0s 2ms/step - loss: 0.0122 - val_loss: 0.0220\n",
      "Epoch 302/500\n",
      "64/64 [==============================] - 0s 2ms/step - loss: 0.0120 - val_loss: 0.0221\n",
      "Epoch 303/500\n",
      "64/64 [==============================] - 0s 2ms/step - loss: 0.0120 - val_loss: 0.0222\n",
      "Epoch 304/500\n",
      "64/64 [==============================] - 0s 3ms/step - loss: 0.0119 - val_loss: 0.0227\n",
      "Epoch 305/500\n",
      "64/64 [==============================] - 0s 2ms/step - loss: 0.0120 - val_loss: 0.0223\n",
      "Epoch 306/500\n",
      "64/64 [==============================] - 0s 2ms/step - loss: 0.0119 - val_loss: 0.0222\n",
      "Epoch 307/500\n",
      "64/64 [==============================] - 0s 2ms/step - loss: 0.0118 - val_loss: 0.0223\n",
      "Epoch 308/500\n",
      "64/64 [==============================] - 0s 2ms/step - loss: 0.0118 - val_loss: 0.0224\n",
      "Epoch 309/500\n",
      "64/64 [==============================] - 0s 2ms/step - loss: 0.0118 - val_loss: 0.0223\n",
      "Epoch 310/500\n",
      "64/64 [==============================] - 0s 2ms/step - loss: 0.0117 - val_loss: 0.0224\n",
      "Epoch 311/500\n",
      "64/64 [==============================] - 0s 2ms/step - loss: 0.0117 - val_loss: 0.0226\n",
      "Epoch 312/500\n",
      "64/64 [==============================] - 0s 2ms/step - loss: 0.0115 - val_loss: 0.0225\n",
      "Epoch 313/500\n",
      "64/64 [==============================] - 0s 2ms/step - loss: 0.0115 - val_loss: 0.0230\n",
      "Epoch 314/500\n",
      "64/64 [==============================] - 0s 2ms/step - loss: 0.0116 - val_loss: 0.0226\n",
      "Epoch 315/500\n",
      "64/64 [==============================] - 0s 2ms/step - loss: 0.0115 - val_loss: 0.0226\n",
      "Epoch 316/500\n",
      "64/64 [==============================] - 0s 2ms/step - loss: 0.0115 - val_loss: 0.0224\n",
      "Epoch 317/500\n",
      "64/64 [==============================] - 0s 2ms/step - loss: 0.0114 - val_loss: 0.0226\n",
      "Epoch 318/500\n",
      "64/64 [==============================] - 0s 2ms/step - loss: 0.0115 - val_loss: 0.0236\n",
      "Epoch 319/500\n",
      "64/64 [==============================] - 0s 2ms/step - loss: 0.0114 - val_loss: 0.0226\n",
      "Epoch 320/500\n",
      "64/64 [==============================] - 0s 2ms/step - loss: 0.0115 - val_loss: 0.0227\n",
      "Epoch 321/500\n",
      "64/64 [==============================] - 0s 2ms/step - loss: 0.0112 - val_loss: 0.0226\n",
      "Epoch 322/500\n",
      "64/64 [==============================] - 0s 2ms/step - loss: 0.0113 - val_loss: 0.0225\n",
      "Epoch 323/500\n",
      "64/64 [==============================] - 0s 2ms/step - loss: 0.0112 - val_loss: 0.0225\n",
      "Epoch 324/500\n",
      "64/64 [==============================] - 0s 2ms/step - loss: 0.0112 - val_loss: 0.0226\n",
      "Epoch 325/500\n",
      "64/64 [==============================] - 0s 2ms/step - loss: 0.0110 - val_loss: 0.0228\n",
      "Epoch 326/500\n"
     ]
    },
    {
     "name": "stdout",
     "output_type": "stream",
     "text": [
      "64/64 [==============================] - 0s 2ms/step - loss: 0.0110 - val_loss: 0.0229\n",
      "Epoch 327/500\n",
      "64/64 [==============================] - 0s 2ms/step - loss: 0.0110 - val_loss: 0.0225\n",
      "Epoch 328/500\n",
      "64/64 [==============================] - 0s 2ms/step - loss: 0.0110 - val_loss: 0.0230\n",
      "Epoch 329/500\n",
      "64/64 [==============================] - 0s 2ms/step - loss: 0.0110 - val_loss: 0.0231\n",
      "Epoch 330/500\n",
      "64/64 [==============================] - 0s 2ms/step - loss: 0.0110 - val_loss: 0.0228\n",
      "Epoch 331/500\n",
      "64/64 [==============================] - 0s 2ms/step - loss: 0.0109 - val_loss: 0.0231\n",
      "Epoch 332/500\n",
      "64/64 [==============================] - 0s 2ms/step - loss: 0.0109 - val_loss: 0.0226\n",
      "Epoch 333/500\n",
      "64/64 [==============================] - 0s 2ms/step - loss: 0.0108 - val_loss: 0.0228\n",
      "Epoch 334/500\n",
      "64/64 [==============================] - 0s 2ms/step - loss: 0.0110 - val_loss: 0.0228\n",
      "Epoch 335/500\n",
      "64/64 [==============================] - 0s 2ms/step - loss: 0.0107 - val_loss: 0.0227\n",
      "Epoch 336/500\n",
      "64/64 [==============================] - 0s 2ms/step - loss: 0.0108 - val_loss: 0.0233\n",
      "Epoch 337/500\n",
      "64/64 [==============================] - 0s 2ms/step - loss: 0.0107 - val_loss: 0.0228\n",
      "Epoch 338/500\n",
      "64/64 [==============================] - 0s 2ms/step - loss: 0.0106 - val_loss: 0.0230\n",
      "Epoch 339/500\n",
      "64/64 [==============================] - 0s 2ms/step - loss: 0.0106 - val_loss: 0.0230\n",
      "Epoch 340/500\n",
      "64/64 [==============================] - 0s 2ms/step - loss: 0.0107 - val_loss: 0.0234\n",
      "Epoch 341/500\n",
      "64/64 [==============================] - 0s 2ms/step - loss: 0.0106 - val_loss: 0.0236\n",
      "Epoch 342/500\n",
      "64/64 [==============================] - 0s 2ms/step - loss: 0.0106 - val_loss: 0.0231\n",
      "Epoch 343/500\n",
      "64/64 [==============================] - 0s 2ms/step - loss: 0.0105 - val_loss: 0.0232\n",
      "Epoch 344/500\n",
      "64/64 [==============================] - 0s 2ms/step - loss: 0.0105 - val_loss: 0.0231\n",
      "Epoch 345/500\n",
      "64/64 [==============================] - 0s 2ms/step - loss: 0.0105 - val_loss: 0.0231\n",
      "Epoch 346/500\n",
      "64/64 [==============================] - 0s 2ms/step - loss: 0.0105 - val_loss: 0.0232\n",
      "Epoch 347/500\n",
      "64/64 [==============================] - 0s 2ms/step - loss: 0.0104 - val_loss: 0.0231\n",
      "Epoch 348/500\n",
      "64/64 [==============================] - 0s 3ms/step - loss: 0.0106 - val_loss: 0.0229\n",
      "Epoch 349/500\n",
      "64/64 [==============================] - 0s 2ms/step - loss: 0.0103 - val_loss: 0.0231\n",
      "Epoch 350/500\n",
      "64/64 [==============================] - 0s 2ms/step - loss: 0.0104 - val_loss: 0.0232\n",
      "Epoch 351/500\n",
      "64/64 [==============================] - 0s 2ms/step - loss: 0.0103 - val_loss: 0.0232\n",
      "Epoch 352/500\n",
      "64/64 [==============================] - 0s 2ms/step - loss: 0.0104 - val_loss: 0.0233\n",
      "Epoch 353/500\n",
      "64/64 [==============================] - 0s 2ms/step - loss: 0.0103 - val_loss: 0.0237\n",
      "Epoch 354/500\n",
      "64/64 [==============================] - 0s 2ms/step - loss: 0.0102 - val_loss: 0.0233\n",
      "Epoch 355/500\n",
      "64/64 [==============================] - 0s 2ms/step - loss: 0.0104 - val_loss: 0.0235\n",
      "Epoch 356/500\n",
      "64/64 [==============================] - 0s 2ms/step - loss: 0.0102 - val_loss: 0.0240\n",
      "Epoch 357/500\n",
      "64/64 [==============================] - 0s 2ms/step - loss: 0.0101 - val_loss: 0.0230\n",
      "Epoch 358/500\n",
      "64/64 [==============================] - 0s 2ms/step - loss: 0.0101 - val_loss: 0.0234\n",
      "Epoch 359/500\n",
      "64/64 [==============================] - 0s 2ms/step - loss: 0.0101 - val_loss: 0.0238\n",
      "Epoch 360/500\n",
      "64/64 [==============================] - 0s 2ms/step - loss: 0.0101 - val_loss: 0.0237\n",
      "Epoch 361/500\n",
      "64/64 [==============================] - 0s 2ms/step - loss: 0.0100 - val_loss: 0.0233\n",
      "Epoch 362/500\n",
      "64/64 [==============================] - 0s 2ms/step - loss: 0.0099 - val_loss: 0.0233\n",
      "Epoch 363/500\n",
      "64/64 [==============================] - ETA: 0s - loss: 0.010 - 0s 2ms/step - loss: 0.0100 - val_loss: 0.0235\n",
      "Epoch 364/500\n",
      "64/64 [==============================] - 0s 2ms/step - loss: 0.0100 - val_loss: 0.0233\n",
      "Epoch 365/500\n",
      "64/64 [==============================] - 0s 2ms/step - loss: 0.0099 - val_loss: 0.0232\n",
      "Epoch 366/500\n",
      "64/64 [==============================] - 0s 2ms/step - loss: 0.0100 - val_loss: 0.0234\n",
      "Epoch 367/500\n",
      "64/64 [==============================] - 0s 2ms/step - loss: 0.0100 - val_loss: 0.0231\n",
      "Epoch 368/500\n",
      "64/64 [==============================] - 0s 2ms/step - loss: 0.0100 - val_loss: 0.0233\n",
      "Epoch 369/500\n",
      "64/64 [==============================] - 0s 2ms/step - loss: 0.0098 - val_loss: 0.0231\n",
      "Epoch 370/500\n",
      "64/64 [==============================] - 0s 3ms/step - loss: 0.0098 - val_loss: 0.0234\n",
      "Epoch 371/500\n",
      "64/64 [==============================] - 0s 2ms/step - loss: 0.0099 - val_loss: 0.0229\n",
      "Epoch 372/500\n",
      "64/64 [==============================] - 0s 2ms/step - loss: 0.0098 - val_loss: 0.0234\n",
      "Epoch 373/500\n",
      "64/64 [==============================] - 0s 3ms/step - loss: 0.0098 - val_loss: 0.0232\n",
      "Epoch 374/500\n",
      "64/64 [==============================] - 0s 3ms/step - loss: 0.0098 - val_loss: 0.0231\n",
      "Epoch 375/500\n",
      "64/64 [==============================] - 0s 3ms/step - loss: 0.0097 - val_loss: 0.0233\n",
      "Epoch 376/500\n",
      "64/64 [==============================] - 0s 2ms/step - loss: 0.0097 - val_loss: 0.0229\n",
      "Epoch 377/500\n",
      "64/64 [==============================] - 0s 2ms/step - loss: 0.0097 - val_loss: 0.0230\n",
      "Epoch 378/500\n",
      "64/64 [==============================] - 0s 2ms/step - loss: 0.0096 - val_loss: 0.0235\n",
      "Epoch 379/500\n",
      "64/64 [==============================] - 0s 2ms/step - loss: 0.0097 - val_loss: 0.0229\n",
      "Epoch 380/500\n",
      "64/64 [==============================] - 0s 2ms/step - loss: 0.0096 - val_loss: 0.0229\n",
      "Epoch 381/500\n",
      "64/64 [==============================] - 0s 2ms/step - loss: 0.0096 - val_loss: 0.0231\n",
      "Epoch 382/500\n",
      "64/64 [==============================] - 0s 2ms/step - loss: 0.0096 - val_loss: 0.0230\n",
      "Epoch 383/500\n",
      "64/64 [==============================] - 0s 2ms/step - loss: 0.0095 - val_loss: 0.0229\n",
      "Epoch 384/500\n",
      "64/64 [==============================] - 0s 2ms/step - loss: 0.0095 - val_loss: 0.0231\n",
      "Epoch 385/500\n",
      "64/64 [==============================] - 0s 3ms/step - loss: 0.0096 - val_loss: 0.0232\n",
      "Epoch 386/500\n",
      "64/64 [==============================] - 0s 3ms/step - loss: 0.0095 - val_loss: 0.0236\n",
      "Epoch 387/500\n",
      "64/64 [==============================] - 0s 2ms/step - loss: 0.0094 - val_loss: 0.0230\n",
      "Epoch 388/500\n",
      "64/64 [==============================] - 0s 3ms/step - loss: 0.0095 - val_loss: 0.0232\n",
      "Epoch 389/500\n",
      "64/64 [==============================] - 0s 2ms/step - loss: 0.0094 - val_loss: 0.0235\n",
      "Epoch 390/500\n",
      "64/64 [==============================] - 0s 3ms/step - loss: 0.0094 - val_loss: 0.0231\n",
      "Epoch 391/500\n",
      "64/64 [==============================] - 0s 2ms/step - loss: 0.0093 - val_loss: 0.0235\n",
      "Epoch 392/500\n",
      "64/64 [==============================] - 0s 2ms/step - loss: 0.0094 - val_loss: 0.0230\n",
      "Epoch 393/500\n",
      "64/64 [==============================] - 0s 3ms/step - loss: 0.0094 - val_loss: 0.0227\n",
      "Epoch 394/500\n",
      "64/64 [==============================] - 0s 3ms/step - loss: 0.0094 - val_loss: 0.0227\n",
      "Epoch 395/500\n",
      "64/64 [==============================] - 0s 2ms/step - loss: 0.0093 - val_loss: 0.0228\n",
      "Epoch 396/500\n",
      "64/64 [==============================] - 0s 2ms/step - loss: 0.0092 - val_loss: 0.0234\n",
      "Epoch 397/500\n",
      "64/64 [==============================] - 0s 3ms/step - loss: 0.0094 - val_loss: 0.0234\n",
      "Epoch 398/500\n",
      "64/64 [==============================] - 0s 2ms/step - loss: 0.0093 - val_loss: 0.0230\n",
      "Epoch 399/500\n",
      "64/64 [==============================] - 0s 2ms/step - loss: 0.0092 - val_loss: 0.0235\n",
      "Epoch 400/500\n",
      "64/64 [==============================] - 0s 2ms/step - loss: 0.0092 - val_loss: 0.0231\n",
      "Epoch 401/500\n",
      "64/64 [==============================] - 0s 3ms/step - loss: 0.0092 - val_loss: 0.0232\n",
      "Epoch 402/500\n",
      "64/64 [==============================] - 0s 2ms/step - loss: 0.0091 - val_loss: 0.0237\n",
      "Epoch 403/500\n",
      "64/64 [==============================] - 0s 3ms/step - loss: 0.0091 - val_loss: 0.0230\n",
      "Epoch 404/500\n",
      "64/64 [==============================] - 0s 2ms/step - loss: 0.0091 - val_loss: 0.0229\n",
      "Epoch 405/500\n",
      "64/64 [==============================] - 0s 3ms/step - loss: 0.0091 - val_loss: 0.0227\n",
      "Epoch 406/500\n",
      "64/64 [==============================] - 0s 3ms/step - loss: 0.0091 - val_loss: 0.0235\n",
      "Epoch 407/500\n"
     ]
    },
    {
     "name": "stdout",
     "output_type": "stream",
     "text": [
      "64/64 [==============================] - 0s 2ms/step - loss: 0.0091 - val_loss: 0.0227\n",
      "Epoch 408/500\n",
      "64/64 [==============================] - 0s 3ms/step - loss: 0.0090 - val_loss: 0.0229\n",
      "Epoch 409/500\n",
      "64/64 [==============================] - 0s 3ms/step - loss: 0.0090 - val_loss: 0.0232\n",
      "Epoch 410/500\n",
      "64/64 [==============================] - 0s 2ms/step - loss: 0.0090 - val_loss: 0.0226\n",
      "Epoch 411/500\n",
      "64/64 [==============================] - 0s 2ms/step - loss: 0.0089 - val_loss: 0.0232\n",
      "Epoch 412/500\n",
      "64/64 [==============================] - 0s 3ms/step - loss: 0.0089 - val_loss: 0.0231\n",
      "Epoch 413/500\n",
      "64/64 [==============================] - 0s 2ms/step - loss: 0.0089 - val_loss: 0.0227\n",
      "Epoch 414/500\n",
      "64/64 [==============================] - 0s 2ms/step - loss: 0.0089 - val_loss: 0.0229\n",
      "Epoch 415/500\n",
      "64/64 [==============================] - 0s 2ms/step - loss: 0.0089 - val_loss: 0.0236\n",
      "Epoch 416/500\n",
      "64/64 [==============================] - 0s 2ms/step - loss: 0.0090 - val_loss: 0.0230\n",
      "Epoch 417/500\n",
      "64/64 [==============================] - 0s 2ms/step - loss: 0.0089 - val_loss: 0.0231\n",
      "Epoch 418/500\n",
      "64/64 [==============================] - 0s 2ms/step - loss: 0.0091 - val_loss: 0.0237\n",
      "Epoch 419/500\n",
      "64/64 [==============================] - 0s 2ms/step - loss: 0.0091 - val_loss: 0.0227\n",
      "Epoch 420/500\n",
      "64/64 [==============================] - 0s 2ms/step - loss: 0.0088 - val_loss: 0.0230\n",
      "Epoch 421/500\n",
      "64/64 [==============================] - 0s 2ms/step - loss: 0.0088 - val_loss: 0.0230\n",
      "Epoch 422/500\n",
      "64/64 [==============================] - 0s 2ms/step - loss: 0.0088 - val_loss: 0.0232\n",
      "Epoch 423/500\n",
      "64/64 [==============================] - 0s 2ms/step - loss: 0.0089 - val_loss: 0.0236\n",
      "Epoch 424/500\n",
      "64/64 [==============================] - 0s 2ms/step - loss: 0.0087 - val_loss: 0.0227\n",
      "Epoch 425/500\n",
      "64/64 [==============================] - 0s 3ms/step - loss: 0.0087 - val_loss: 0.0231\n",
      "Epoch 426/500\n",
      "64/64 [==============================] - 0s 2ms/step - loss: 0.0087 - val_loss: 0.0230\n",
      "Epoch 427/500\n",
      "64/64 [==============================] - 0s 2ms/step - loss: 0.0087 - val_loss: 0.0239\n",
      "Epoch 428/500\n",
      "64/64 [==============================] - 0s 2ms/step - loss: 0.0088 - val_loss: 0.0232\n",
      "Epoch 429/500\n",
      "64/64 [==============================] - 0s 2ms/step - loss: 0.0086 - val_loss: 0.0228\n",
      "Epoch 430/500\n",
      "64/64 [==============================] - 0s 2ms/step - loss: 0.0087 - val_loss: 0.0229\n",
      "Epoch 431/500\n",
      "64/64 [==============================] - 0s 2ms/step - loss: 0.0086 - val_loss: 0.0233\n",
      "Epoch 432/500\n",
      "64/64 [==============================] - 0s 2ms/step - loss: 0.0085 - val_loss: 0.0232\n",
      "Epoch 433/500\n",
      "64/64 [==============================] - 0s 2ms/step - loss: 0.0086 - val_loss: 0.0231\n",
      "Epoch 434/500\n",
      "64/64 [==============================] - 0s 2ms/step - loss: 0.0086 - val_loss: 0.0233\n",
      "Epoch 435/500\n",
      "64/64 [==============================] - 0s 2ms/step - loss: 0.0086 - val_loss: 0.0230\n",
      "Epoch 436/500\n",
      "64/64 [==============================] - 0s 2ms/step - loss: 0.0087 - val_loss: 0.0236\n",
      "Epoch 437/500\n",
      "64/64 [==============================] - 0s 3ms/step - loss: 0.0086 - val_loss: 0.0230\n",
      "Epoch 438/500\n",
      "64/64 [==============================] - 0s 2ms/step - loss: 0.0086 - val_loss: 0.0232\n",
      "Epoch 439/500\n",
      "64/64 [==============================] - 0s 3ms/step - loss: 0.0085 - val_loss: 0.0236\n",
      "Epoch 440/500\n",
      "64/64 [==============================] - 0s 2ms/step - loss: 0.0085 - val_loss: 0.0235\n",
      "Epoch 441/500\n",
      "64/64 [==============================] - 0s 2ms/step - loss: 0.0086 - val_loss: 0.0231\n",
      "Epoch 442/500\n",
      "64/64 [==============================] - 0s 2ms/step - loss: 0.0085 - val_loss: 0.0234\n",
      "Epoch 443/500\n",
      "64/64 [==============================] - 0s 2ms/step - loss: 0.0084 - val_loss: 0.0238\n",
      "Epoch 444/500\n",
      "64/64 [==============================] - 0s 2ms/step - loss: 0.0085 - val_loss: 0.0231\n",
      "Epoch 445/500\n",
      "64/64 [==============================] - 0s 3ms/step - loss: 0.0084 - val_loss: 0.0231\n",
      "Epoch 446/500\n",
      "64/64 [==============================] - 0s 3ms/step - loss: 0.0084 - val_loss: 0.0237\n",
      "Epoch 447/500\n",
      "64/64 [==============================] - 0s 3ms/step - loss: 0.0085 - val_loss: 0.0234\n",
      "Epoch 448/500\n",
      "64/64 [==============================] - 0s 2ms/step - loss: 0.0084 - val_loss: 0.0234\n",
      "Epoch 449/500\n",
      "64/64 [==============================] - 0s 2ms/step - loss: 0.0083 - val_loss: 0.0232\n",
      "Epoch 450/500\n",
      "64/64 [==============================] - 0s 3ms/step - loss: 0.0084 - val_loss: 0.0232\n",
      "Epoch 451/500\n",
      "64/64 [==============================] - 0s 2ms/step - loss: 0.0084 - val_loss: 0.0233\n",
      "Epoch 452/500\n",
      "64/64 [==============================] - 0s 3ms/step - loss: 0.0084 - val_loss: 0.0234\n",
      "Epoch 453/500\n",
      "64/64 [==============================] - 0s 2ms/step - loss: 0.0083 - val_loss: 0.0236\n",
      "Epoch 454/500\n",
      "64/64 [==============================] - 0s 2ms/step - loss: 0.0084 - val_loss: 0.0233\n",
      "Epoch 455/500\n",
      "64/64 [==============================] - 0s 2ms/step - loss: 0.0083 - val_loss: 0.0235\n",
      "Epoch 456/500\n",
      "64/64 [==============================] - 0s 3ms/step - loss: 0.0084 - val_loss: 0.0239\n",
      "Epoch 457/500\n",
      "64/64 [==============================] - 0s 3ms/step - loss: 0.0083 - val_loss: 0.0241\n",
      "Epoch 458/500\n",
      "64/64 [==============================] - 0s 2ms/step - loss: 0.0083 - val_loss: 0.0235\n",
      "Epoch 459/500\n",
      "64/64 [==============================] - 0s 2ms/step - loss: 0.0082 - val_loss: 0.0238\n",
      "Epoch 460/500\n",
      "64/64 [==============================] - 0s 3ms/step - loss: 0.0082 - val_loss: 0.0234\n",
      "Epoch 461/500\n",
      "64/64 [==============================] - 0s 3ms/step - loss: 0.0082 - val_loss: 0.0235\n",
      "Epoch 462/500\n",
      "64/64 [==============================] - 0s 3ms/step - loss: 0.0082 - val_loss: 0.0234\n",
      "Epoch 463/500\n",
      "64/64 [==============================] - 0s 3ms/step - loss: 0.0082 - val_loss: 0.0240\n",
      "Epoch 464/500\n",
      "64/64 [==============================] - 0s 3ms/step - loss: 0.0084 - val_loss: 0.0239\n",
      "Epoch 465/500\n",
      "64/64 [==============================] - 0s 3ms/step - loss: 0.0082 - val_loss: 0.0235\n",
      "Epoch 466/500\n",
      "64/64 [==============================] - 0s 2ms/step - loss: 0.0082 - val_loss: 0.0239\n",
      "Epoch 467/500\n",
      "64/64 [==============================] - 0s 3ms/step - loss: 0.0081 - val_loss: 0.0236\n",
      "Epoch 468/500\n",
      "64/64 [==============================] - 0s 3ms/step - loss: 0.0082 - val_loss: 0.0236\n",
      "Epoch 469/500\n",
      "64/64 [==============================] - 0s 3ms/step - loss: 0.0081 - val_loss: 0.0238\n",
      "Epoch 470/500\n",
      "64/64 [==============================] - 0s 3ms/step - loss: 0.0081 - val_loss: 0.0246\n",
      "Epoch 471/500\n",
      "64/64 [==============================] - 0s 4ms/step - loss: 0.0081 - val_loss: 0.0237\n",
      "Epoch 472/500\n",
      "64/64 [==============================] - 0s 3ms/step - loss: 0.0081 - val_loss: 0.0237\n",
      "Epoch 473/500\n",
      "64/64 [==============================] - 0s 2ms/step - loss: 0.0081 - val_loss: 0.0244\n",
      "Epoch 474/500\n",
      "64/64 [==============================] - 0s 2ms/step - loss: 0.0080 - val_loss: 0.0238\n",
      "Epoch 475/500\n",
      "64/64 [==============================] - 0s 2ms/step - loss: 0.0081 - val_loss: 0.0234\n",
      "Epoch 476/500\n",
      "64/64 [==============================] - 0s 2ms/step - loss: 0.0081 - val_loss: 0.0244\n",
      "Epoch 477/500\n",
      "64/64 [==============================] - 0s 2ms/step - loss: 0.0080 - val_loss: 0.0234\n",
      "Epoch 478/500\n",
      "64/64 [==============================] - 0s 3ms/step - loss: 0.0080 - val_loss: 0.0240\n",
      "Epoch 479/500\n",
      "64/64 [==============================] - 0s 3ms/step - loss: 0.0080 - val_loss: 0.0242\n",
      "Epoch 480/500\n",
      "64/64 [==============================] - 0s 3ms/step - loss: 0.0081 - val_loss: 0.0242\n",
      "Epoch 481/500\n",
      "64/64 [==============================] - 0s 3ms/step - loss: 0.0080 - val_loss: 0.0248\n",
      "Epoch 482/500\n",
      "64/64 [==============================] - 0s 3ms/step - loss: 0.0080 - val_loss: 0.0237\n",
      "Epoch 483/500\n",
      "64/64 [==============================] - 0s 2ms/step - loss: 0.0080 - val_loss: 0.0238\n",
      "Epoch 484/500\n",
      "64/64 [==============================] - 0s 3ms/step - loss: 0.0080 - val_loss: 0.0242\n",
      "Epoch 485/500\n",
      "64/64 [==============================] - 0s 2ms/step - loss: 0.0079 - val_loss: 0.0242\n",
      "Epoch 486/500\n",
      "64/64 [==============================] - 0s 2ms/step - loss: 0.0080 - val_loss: 0.0241\n",
      "Epoch 487/500\n",
      "64/64 [==============================] - 0s 2ms/step - loss: 0.0081 - val_loss: 0.0242\n",
      "Epoch 488/500\n"
     ]
    },
    {
     "name": "stdout",
     "output_type": "stream",
     "text": [
      "64/64 [==============================] - 0s 2ms/step - loss: 0.0079 - val_loss: 0.0240\n",
      "Epoch 489/500\n",
      "64/64 [==============================] - 0s 2ms/step - loss: 0.0079 - val_loss: 0.0241\n",
      "Epoch 490/500\n",
      "64/64 [==============================] - 0s 3ms/step - loss: 0.0078 - val_loss: 0.0241\n",
      "Epoch 491/500\n",
      "64/64 [==============================] - 0s 3ms/step - loss: 0.0079 - val_loss: 0.0240\n",
      "Epoch 492/500\n",
      "64/64 [==============================] - 0s 3ms/step - loss: 0.0079 - val_loss: 0.0240\n",
      "Epoch 493/500\n",
      "64/64 [==============================] - 0s 3ms/step - loss: 0.0079 - val_loss: 0.0244\n",
      "Epoch 494/500\n",
      "64/64 [==============================] - 0s 3ms/step - loss: 0.0079 - val_loss: 0.0241\n",
      "Epoch 495/500\n",
      "64/64 [==============================] - 0s 3ms/step - loss: 0.0079 - val_loss: 0.0246\n",
      "Epoch 496/500\n",
      "64/64 [==============================] - 0s 3ms/step - loss: 0.0078 - val_loss: 0.0241\n",
      "Epoch 497/500\n",
      "64/64 [==============================] - 0s 2ms/step - loss: 0.0078 - val_loss: 0.0248\n",
      "Epoch 498/500\n",
      "64/64 [==============================] - 0s 2ms/step - loss: 0.0079 - val_loss: 0.0246\n",
      "Epoch 499/500\n",
      "64/64 [==============================] - 0s 3ms/step - loss: 0.0078 - val_loss: 0.0247\n",
      "Epoch 500/500\n",
      "64/64 [==============================] - 0s 2ms/step - loss: 0.0077 - val_loss: 0.0252\n"
     ]
    }
   ],
   "source": [
    "model = initialize_model(X_train)\n",
    "\n",
    "history = model.fit(X_train, y_train, \n",
    "                    validation_data=(X_val, y_val), \n",
    "                    epochs=500,\n",
    "                    batch_size=16,\n",
    "                    verbose=1)"
   ]
  },
  {
   "cell_type": "code",
   "execution_count": 72,
   "metadata": {},
   "outputs": [
    {
     "name": "stdout",
     "output_type": "stream",
     "text": [
      "14/14 [==============================] - 0s 1ms/step - loss: 0.0252\n"
     ]
    },
    {
     "data": {
      "text/plain": [
       "0.15865569079572742"
      ]
     },
     "execution_count": 72,
     "metadata": {},
     "output_type": "execute_result"
    }
   ],
   "source": [
    "# val RMSE at last epoch\n",
    "model.evaluate(X_val, y_val)**0.5"
   ]
  },
  {
   "cell_type": "code",
   "execution_count": 73,
   "metadata": {},
   "outputs": [
    {
     "data": {
      "text/plain": [
       "0.14489573836809122"
      ]
     },
     "execution_count": 73,
     "metadata": {},
     "output_type": "execute_result"
    }
   ],
   "source": [
    "# Minimal val RMSE reached amongst all epochs\n",
    "min(history.history['val_loss'])**0.5"
   ]
  },
  {
   "cell_type": "code",
   "execution_count": 80,
   "metadata": {},
   "outputs": [
    {
     "data": {
      "image/png": "[encoded data removed]",
      "text/plain": [
       "<Figure size 432x288 with 1 Axes>"
      ]
     },
     "metadata": {
      "needs_background": "light"
     },
     "output_type": "display_data"
    }
   ],
   "source": [
    "def plot_history(history):\n",
    "    plt.plot(np.sqrt(history.history['loss']))\n",
    "    plt.plot(np.sqrt(history.history['val_loss']))\n",
    "    plt.title('Model Loss')\n",
    "    plt.ylabel('MSLE')\n",
    "    plt.xlabel('Epoch')\n",
    "    plt.legend(['Train', 'Val'], loc='best')\n",
    "    plt.show()\n",
    "\n",
    "plot_history(history)"
   ]
  },
  {
   "cell_type": "markdown",
   "metadata": {},
   "source": [
    "### cross-validating  manually with a Python *for loop*  before submitting to Kaggle"
   ]
  },
  {
   "cell_type": "code",
   "execution_count": 74,
   "metadata": {},
   "outputs": [],
   "source": [
    "def evaluate_model(X, y, train_index, val_index):\n",
    "    X_train, X_val = X[train_index], X[val_index]\n",
    "    y_train, y_val = y[train_index], y[val_index]\n",
    "    model = initialize_model(X_train)\n",
    "    history = model.fit(X_train, y_train,\n",
    "                       validation_data =(X_val, y_val),\n",
    "                       epochs=500,\n",
    "                       batch_size=16,\n",
    "                       verbose=0)\n",
    "    return pd.DataFrame({\n",
    "        'rmsle_final_epoch': [model.evaluate(X_val, y_val)**0.5],\n",
    "        'rmsle_min': [min(history.history['val_loss'])]\n",
    "    })"
   ]
  },
  {
   "cell_type": "code",
   "execution_count": 75,
   "metadata": {},
   "outputs": [],
   "source": [
    "from sklearn.model_selection import KFold\n",
    "\n",
    "cv = 5\n",
    "kf = KFold(n_splits=cv, shuffle=True)"
   ]
  },
  {
   "cell_type": "code",
   "execution_count": 76,
   "metadata": {},
   "outputs": [
    {
     "name": "stdout",
     "output_type": "stream",
     "text": [
      "10/10 [==============================] - 0s 1ms/step - loss: 0.1007\n",
      "10/10 [==============================] - 0s 1ms/step - loss: 0.0155\n",
      "10/10 [==============================] - 0s 1ms/step - loss: 145.4218\n",
      "[CV] END .................kneighborsregressor__n_neighbors=3; total time=   3.5s\n",
      "[CV] END .................kneighborsregressor__n_neighbors=5; total time=   2.9s\n",
      "[CV] END .................kneighborsregressor__n_neighbors=6; total time=   2.8s\n",
      "[CV] END .................kneighborsregressor__n_neighbors=8; total time=   3.0s\n",
      "[CV] END .................kneighborsregressor__n_neighbors=9; total time=   2.9s\n",
      "[CV] END ................kneighborsregressor__n_neighbors=15; total time=   3.4s\n",
      "[CV] END ................kneighborsregressor__n_neighbors=30; total time=   3.2s\n",
      "[CV] END ..svr__C=0.5, svr__epsilon=0.01, svr__kernel=linear; total time=   1.9s\n",
      "[CV] END .....svr__C=0.5, svr__epsilon=0.01, svr__kernel=rbf; total time=   1.1s\n",
      "[CV] END ..svr__C=0.5, svr__epsilon=0.05, svr__kernel=linear; total time=   1.5s\n",
      "[CV] END .....svr__C=0.5, svr__epsilon=0.05, svr__kernel=rbf; total time=   1.0s\n",
      "[CV] END ...svr__C=0.5, svr__epsilon=0.1, svr__kernel=linear; total time=   1.1s\n",
      "[CV] END ......svr__C=0.5, svr__epsilon=0.1, svr__kernel=rbf; total time=   0.8s\n",
      "[CV] END ...svr__C=0.5, svr__epsilon=0.2, svr__kernel=linear; total time=   0.7s\n",
      "[CV] END .....svr__C=0.5, svr__epsilon=0.2, svr__kernel=poly; total time=   0.6s\n",
      "[CV] END ..svr__C=0.5, svr__epsilon=0.2, svr__kernel=sigmoid; total time=   0.8s\n",
      "[CV] END .....svr__C=0.5, svr__epsilon=0.5, svr__kernel=poly; total time=   0.5s\n",
      "[CV] END ......svr__C=0.5, svr__epsilon=0.5, svr__kernel=rbf; total time=   0.6s\n",
      "[CV] END ..svr__C=0.7, svr__epsilon=0.01, svr__kernel=linear; total time=   3.4s\n",
      "[CV] END .svr__C=0.7, svr__epsilon=0.01, svr__kernel=sigmoid; total time=   1.0s\n",
      "[CV] END ....svr__C=0.7, svr__epsilon=0.05, svr__kernel=poly; total time=   0.9s\n",
      "[CV] END .....svr__C=0.7, svr__epsilon=0.05, svr__kernel=rbf; total time=   0.9s\n",
      "[CV] END .svr__C=0.7, svr__epsilon=0.05, svr__kernel=sigmoid; total time=   1.0s\n",
      "[CV] END .....svr__C=0.7, svr__epsilon=0.1, svr__kernel=poly; total time=   0.7s\n",
      "[CV] END ......svr__C=0.7, svr__epsilon=0.1, svr__kernel=rbf; total time=   0.8s\n",
      "[CV] END ...svr__C=0.7, svr__epsilon=0.2, svr__kernel=linear; total time=   0.8s\n",
      "[CV] END ......svr__C=0.7, svr__epsilon=0.2, svr__kernel=rbf; total time=   0.6s\n",
      "[CV] END ..svr__C=0.7, svr__epsilon=0.2, svr__kernel=sigmoid; total time=   0.8s\n",
      "[CV] END .....svr__C=0.7, svr__epsilon=0.5, svr__kernel=poly; total time=   0.5s\n",
      "[CV] END ..svr__C=0.7, svr__epsilon=0.5, svr__kernel=sigmoid; total time=   0.5s\n",
      "[CV] END ....svr__C=1, svr__epsilon=0.01, svr__kernel=linear; total time=   2.5s\n",
      "[CV] END .......svr__C=1, svr__epsilon=0.01, svr__kernel=rbf; total time=   1.1s\n",
      "[CV] END ....svr__C=1, svr__epsilon=0.05, svr__kernel=linear; total time=   1.9s\n",
      "[CV] END ......svr__C=1, svr__epsilon=0.05, svr__kernel=poly; total time=   0.8s\n",
      "[CV] END ...svr__C=1, svr__epsilon=0.05, svr__kernel=sigmoid; total time=   0.9s\n",
      "[CV] END .....svr__C=1, svr__epsilon=0.1, svr__kernel=linear; total time=   1.2s\n",
      "[CV] END .......svr__C=1, svr__epsilon=0.1, svr__kernel=poly; total time=   0.6s\n",
      "[CV] END ....svr__C=1, svr__epsilon=0.1, svr__kernel=sigmoid; total time=   0.9s\n",
      "[CV] END .....svr__C=1, svr__epsilon=0.2, svr__kernel=linear; total time=   0.7s\n",
      "[CV] END ........svr__C=1, svr__epsilon=0.2, svr__kernel=rbf; total time=   0.8s\n",
      "[CV] END .....svr__C=1, svr__epsilon=0.5, svr__kernel=linear; total time=   0.7s\n",
      "[CV] END .......svr__C=1, svr__epsilon=0.5, svr__kernel=poly; total time=   0.6s\n",
      "[CV] END ....svr__C=1, svr__epsilon=0.5, svr__kernel=sigmoid; total time=   0.5s\n",
      "[CV] END ....svr__C=2, svr__epsilon=0.01, svr__kernel=linear; total time=   3.9s\n",
      "[CV] END .......svr__C=2, svr__epsilon=0.01, svr__kernel=rbf; total time=   1.2s\n",
      "[CV] END ...svr__C=2, svr__epsilon=0.01, svr__kernel=sigmoid; total time=   1.1s\n",
      "[CV] END ....svr__C=2, svr__epsilon=0.05, svr__kernel=linear; total time=   4.3s\n",
      "[CV] END ...svr__C=2, svr__epsilon=0.05, svr__kernel=sigmoid; total time=   2.1s\n",
      "[CV] END .....svr__C=2, svr__epsilon=0.1, svr__kernel=linear; total time=   3.1s\n",
      "[CV] END ....svr__C=2, svr__epsilon=0.1, svr__kernel=sigmoid; total time=   1.5s\n",
      "[CV] END .......svr__C=2, svr__epsilon=0.2, svr__kernel=poly; total time=   1.0s\n",
      "[CV] END ........svr__C=2, svr__epsilon=0.2, svr__kernel=rbf; total time=   1.1s\n",
      "[CV] END .....svr__C=2, svr__epsilon=0.5, svr__kernel=linear; total time=   0.9s\n",
      "[CV] END ........svr__C=2, svr__epsilon=0.5, svr__kernel=rbf; total time=   0.8s\n",
      "[CV] END ....svr__C=2, svr__epsilon=0.5, svr__kernel=sigmoid; total time=   0.6s\n",
      "[CV] END ......svr__C=5, svr__epsilon=0.01, svr__kernel=poly; total time=   1.8s\n",
      "[CV] END ......svr__C=5, svr__epsilon=0.01, svr__kernel=poly; total time=   2.0s\n",
      "[CV] END .......svr__C=5, svr__epsilon=0.01, svr__kernel=rbf; total time=   1.4s\n",
      "[CV] END .......svr__C=5, svr__epsilon=0.01, svr__kernel=rbf; total time=   1.6s\n",
      "[CV] END ...svr__C=5, svr__epsilon=0.01, svr__kernel=sigmoid; total time=   1.1s\n",
      "[CV] END ....svr__C=5, svr__epsilon=0.05, svr__kernel=linear; total time=   8.4s\n",
      "[CV] END .....svr__C=5, svr__epsilon=0.1, svr__kernel=linear; total time=   5.6s\n",
      "[CV] END .....svr__C=5, svr__epsilon=0.2, svr__kernel=linear; total time=   1.7s\n",
      "[CV] END ........svr__C=5, svr__epsilon=0.2, svr__kernel=rbf; total time=   0.6s\n",
      "[CV] END ....svr__C=5, svr__epsilon=0.2, svr__kernel=sigmoid; total time=   1.1s\n",
      "[CV] END .......svr__C=5, svr__epsilon=0.5, svr__kernel=poly; total time=   0.7s\n",
      "[CV] END ........svr__C=5, svr__epsilon=0.5, svr__kernel=rbf; total time=   0.6s\n",
      "[CV] END ...svr__C=10, svr__epsilon=0.01, svr__kernel=linear; total time=  21.9s\n",
      "[CV] END .....svr__C=10, svr__epsilon=0.05, svr__kernel=poly; total time=   1.1s\n",
      "[CV] END .....svr__C=10, svr__epsilon=0.05, svr__kernel=poly; total time=   1.1s\n",
      "[CV] END ......svr__C=10, svr__epsilon=0.05, svr__kernel=rbf; total time=   1.2s\n",
      "[CV] END ......svr__C=10, svr__epsilon=0.05, svr__kernel=rbf; total time=   1.4s\n",
      "[CV] END ..svr__C=10, svr__epsilon=0.05, svr__kernel=sigmoid; total time=   1.9s\n",
      "[CV] END ....svr__C=10, svr__epsilon=0.1, svr__kernel=linear; total time=  18.2s\n",
      "[CV] END ......svr__C=10, svr__epsilon=0.5, svr__kernel=poly; total time=   0.5s\n",
      "[CV] END .......svr__C=10, svr__epsilon=0.5, svr__kernel=rbf; total time=   0.5s\n",
      "[CV] END ...svr__C=10, svr__epsilon=0.5, svr__kernel=sigmoid; total time=   0.8s\n",
      "[CV] END .................kneighborsregressor__n_neighbors=3; total time=   3.6s\n",
      "[CV] END .................kneighborsregressor__n_neighbors=5; total time=   2.8s\n",
      "[CV] END .................kneighborsregressor__n_neighbors=6; total time=   3.4s\n",
      "[CV] END .................kneighborsregressor__n_neighbors=8; total time=   3.6s\n",
      "[CV] END ................kneighborsregressor__n_neighbors=10; total time=   3.5s\n",
      "[CV] END ................kneighborsregressor__n_neighbors=20; total time=   3.7s\n",
      "[CV] END ................kneighborsregressor__n_neighbors=30; total time=   2.2s\n",
      "[CV] END ....svr__C=0.5, svr__epsilon=0.01, svr__kernel=poly; total time=   1.2s\n",
      "[CV] END .....svr__C=0.5, svr__epsilon=0.01, svr__kernel=rbf; total time=   1.1s\n",
      "[CV] END .svr__C=0.5, svr__epsilon=0.01, svr__kernel=sigmoid; total time=   1.2s\n",
      "[CV] END ....svr__C=0.5, svr__epsilon=0.05, svr__kernel=poly; total time=   0.9s\n",
      "[CV] END .....svr__C=0.5, svr__epsilon=0.05, svr__kernel=rbf; total time=   1.0s\n",
      "[CV] END ...svr__C=0.5, svr__epsilon=0.1, svr__kernel=linear; total time=   1.2s\n",
      "[CV] END ..svr__C=0.5, svr__epsilon=0.1, svr__kernel=sigmoid; total time=   1.0s\n",
      "[CV] END ...svr__C=0.5, svr__epsilon=0.2, svr__kernel=linear; total time=   0.8s\n",
      "[CV] END ......svr__C=0.5, svr__epsilon=0.2, svr__kernel=rbf; total time=   0.5s\n",
      "[CV] END ...svr__C=0.5, svr__epsilon=0.5, svr__kernel=linear; total time=   0.6s\n",
      "[CV] END .....svr__C=0.5, svr__epsilon=0.5, svr__kernel=poly; total time=   0.5s\n",
      "[CV] END ..svr__C=0.5, svr__epsilon=0.5, svr__kernel=sigmoid; total time=   0.6s\n",
      "[CV] END ....svr__C=0.7, svr__epsilon=0.01, svr__kernel=poly; total time=   2.5s\n",
      "[CV] END .....svr__C=0.7, svr__epsilon=0.01, svr__kernel=rbf; total time=   1.2s\n",
      "[CV] END ..svr__C=0.7, svr__epsilon=0.05, svr__kernel=linear; total time=   1.9s\n",
      "[CV] END .svr__C=0.7, svr__epsilon=0.05, svr__kernel=sigmoid; total time=   1.0s\n",
      "[CV] END ...svr__C=0.7, svr__epsilon=0.1, svr__kernel=linear; total time=   1.2s\n",
      "[CV] END ......svr__C=0.7, svr__epsilon=0.1, svr__kernel=rbf; total time=   0.8s\n",
      "[CV] END ...svr__C=0.7, svr__epsilon=0.2, svr__kernel=linear; total time=   0.9s\n",
      "[CV] END .....svr__C=0.7, svr__epsilon=0.2, svr__kernel=poly; total time=   0.7s\n",
      "[CV] END ..svr__C=0.7, svr__epsilon=0.2, svr__kernel=sigmoid; total time=   1.0s\n",
      "[CV] END .....svr__C=0.7, svr__epsilon=0.5, svr__kernel=poly; total time=   0.6s\n",
      "[CV] END ..svr__C=0.7, svr__epsilon=0.5, svr__kernel=sigmoid; total time=   0.5s\n",
      "[CV] END ......svr__C=1, svr__epsilon=0.01, svr__kernel=poly; total time=   1.5s\n",
      "[CV] END ......svr__C=1, svr__epsilon=0.01, svr__kernel=poly; total time=   1.6s\n",
      "[CV] END ...svr__C=1, svr__epsilon=0.01, svr__kernel=sigmoid; total time=   1.4s\n",
      "[CV] END ......svr__C=1, svr__epsilon=0.05, svr__kernel=poly; total time=   1.3s\n",
      "[CV] END .......svr__C=1, svr__epsilon=0.05, svr__kernel=rbf; total time=   1.0s\n",
      "[CV] END .....svr__C=1, svr__epsilon=0.1, svr__kernel=linear; total time=   1.8s\n",
      "[CV] END ........svr__C=1, svr__epsilon=0.1, svr__kernel=rbf; total time=   0.7s\n",
      "[CV] END .....svr__C=1, svr__epsilon=0.2, svr__kernel=linear; total time=   0.8s\n",
      "[CV] END .......svr__C=1, svr__epsilon=0.2, svr__kernel=poly; total time=   0.6s\n",
      "[CV] END ........svr__C=1, svr__epsilon=0.2, svr__kernel=rbf; total time=   0.6s\n",
      "[CV] END .....svr__C=1, svr__epsilon=0.5, svr__kernel=linear; total time=   0.5s\n",
      "[CV] END .......svr__C=1, svr__epsilon=0.5, svr__kernel=poly; total time=   0.5s\n",
      "[CV] END ........svr__C=1, svr__epsilon=0.5, svr__kernel=rbf; total time=   0.5s\n",
      "[CV] END ....svr__C=1, svr__epsilon=0.5, svr__kernel=sigmoid; total time=   0.5s\n",
      "[CV] END ......svr__C=2, svr__epsilon=0.01, svr__kernel=poly; total time=   1.5s\n",
      "[CV] END ......svr__C=2, svr__epsilon=0.01, svr__kernel=poly; total time=   1.4s\n",
      "[CV] END .......svr__C=2, svr__epsilon=0.01, svr__kernel=rbf; total time=   1.2s\n",
      "[CV] END ...svr__C=2, svr__epsilon=0.01, svr__kernel=sigmoid; total time=   1.1s\n",
      "[CV] END ...svr__C=2, svr__epsilon=0.01, svr__kernel=sigmoid; total time=   1.1s\n",
      "[CV] END ....svr__C=2, svr__epsilon=0.05, svr__kernel=linear; total time=   3.9s\n",
      "[CV] END .......svr__C=2, svr__epsilon=0.05, svr__kernel=rbf; total time=   1.6s\n",
      "[CV] END .....svr__C=2, svr__epsilon=0.1, svr__kernel=linear; total time=   3.0s\n",
      "[CV] END ........svr__C=2, svr__epsilon=0.1, svr__kernel=rbf; total time=   1.0s\n",
      "[CV] END .....svr__C=2, svr__epsilon=0.2, svr__kernel=linear; total time=   1.6s\n",
      "[CV] END ........svr__C=2, svr__epsilon=0.2, svr__kernel=rbf; total time=   0.9s\n",
      "[CV] END ....svr__C=2, svr__epsilon=0.2, svr__kernel=sigmoid; total time=   1.4s\n",
      "[CV] END .......svr__C=2, svr__epsilon=0.5, svr__kernel=poly; total time=   0.7s\n",
      "[CV] END ........svr__C=2, svr__epsilon=0.5, svr__kernel=rbf; total time=   0.8s\n",
      "[CV] END ....svr__C=5, svr__epsilon=0.01, svr__kernel=linear; total time=  12.0s\n",
      "[CV] END ......svr__C=5, svr__epsilon=0.05, svr__kernel=poly; total time=   1.2s\n",
      "[CV] END .......svr__C=5, svr__epsilon=0.05, svr__kernel=rbf; total time=   1.2s\n",
      "[CV] END .......svr__C=5, svr__epsilon=0.05, svr__kernel=rbf; total time=   1.3s\n",
      "[CV] END ...svr__C=5, svr__epsilon=0.05, svr__kernel=sigmoid; total time=   1.3s\n",
      "[CV] END .....svr__C=5, svr__epsilon=0.1, svr__kernel=linear; total time=   5.4s\n",
      "[CV] END .....svr__C=5, svr__epsilon=0.2, svr__kernel=linear; total time=   1.7s\n",
      "[CV] END ........svr__C=5, svr__epsilon=0.2, svr__kernel=rbf; total time=   0.8s\n",
      "[CV] END .....svr__C=5, svr__epsilon=0.5, svr__kernel=linear; total time=   0.7s\n",
      "[CV] END .......svr__C=5, svr__epsilon=0.5, svr__kernel=poly; total time=   0.7s\n",
      "[CV] END ....svr__C=5, svr__epsilon=0.5, svr__kernel=sigmoid; total time=   1.0s\n",
      "[CV] END ...svr__C=10, svr__epsilon=0.01, svr__kernel=linear; total time=  21.0s\n",
      "[CV] END ...svr__C=10, svr__epsilon=0.05, svr__kernel=linear; total time=  23.1s\n",
      "[CV] END ......svr__C=10, svr__epsilon=0.2, svr__kernel=poly; total time=   0.8s\n",
      "[CV] END .......svr__C=10, svr__epsilon=0.2, svr__kernel=rbf; total time=   0.8s\n",
      "[CV] END ...svr__C=10, svr__epsilon=0.2, svr__kernel=sigmoid; total time=   1.1s\n",
      "[CV] END .......svr__C=10, svr__epsilon=0.5, svr__kernel=rbf; total time=   0.6s\n"
     ]
    },
    {
     "name": "stdout",
     "output_type": "stream",
     "text": [
      "[CV] END .................kneighborsregressor__n_neighbors=3; total time=   3.1s\n",
      "[CV] END .................kneighborsregressor__n_neighbors=4; total time=   3.3s\n",
      "[CV] END .................kneighborsregressor__n_neighbors=6; total time=   3.2s\n",
      "[CV] END .................kneighborsregressor__n_neighbors=8; total time=   3.7s\n",
      "[CV] END ................kneighborsregressor__n_neighbors=10; total time=   3.5s\n",
      "[CV] END ................kneighborsregressor__n_neighbors=15; total time=   3.6s\n",
      "[CV] END ................kneighborsregressor__n_neighbors=30; total time=   2.2s\n",
      "[CV] END ....svr__C=0.5, svr__epsilon=0.01, svr__kernel=poly; total time=   1.2s\n",
      "[CV] END ....svr__C=0.5, svr__epsilon=0.01, svr__kernel=poly; total time=   1.1s\n",
      "[CV] END .svr__C=0.5, svr__epsilon=0.01, svr__kernel=sigmoid; total time=   1.1s\n",
      "[CV] END ....svr__C=0.5, svr__epsilon=0.05, svr__kernel=poly; total time=   0.8s\n",
      "[CV] END .....svr__C=0.5, svr__epsilon=0.05, svr__kernel=rbf; total time=   0.9s\n",
      "[CV] END ...svr__C=0.5, svr__epsilon=0.1, svr__kernel=linear; total time=   1.2s\n",
      "[CV] END ......svr__C=0.5, svr__epsilon=0.1, svr__kernel=rbf; total time=   0.7s\n",
      "[CV] END ...svr__C=0.5, svr__epsilon=0.2, svr__kernel=linear; total time=   0.8s\n",
      "[CV] END .....svr__C=0.5, svr__epsilon=0.2, svr__kernel=poly; total time=   0.6s\n",
      "[CV] END ..svr__C=0.5, svr__epsilon=0.2, svr__kernel=sigmoid; total time=   0.8s\n",
      "[CV] END .....svr__C=0.5, svr__epsilon=0.5, svr__kernel=poly; total time=   0.5s\n",
      "[CV] END ......svr__C=0.5, svr__epsilon=0.5, svr__kernel=rbf; total time=   0.5s\n",
      "[CV] END ..svr__C=0.7, svr__epsilon=0.01, svr__kernel=linear; total time=   2.5s\n",
      "[CV] END .....svr__C=0.7, svr__epsilon=0.01, svr__kernel=rbf; total time=   1.0s\n",
      "[CV] END .svr__C=0.7, svr__epsilon=0.01, svr__kernel=sigmoid; total time=   0.9s\n",
      "[CV] END ..svr__C=0.7, svr__epsilon=0.05, svr__kernel=linear; total time=   1.3s\n",
      "[CV] END .....svr__C=0.7, svr__epsilon=0.05, svr__kernel=rbf; total time=   0.8s\n",
      "[CV] END ...svr__C=0.7, svr__epsilon=0.1, svr__kernel=linear; total time=   1.2s\n",
      "[CV] END .....svr__C=0.7, svr__epsilon=0.1, svr__kernel=poly; total time=   0.6s\n",
      "[CV] END ..svr__C=0.7, svr__epsilon=0.1, svr__kernel=sigmoid; total time=   0.9s\n",
      "[CV] END ...svr__C=0.7, svr__epsilon=0.2, svr__kernel=linear; total time=   0.7s\n",
      "[CV] END ......svr__C=0.7, svr__epsilon=0.2, svr__kernel=rbf; total time=   0.6s\n",
      "[CV] END ...svr__C=0.7, svr__epsilon=0.5, svr__kernel=linear; total time=   0.5s\n",
      "[CV] END .....svr__C=0.7, svr__epsilon=0.5, svr__kernel=poly; total time=   0.5s\n",
      "[CV] END ......svr__C=0.7, svr__epsilon=0.5, svr__kernel=rbf; total time=   0.5s\n",
      "[CV] END ....svr__C=1, svr__epsilon=0.01, svr__kernel=linear; total time=   3.3s\n",
      "[CV] END ...svr__C=1, svr__epsilon=0.01, svr__kernel=sigmoid; total time=   1.5s\n",
      "[CV] END ......svr__C=1, svr__epsilon=0.05, svr__kernel=poly; total time=   1.3s\n",
      "[CV] END .......svr__C=1, svr__epsilon=0.05, svr__kernel=rbf; total time=   0.9s\n",
      "[CV] END ...svr__C=1, svr__epsilon=0.05, svr__kernel=sigmoid; total time=   1.2s\n",
      "[CV] END .......svr__C=1, svr__epsilon=0.1, svr__kernel=poly; total time=   0.9s\n",
      "[CV] END ....svr__C=1, svr__epsilon=0.1, svr__kernel=sigmoid; total time=   1.2s\n",
      "[CV] END .......svr__C=1, svr__epsilon=0.2, svr__kernel=poly; total time=   0.7s\n",
      "[CV] END ....svr__C=1, svr__epsilon=0.2, svr__kernel=sigmoid; total time=   0.8s\n",
      "[CV] END .....svr__C=1, svr__epsilon=0.5, svr__kernel=linear; total time=   0.5s\n",
      "[CV] END .......svr__C=1, svr__epsilon=0.5, svr__kernel=poly; total time=   0.5s\n",
      "[CV] END ....svr__C=1, svr__epsilon=0.5, svr__kernel=sigmoid; total time=   0.7s\n",
      "[CV] END ......svr__C=2, svr__epsilon=0.01, svr__kernel=poly; total time=   2.3s\n",
      "[CV] END .......svr__C=2, svr__epsilon=0.01, svr__kernel=rbf; total time=   2.5s\n",
      "[CV] END ...svr__C=2, svr__epsilon=0.01, svr__kernel=sigmoid; total time=   1.8s\n",
      "[CV] END ....svr__C=2, svr__epsilon=0.05, svr__kernel=linear; total time=   5.8s\n",
      "[CV] END .....svr__C=2, svr__epsilon=0.1, svr__kernel=linear; total time=   3.1s\n",
      "[CV] END ....svr__C=2, svr__epsilon=0.1, svr__kernel=sigmoid; total time=   1.3s\n",
      "[CV] END .....svr__C=2, svr__epsilon=0.2, svr__kernel=linear; total time=   1.1s\n",
      "[CV] END ........svr__C=2, svr__epsilon=0.2, svr__kernel=rbf; total time=   0.9s\n",
      "[CV] END .....svr__C=2, svr__epsilon=0.5, svr__kernel=linear; total time=   0.7s\n",
      "[CV] END .....svr__C=2, svr__epsilon=0.5, svr__kernel=linear; total time=   0.7s\n",
      "[CV] END ........svr__C=2, svr__epsilon=0.5, svr__kernel=rbf; total time=   0.8s\n",
      "[CV] END ....svr__C=2, svr__epsilon=0.5, svr__kernel=sigmoid; total time=   0.7s\n",
      "[CV] END ......svr__C=5, svr__epsilon=0.01, svr__kernel=poly; total time=   2.0s\n",
      "[CV] END .......svr__C=5, svr__epsilon=0.01, svr__kernel=rbf; total time=   1.5s\n",
      "[CV] END .......svr__C=5, svr__epsilon=0.01, svr__kernel=rbf; total time=   1.7s\n",
      "[CV] END ...svr__C=5, svr__epsilon=0.01, svr__kernel=sigmoid; total time=   1.1s\n",
      "[CV] END ...svr__C=5, svr__epsilon=0.01, svr__kernel=sigmoid; total time=   1.3s\n",
      "[CV] END ....svr__C=5, svr__epsilon=0.05, svr__kernel=linear; total time=   8.2s\n",
      "[CV] END ...svr__C=5, svr__epsilon=0.05, svr__kernel=sigmoid; total time=   1.4s\n",
      "[CV] END .......svr__C=5, svr__epsilon=0.1, svr__kernel=poly; total time=   1.0s\n",
      "[CV] END ........svr__C=5, svr__epsilon=0.1, svr__kernel=rbf; total time=   0.9s\n",
      "[CV] END ........svr__C=5, svr__epsilon=0.1, svr__kernel=rbf; total time=   0.9s\n",
      "[CV] END ....svr__C=5, svr__epsilon=0.1, svr__kernel=sigmoid; total time=   1.3s\n",
      "[CV] END .....svr__C=5, svr__epsilon=0.2, svr__kernel=linear; total time=   2.4s\n",
      "[CV] END ....svr__C=5, svr__epsilon=0.2, svr__kernel=sigmoid; total time=   1.3s\n",
      "[CV] END .......svr__C=5, svr__epsilon=0.5, svr__kernel=poly; total time=   0.6s\n",
      "[CV] END ........svr__C=5, svr__epsilon=0.5, svr__kernel=rbf; total time=   0.7s\n",
      "[CV] END ...svr__C=10, svr__epsilon=0.01, svr__kernel=linear; total time=  24.0s\n",
      "[CV] END .....svr__C=10, svr__epsilon=0.05, svr__kernel=poly; total time=   1.3s\n",
      "[CV] END ......svr__C=10, svr__epsilon=0.05, svr__kernel=rbf; total time=   1.2s\n",
      "[CV] END ......svr__C=10, svr__epsilon=0.05, svr__kernel=rbf; total time=   1.2s\n",
      "[CV] END ..svr__C=10, svr__epsilon=0.05, svr__kernel=sigmoid; total time=   1.6s\n",
      "[CV] END ....svr__C=10, svr__epsilon=0.1, svr__kernel=linear; total time=  10.8s\n",
      "[CV] END ...svr__C=10, svr__epsilon=0.1, svr__kernel=sigmoid; total time=   1.1s\n",
      "[CV] END ....svr__C=10, svr__epsilon=0.2, svr__kernel=linear; total time=   2.8s\n",
      "[CV] END ......svr__C=10, svr__epsilon=0.2, svr__kernel=poly; total time=   0.6s\n",
      "[CV] END ......svr__C=10, svr__epsilon=0.2, svr__kernel=poly; total time=   0.5s\n",
      "[CV] END .......svr__C=10, svr__epsilon=0.2, svr__kernel=rbf; total time=   0.6s\n",
      "[CV] END ...svr__C=10, svr__epsilon=0.2, svr__kernel=sigmoid; total time=   1.0s\n",
      "[CV] END ......svr__C=10, svr__epsilon=0.5, svr__kernel=poly; total time=   0.5s\n",
      "[CV] END .......svr__C=10, svr__epsilon=0.5, svr__kernel=rbf; total time=   0.5s\n",
      "[CV] END .................kneighborsregressor__n_neighbors=4; total time=   3.6s\n",
      "[CV] END .................kneighborsregressor__n_neighbors=6; total time=   2.9s\n",
      "[CV] END .................kneighborsregressor__n_neighbors=7; total time=   2.9s\n",
      "[CV] END .................kneighborsregressor__n_neighbors=8; total time=   3.0s\n",
      "[CV] END ................kneighborsregressor__n_neighbors=10; total time=   3.0s\n",
      "[CV] END ................kneighborsregressor__n_neighbors=15; total time=   2.9s\n",
      "[CV] END ................kneighborsregressor__n_neighbors=30; total time=   2.9s\n",
      "[CV] END ..svr__C=0.5, svr__epsilon=0.01, svr__kernel=linear; total time=   1.6s\n",
      "[CV] END .....svr__C=0.5, svr__epsilon=0.01, svr__kernel=rbf; total time=   1.0s\n",
      "[CV] END ..svr__C=0.5, svr__epsilon=0.05, svr__kernel=linear; total time=   1.2s\n",
      "[CV] END ....svr__C=0.5, svr__epsilon=0.05, svr__kernel=poly; total time=   0.7s\n",
      "[CV] END .svr__C=0.5, svr__epsilon=0.05, svr__kernel=sigmoid; total time=   0.9s\n",
      "[CV] END ...svr__C=0.5, svr__epsilon=0.1, svr__kernel=linear; total time=   0.9s\n",
      "[CV] END ......svr__C=0.5, svr__epsilon=0.1, svr__kernel=rbf; total time=   0.7s\n",
      "[CV] END ..svr__C=0.5, svr__epsilon=0.1, svr__kernel=sigmoid; total time=   0.8s\n",
      "[CV] END .....svr__C=0.5, svr__epsilon=0.2, svr__kernel=poly; total time=   0.5s\n",
      "[CV] END ..svr__C=0.5, svr__epsilon=0.2, svr__kernel=sigmoid; total time=   0.7s\n",
      "[CV] END ...svr__C=0.5, svr__epsilon=0.5, svr__kernel=linear; total time=   0.5s\n",
      "[CV] END ......svr__C=0.5, svr__epsilon=0.5, svr__kernel=rbf; total time=   0.5s\n",
      "[CV] END ..svr__C=0.5, svr__epsilon=0.5, svr__kernel=sigmoid; total time=   0.5s\n",
      "[CV] END ....svr__C=0.7, svr__epsilon=0.01, svr__kernel=poly; total time=   1.6s\n",
      "[CV] END ....svr__C=0.7, svr__epsilon=0.01, svr__kernel=poly; total time=   1.0s\n",
      "[CV] END .....svr__C=0.7, svr__epsilon=0.01, svr__kernel=rbf; total time=   1.0s\n",
      "[CV] END ..svr__C=0.7, svr__epsilon=0.05, svr__kernel=linear; total time=   1.9s\n",
      "[CV] END .....svr__C=0.7, svr__epsilon=0.05, svr__kernel=rbf; total time=   1.0s\n",
      "[CV] END ...svr__C=0.7, svr__epsilon=0.1, svr__kernel=linear; total time=   1.3s\n",
      "[CV] END ......svr__C=0.7, svr__epsilon=0.1, svr__kernel=rbf; total time=   0.8s\n",
      "[CV] END ..svr__C=0.7, svr__epsilon=0.1, svr__kernel=sigmoid; total time=   1.1s\n",
      "[CV] END .....svr__C=0.7, svr__epsilon=0.2, svr__kernel=poly; total time=   0.6s\n",
      "[CV] END ..svr__C=0.7, svr__epsilon=0.2, svr__kernel=sigmoid; total time=   1.0s\n",
      "[CV] END .....svr__C=0.7, svr__epsilon=0.5, svr__kernel=poly; total time=   0.6s\n",
      "[CV] END ....svr__C=1, svr__epsilon=0.01, svr__kernel=linear; total time=   3.2s\n",
      "[CV] END ...svr__C=1, svr__epsilon=0.01, svr__kernel=sigmoid; total time=   1.5s\n",
      "[CV] END ....svr__C=1, svr__epsilon=0.05, svr__kernel=linear; total time=   2.5s\n",
      "[CV] END .....svr__C=1, svr__epsilon=0.1, svr__kernel=linear; total time=   1.8s\n",
      "[CV] END ........svr__C=1, svr__epsilon=0.1, svr__kernel=rbf; total time=   0.9s\n",
      "[CV] END .....svr__C=1, svr__epsilon=0.2, svr__kernel=linear; total time=   0.9s\n",
      "[CV] END ........svr__C=1, svr__epsilon=0.2, svr__kernel=rbf; total time=   0.8s\n",
      "[CV] END ....svr__C=1, svr__epsilon=0.2, svr__kernel=sigmoid; total time=   1.1s\n",
      "[CV] END ........svr__C=1, svr__epsilon=0.5, svr__kernel=rbf; total time=   0.7s\n",
      "[CV] END ....svr__C=2, svr__epsilon=0.01, svr__kernel=linear; total time=   8.8s\n",
      "[CV] END ......svr__C=2, svr__epsilon=0.05, svr__kernel=poly; total time=   1.4s\n",
      "[CV] END .......svr__C=2, svr__epsilon=0.05, svr__kernel=rbf; total time=   1.8s\n",
      "[CV] END ...svr__C=2, svr__epsilon=0.05, svr__kernel=sigmoid; total time=   1.5s\n",
      "[CV] END .......svr__C=2, svr__epsilon=0.1, svr__kernel=poly; total time=   1.1s\n",
      "[CV] END ........svr__C=2, svr__epsilon=0.1, svr__kernel=rbf; total time=   1.1s\n",
      "[CV] END ....svr__C=2, svr__epsilon=0.1, svr__kernel=sigmoid; total time=   1.5s\n",
      "[CV] END .......svr__C=2, svr__epsilon=0.2, svr__kernel=poly; total time=   0.9s\n",
      "[CV] END ........svr__C=2, svr__epsilon=0.2, svr__kernel=rbf; total time=   1.1s\n",
      "[CV] END .....svr__C=2, svr__epsilon=0.5, svr__kernel=linear; total time=   0.9s\n",
      "[CV] END .......svr__C=2, svr__epsilon=0.5, svr__kernel=poly; total time=   0.8s\n",
      "[CV] END ....svr__C=2, svr__epsilon=0.5, svr__kernel=sigmoid; total time=   0.8s\n",
      "[CV] END ....svr__C=5, svr__epsilon=0.01, svr__kernel=linear; total time=   9.7s\n",
      "[CV] END ....svr__C=5, svr__epsilon=0.05, svr__kernel=linear; total time=   6.3s\n",
      "[CV] END ...svr__C=5, svr__epsilon=0.05, svr__kernel=sigmoid; total time=   1.1s\n",
      "[CV] END .....svr__C=5, svr__epsilon=0.1, svr__kernel=linear; total time=   4.9s\n",
      "[CV] END .....svr__C=5, svr__epsilon=0.2, svr__kernel=linear; total time=   2.1s\n",
      "[CV] END ........svr__C=5, svr__epsilon=0.2, svr__kernel=rbf; total time=   0.7s\n",
      "[CV] END .....svr__C=5, svr__epsilon=0.5, svr__kernel=linear; total time=   0.7s\n",
      "[CV] END .......svr__C=5, svr__epsilon=0.5, svr__kernel=poly; total time=   0.6s\n",
      "[CV] END ....svr__C=5, svr__epsilon=0.5, svr__kernel=sigmoid; total time=   1.4s\n",
      "[CV] END ...svr__C=10, svr__epsilon=0.01, svr__kernel=linear; total time=  20.6s\n",
      "[CV] END ...svr__C=10, svr__epsilon=0.05, svr__kernel=linear; total time=  15.6s\n",
      "[CV] END ......svr__C=10, svr__epsilon=0.1, svr__kernel=poly; total time=   0.7s\n",
      "[CV] END .......svr__C=10, svr__epsilon=0.1, svr__kernel=rbf; total time=   0.7s\n",
      "[CV] END .......svr__C=10, svr__epsilon=0.1, svr__kernel=rbf; total time=   0.8s\n",
      "[CV] END .......svr__C=10, svr__epsilon=0.1, svr__kernel=rbf; total time=   0.7s\n",
      "[CV] END ...svr__C=10, svr__epsilon=0.1, svr__kernel=sigmoid; total time=   0.9s\n",
      "[CV] END ...svr__C=10, svr__epsilon=0.1, svr__kernel=sigmoid; total time=   1.1s\n",
      "[CV] END ....svr__C=10, svr__epsilon=0.2, svr__kernel=linear; total time=   3.0s\n",
      "[CV] END .......svr__C=10, svr__epsilon=0.2, svr__kernel=rbf; total time=   0.6s\n",
      "[CV] END ...svr__C=10, svr__epsilon=0.2, svr__kernel=sigmoid; total time=   1.1s\n",
      "[CV] END ....svr__C=10, svr__epsilon=0.5, svr__kernel=linear; total time=   0.6s\n",
      "[CV] END .......svr__C=10, svr__epsilon=0.5, svr__kernel=rbf; total time=   0.6s\n",
      "[CV] END ...svr__C=10, svr__epsilon=0.5, svr__kernel=sigmoid; total time=   0.9s\n"
     ]
    },
    {
     "name": "stdout",
     "output_type": "stream",
     "text": [
      "[CV] END .................kneighborsregressor__n_neighbors=4; total time=   3.3s\n",
      "[CV] END .................kneighborsregressor__n_neighbors=5; total time=   3.3s\n",
      "[CV] END .................kneighborsregressor__n_neighbors=7; total time=   3.4s\n",
      "[CV] END .................kneighborsregressor__n_neighbors=9; total time=   3.7s\n",
      "[CV] END ................kneighborsregressor__n_neighbors=10; total time=   3.4s\n",
      "[CV] END ................kneighborsregressor__n_neighbors=20; total time=   3.8s\n",
      "[CV] END ..svr__C=0.5, svr__epsilon=0.01, svr__kernel=linear; total time=   2.0s\n",
      "[CV] END .svr__C=0.5, svr__epsilon=0.01, svr__kernel=sigmoid; total time=   1.0s\n",
      "[CV] END ..svr__C=0.5, svr__epsilon=0.05, svr__kernel=linear; total time=   1.5s\n",
      "[CV] END .svr__C=0.5, svr__epsilon=0.05, svr__kernel=sigmoid; total time=   1.0s\n",
      "[CV] END ...svr__C=0.5, svr__epsilon=0.1, svr__kernel=linear; total time=   1.0s\n",
      "[CV] END ......svr__C=0.5, svr__epsilon=0.1, svr__kernel=rbf; total time=   0.7s\n",
      "[CV] END ...svr__C=0.5, svr__epsilon=0.2, svr__kernel=linear; total time=   0.7s\n",
      "[CV] END ......svr__C=0.5, svr__epsilon=0.2, svr__kernel=rbf; total time=   0.6s\n",
      "[CV] END ..svr__C=0.5, svr__epsilon=0.2, svr__kernel=sigmoid; total time=   0.8s\n",
      "[CV] END ......svr__C=0.5, svr__epsilon=0.5, svr__kernel=rbf; total time=   0.5s\n",
      "[CV] END ..svr__C=0.5, svr__epsilon=0.5, svr__kernel=sigmoid; total time=   0.6s\n",
      "[CV] END ....svr__C=0.7, svr__epsilon=0.01, svr__kernel=poly; total time=   2.5s\n",
      "[CV] END .....svr__C=0.7, svr__epsilon=0.01, svr__kernel=rbf; total time=   1.1s\n",
      "[CV] END ..svr__C=0.7, svr__epsilon=0.05, svr__kernel=linear; total time=   1.6s\n",
      "[CV] END ....svr__C=0.7, svr__epsilon=0.05, svr__kernel=poly; total time=   0.7s\n",
      "[CV] END .svr__C=0.7, svr__epsilon=0.05, svr__kernel=sigmoid; total time=   0.9s\n",
      "[CV] END .....svr__C=0.7, svr__epsilon=0.1, svr__kernel=poly; total time=   0.7s\n",
      "[CV] END .....svr__C=0.7, svr__epsilon=0.1, svr__kernel=poly; total time=   0.6s\n",
      "[CV] END ..svr__C=0.7, svr__epsilon=0.1, svr__kernel=sigmoid; total time=   0.9s\n",
      "[CV] END ...svr__C=0.7, svr__epsilon=0.2, svr__kernel=linear; total time=   0.7s\n",
      "[CV] END ......svr__C=0.7, svr__epsilon=0.2, svr__kernel=rbf; total time=   0.6s\n",
      "[CV] END ...svr__C=0.7, svr__epsilon=0.5, svr__kernel=linear; total time=   0.5s\n",
      "[CV] END ...svr__C=0.7, svr__epsilon=0.5, svr__kernel=linear; total time=   0.5s\n",
      "[CV] END ......svr__C=0.7, svr__epsilon=0.5, svr__kernel=rbf; total time=   0.5s\n",
      "[CV] END ..svr__C=0.7, svr__epsilon=0.5, svr__kernel=sigmoid; total time=   0.5s\n",
      "[CV] END ......svr__C=1, svr__epsilon=0.01, svr__kernel=poly; total time=   1.2s\n",
      "[CV] END ......svr__C=1, svr__epsilon=0.01, svr__kernel=poly; total time=   1.1s\n",
      "[CV] END .......svr__C=1, svr__epsilon=0.01, svr__kernel=rbf; total time=   1.1s\n",
      "[CV] END ....svr__C=1, svr__epsilon=0.05, svr__kernel=linear; total time=   2.1s\n",
      "[CV] END .......svr__C=1, svr__epsilon=0.05, svr__kernel=rbf; total time=   0.8s\n",
      "[CV] END ...svr__C=1, svr__epsilon=0.05, svr__kernel=sigmoid; total time=   0.9s\n",
      "[CV] END .......svr__C=1, svr__epsilon=0.1, svr__kernel=poly; total time=   0.7s\n",
      "[CV] END .......svr__C=1, svr__epsilon=0.1, svr__kernel=poly; total time=   0.6s\n",
      "[CV] END ........svr__C=1, svr__epsilon=0.1, svr__kernel=rbf; total time=   0.8s\n",
      "[CV] END .....svr__C=1, svr__epsilon=0.2, svr__kernel=linear; total time=   0.8s\n",
      "[CV] END .......svr__C=1, svr__epsilon=0.2, svr__kernel=poly; total time=   0.8s\n",
      "[CV] END ....svr__C=1, svr__epsilon=0.2, svr__kernel=sigmoid; total time=   1.1s\n",
      "[CV] END ........svr__C=1, svr__epsilon=0.5, svr__kernel=rbf; total time=   0.7s\n",
      "[CV] END ....svr__C=2, svr__epsilon=0.01, svr__kernel=linear; total time=   7.7s\n",
      "[CV] END ......svr__C=2, svr__epsilon=0.05, svr__kernel=poly; total time=   1.9s\n",
      "[CV] END .......svr__C=2, svr__epsilon=0.05, svr__kernel=rbf; total time=   1.5s\n",
      "[CV] END ...svr__C=2, svr__epsilon=0.05, svr__kernel=sigmoid; total time=   2.0s\n",
      "[CV] END .......svr__C=2, svr__epsilon=0.1, svr__kernel=poly; total time=   0.9s\n",
      "[CV] END .......svr__C=2, svr__epsilon=0.1, svr__kernel=poly; total time=   1.1s\n",
      "[CV] END ........svr__C=2, svr__epsilon=0.1, svr__kernel=rbf; total time=   1.3s\n",
      "[CV] END .....svr__C=2, svr__epsilon=0.2, svr__kernel=linear; total time=   1.2s\n",
      "[CV] END .......svr__C=2, svr__epsilon=0.2, svr__kernel=poly; total time=   1.0s\n",
      "[CV] END ....svr__C=2, svr__epsilon=0.2, svr__kernel=sigmoid; total time=   1.6s\n",
      "[CV] END .......svr__C=2, svr__epsilon=0.5, svr__kernel=poly; total time=   0.8s\n",
      "[CV] END ....svr__C=2, svr__epsilon=0.5, svr__kernel=sigmoid; total time=   0.7s\n",
      "[CV] END ......svr__C=5, svr__epsilon=0.01, svr__kernel=poly; total time=   2.0s\n",
      "[CV] END ......svr__C=5, svr__epsilon=0.01, svr__kernel=poly; total time=   1.9s\n",
      "[CV] END .......svr__C=5, svr__epsilon=0.01, svr__kernel=rbf; total time=   1.6s\n",
      "[CV] END ...svr__C=5, svr__epsilon=0.01, svr__kernel=sigmoid; total time=   1.1s\n",
      "[CV] END ...svr__C=5, svr__epsilon=0.01, svr__kernel=sigmoid; total time=   1.3s\n",
      "[CV] END ....svr__C=5, svr__epsilon=0.05, svr__kernel=linear; total time=   9.3s\n",
      "[CV] END .......svr__C=5, svr__epsilon=0.1, svr__kernel=poly; total time=   0.9s\n",
      "[CV] END .......svr__C=5, svr__epsilon=0.1, svr__kernel=poly; total time=   0.9s\n",
      "[CV] END ........svr__C=5, svr__epsilon=0.1, svr__kernel=rbf; total time=   1.0s\n",
      "[CV] END ....svr__C=5, svr__epsilon=0.1, svr__kernel=sigmoid; total time=   1.2s\n",
      "[CV] END ....svr__C=5, svr__epsilon=0.1, svr__kernel=sigmoid; total time=   1.1s\n",
      "[CV] END .......svr__C=5, svr__epsilon=0.2, svr__kernel=poly; total time=   0.6s\n",
      "[CV] END .......svr__C=5, svr__epsilon=0.2, svr__kernel=poly; total time=   0.7s\n",
      "[CV] END ........svr__C=5, svr__epsilon=0.2, svr__kernel=rbf; total time=   0.7s\n",
      "[CV] END .....svr__C=5, svr__epsilon=0.5, svr__kernel=linear; total time=   0.6s\n",
      "[CV] END .....svr__C=5, svr__epsilon=0.5, svr__kernel=linear; total time=   0.7s\n",
      "[CV] END ........svr__C=5, svr__epsilon=0.5, svr__kernel=rbf; total time=   0.6s\n",
      "[CV] END ....svr__C=5, svr__epsilon=0.5, svr__kernel=sigmoid; total time=   1.1s\n",
      "[CV] END .....svr__C=10, svr__epsilon=0.01, svr__kernel=poly; total time=   1.9s\n",
      "[CV] END .....svr__C=10, svr__epsilon=0.01, svr__kernel=poly; total time=   1.8s\n",
      "[CV] END ......svr__C=10, svr__epsilon=0.01, svr__kernel=rbf; total time=   1.9s\n",
      "[CV] END ..svr__C=10, svr__epsilon=0.01, svr__kernel=sigmoid; total time=   1.3s\n",
      "[CV] END ..svr__C=10, svr__epsilon=0.01, svr__kernel=sigmoid; total time=   1.5s\n",
      "[CV] END ...svr__C=10, svr__epsilon=0.05, svr__kernel=linear; total time=  19.3s\n",
      "[CV] END ..svr__C=10, svr__epsilon=0.05, svr__kernel=sigmoid; total time=   1.5s\n",
      "[CV] END ....svr__C=10, svr__epsilon=0.1, svr__kernel=linear; total time=  10.1s\n",
      "[CV] END ...svr__C=10, svr__epsilon=0.1, svr__kernel=sigmoid; total time=   1.1s\n",
      "[CV] END ....svr__C=10, svr__epsilon=0.2, svr__kernel=linear; total time=   3.1s\n",
      "[CV] END ......svr__C=10, svr__epsilon=0.2, svr__kernel=poly; total time=   0.6s\n",
      "[CV] END .......svr__C=10, svr__epsilon=0.2, svr__kernel=rbf; total time=   0.6s\n",
      "[CV] END ...svr__C=10, svr__epsilon=0.2, svr__kernel=sigmoid; total time=   1.0s\n",
      "[CV] END ....svr__C=10, svr__epsilon=0.5, svr__kernel=linear; total time=   0.5s\n",
      "[CV] END ......svr__C=10, svr__epsilon=0.5, svr__kernel=poly; total time=   0.5s\n",
      "[CV] END ...svr__C=10, svr__epsilon=0.5, svr__kernel=sigmoid; total time=   0.9s\n",
      "10/10 [==============================] - 0s 1ms/step - loss: 0.0277\n",
      "10/10 [==============================] - 0s 1ms/step - loss: 0.0181\n"
     ]
    },
    {
     "data": {
      "text/html": [
       "<div>\n",
       "<style scoped>\n",
       "    .dataframe tbody tr th:only-of-type {\n",
       "        vertical-align: middle;\n",
       "    }\n",
       "\n",
       "    .dataframe tbody tr th {\n",
       "        vertical-align: top;\n",
       "    }\n",
       "\n",
       "    .dataframe thead th {\n",
       "        text-align: right;\n",
       "    }\n",
       "</style>\n",
       "<table border=\"1\" class=\"dataframe\">\n",
       "  <thead>\n",
       "    <tr style=\"text-align: right;\">\n",
       "      <th></th>\n",
       "      <th>rmsle_final_epoch</th>\n",
       "      <th>rmsle_min</th>\n",
       "    </tr>\n",
       "  </thead>\n",
       "  <tbody>\n",
       "    <tr>\n",
       "      <th>0</th>\n",
       "      <td>0.317269</td>\n",
       "      <td>0.027421</td>\n",
       "    </tr>\n",
       "    <tr>\n",
       "      <th>0</th>\n",
       "      <td>0.124514</td>\n",
       "      <td>0.014804</td>\n",
       "    </tr>\n",
       "    <tr>\n",
       "      <th>0</th>\n",
       "      <td>12.059095</td>\n",
       "      <td>145.421753</td>\n",
       "    </tr>\n",
       "    <tr>\n",
       "      <th>0</th>\n",
       "      <td>0.166470</td>\n",
       "      <td>0.022997</td>\n",
       "    </tr>\n",
       "    <tr>\n",
       "      <th>0</th>\n",
       "      <td>0.134373</td>\n",
       "      <td>0.016812</td>\n",
       "    </tr>\n",
       "  </tbody>\n",
       "</table>\n",
       "</div>"
      ],
      "text/plain": [
       "   rmsle_final_epoch   rmsle_min\n",
       "0           0.317269    0.027421\n",
       "0           0.124514    0.014804\n",
       "0          12.059095  145.421753\n",
       "0           0.166470    0.022997\n",
       "0           0.134373    0.016812"
      ]
     },
     "execution_count": 76,
     "metadata": {},
     "output_type": "execute_result"
    }
   ],
   "source": [
    "results = []\n",
    "\n",
    "for train_index, val_index in kf.split(X_preproc):\n",
    "    results.append(evaluate_model(X_preproc, y, train_index, val_index))\n",
    "    \n",
    "pd.concat(results, axis=0)"
   ]
  },
  {
   "cell_type": "markdown",
   "metadata": {},
   "source": [
    "# 🏅FINAL SUBMISSION"
   ]
  },
  {
   "cell_type": "code",
   "execution_count": 93,
   "metadata": {},
   "outputs": [],
   "source": [
    "X_test = pd.read_csv(\"https://wagon-public-datasets.s3.amazonaws.com/houses_test_raw.csv\")\n",
    "X_test_ids = X_test['Id'] # Keep ids\n",
    "X_test = X_test.drop(columns=['Id'])"
   ]
  },
  {
   "cell_type": "code",
   "execution_count": 94,
   "metadata": {},
   "outputs": [
    {
     "ename": "ValueError",
     "evalue": "in user code:\n\n    /home/chidi/.pyenv/versions/3.8.6/envs/lewagon/lib/python3.8/site-packages/tensorflow/python/keras/engine/training.py:1569 predict_function  *\n        return step_function(self, iterator)\n    /home/chidi/.pyenv/versions/3.8.6/envs/lewagon/lib/python3.8/site-packages/tensorflow/python/keras/engine/training.py:1559 step_function  **\n        outputs = model.distribute_strategy.run(run_step, args=(data,))\n    /home/chidi/.pyenv/versions/3.8.6/envs/lewagon/lib/python3.8/site-packages/tensorflow/python/distribute/distribute_lib.py:1285 run\n        return self._extended.call_for_each_replica(fn, args=args, kwargs=kwargs)\n    /home/chidi/.pyenv/versions/3.8.6/envs/lewagon/lib/python3.8/site-packages/tensorflow/python/distribute/distribute_lib.py:2833 call_for_each_replica\n        return self._call_for_each_replica(fn, args, kwargs)\n    /home/chidi/.pyenv/versions/3.8.6/envs/lewagon/lib/python3.8/site-packages/tensorflow/python/distribute/distribute_lib.py:3608 _call_for_each_replica\n        return fn(*args, **kwargs)\n    /home/chidi/.pyenv/versions/3.8.6/envs/lewagon/lib/python3.8/site-packages/tensorflow/python/keras/engine/training.py:1552 run_step  **\n        outputs = model.predict_step(data)\n    /home/chidi/.pyenv/versions/3.8.6/envs/lewagon/lib/python3.8/site-packages/tensorflow/python/keras/engine/training.py:1525 predict_step\n        return self(x, training=False)\n    /home/chidi/.pyenv/versions/3.8.6/envs/lewagon/lib/python3.8/site-packages/tensorflow/python/keras/engine/base_layer.py:1013 __call__\n        input_spec.assert_input_compatibility(self.input_spec, inputs, self.name)\n    /home/chidi/.pyenv/versions/3.8.6/envs/lewagon/lib/python3.8/site-packages/tensorflow/python/keras/engine/input_spec.py:251 assert_input_compatibility\n        raise ValueError(\n\n    ValueError: Input 0 of layer sequential_1 is incompatible with the layer: expected axis -1 of input shape to have value 162 but received input with shape (None, 159)\n",
     "output_type": "error",
     "traceback": [
      "\u001b[0;31m---------------------------------------------------------------------------\u001b[0m",
      "\u001b[0;31mValueError\u001b[0m                                Traceback (most recent call last)",
      "\u001b[0;32m/tmp/ipykernel_12277/589008393.py\u001b[0m in \u001b[0;36m<module>\u001b[0;34m\u001b[0m\n\u001b[1;32m      1\u001b[0m \u001b[0mX_test_preproc\u001b[0m \u001b[0;34m=\u001b[0m \u001b[0mpreproc\u001b[0m\u001b[0;34m.\u001b[0m\u001b[0mtransform\u001b[0m\u001b[0;34m(\u001b[0m\u001b[0mX_test\u001b[0m\u001b[0;34m)\u001b[0m\u001b[0;34m\u001b[0m\u001b[0;34m\u001b[0m\u001b[0m\n\u001b[0;32m----> 2\u001b[0;31m \u001b[0mpredictions\u001b[0m \u001b[0;34m=\u001b[0m \u001b[0mmodel\u001b[0m\u001b[0;34m.\u001b[0m\u001b[0mpredict\u001b[0m\u001b[0;34m(\u001b[0m\u001b[0mX_test_preproc\u001b[0m\u001b[0;34m)\u001b[0m\u001b[0;34m\u001b[0m\u001b[0;34m\u001b[0m\u001b[0m\n\u001b[0m\u001b[1;32m      3\u001b[0m \u001b[0mpredictions\u001b[0m\u001b[0;34m\u001b[0m\u001b[0;34m\u001b[0m\u001b[0m\n",
      "\u001b[0;32m~/.pyenv/versions/3.8.6/envs/lewagon/lib/python3.8/site-packages/tensorflow/python/keras/engine/training.py\u001b[0m in \u001b[0;36mpredict\u001b[0;34m(self, x, batch_size, verbose, steps, callbacks, max_queue_size, workers, use_multiprocessing)\u001b[0m\n\u001b[1;32m   1725\u001b[0m           \u001b[0;32mfor\u001b[0m \u001b[0mstep\u001b[0m \u001b[0;32min\u001b[0m \u001b[0mdata_handler\u001b[0m\u001b[0;34m.\u001b[0m\u001b[0msteps\u001b[0m\u001b[0;34m(\u001b[0m\u001b[0;34m)\u001b[0m\u001b[0;34m:\u001b[0m\u001b[0;34m\u001b[0m\u001b[0;34m\u001b[0m\u001b[0m\n\u001b[1;32m   1726\u001b[0m             \u001b[0mcallbacks\u001b[0m\u001b[0;34m.\u001b[0m\u001b[0mon_predict_batch_begin\u001b[0m\u001b[0;34m(\u001b[0m\u001b[0mstep\u001b[0m\u001b[0;34m)\u001b[0m\u001b[0;34m\u001b[0m\u001b[0;34m\u001b[0m\u001b[0m\n\u001b[0;32m-> 1727\u001b[0;31m             \u001b[0mtmp_batch_outputs\u001b[0m \u001b[0;34m=\u001b[0m \u001b[0mself\u001b[0m\u001b[0;34m.\u001b[0m\u001b[0mpredict_function\u001b[0m\u001b[0;34m(\u001b[0m\u001b[0miterator\u001b[0m\u001b[0;34m)\u001b[0m\u001b[0;34m\u001b[0m\u001b[0;34m\u001b[0m\u001b[0m\n\u001b[0m\u001b[1;32m   1728\u001b[0m             \u001b[0;32mif\u001b[0m \u001b[0mdata_handler\u001b[0m\u001b[0;34m.\u001b[0m\u001b[0mshould_sync\u001b[0m\u001b[0;34m:\u001b[0m\u001b[0;34m\u001b[0m\u001b[0;34m\u001b[0m\u001b[0m\n\u001b[1;32m   1729\u001b[0m               \u001b[0mcontext\u001b[0m\u001b[0;34m.\u001b[0m\u001b[0masync_wait\u001b[0m\u001b[0;34m(\u001b[0m\u001b[0;34m)\u001b[0m\u001b[0;34m\u001b[0m\u001b[0;34m\u001b[0m\u001b[0m\n",
      "\u001b[0;32m~/.pyenv/versions/3.8.6/envs/lewagon/lib/python3.8/site-packages/tensorflow/python/eager/def_function.py\u001b[0m in \u001b[0;36m__call__\u001b[0;34m(self, *args, **kwds)\u001b[0m\n\u001b[1;32m    887\u001b[0m \u001b[0;34m\u001b[0m\u001b[0m\n\u001b[1;32m    888\u001b[0m       \u001b[0;32mwith\u001b[0m \u001b[0mOptionalXlaContext\u001b[0m\u001b[0;34m(\u001b[0m\u001b[0mself\u001b[0m\u001b[0;34m.\u001b[0m\u001b[0m_jit_compile\u001b[0m\u001b[0;34m)\u001b[0m\u001b[0;34m:\u001b[0m\u001b[0;34m\u001b[0m\u001b[0;34m\u001b[0m\u001b[0m\n\u001b[0;32m--> 889\u001b[0;31m         \u001b[0mresult\u001b[0m \u001b[0;34m=\u001b[0m \u001b[0mself\u001b[0m\u001b[0;34m.\u001b[0m\u001b[0m_call\u001b[0m\u001b[0;34m(\u001b[0m\u001b[0;34m*\u001b[0m\u001b[0margs\u001b[0m\u001b[0;34m,\u001b[0m \u001b[0;34m**\u001b[0m\u001b[0mkwds\u001b[0m\u001b[0;34m)\u001b[0m\u001b[0;34m\u001b[0m\u001b[0;34m\u001b[0m\u001b[0m\n\u001b[0m\u001b[1;32m    890\u001b[0m \u001b[0;34m\u001b[0m\u001b[0m\n\u001b[1;32m    891\u001b[0m       \u001b[0mnew_tracing_count\u001b[0m \u001b[0;34m=\u001b[0m \u001b[0mself\u001b[0m\u001b[0;34m.\u001b[0m\u001b[0mexperimental_get_tracing_count\u001b[0m\u001b[0;34m(\u001b[0m\u001b[0;34m)\u001b[0m\u001b[0;34m\u001b[0m\u001b[0;34m\u001b[0m\u001b[0m\n",
      "\u001b[0;32m~/.pyenv/versions/3.8.6/envs/lewagon/lib/python3.8/site-packages/tensorflow/python/eager/def_function.py\u001b[0m in \u001b[0;36m_call\u001b[0;34m(self, *args, **kwds)\u001b[0m\n\u001b[1;32m    922\u001b[0m       \u001b[0;31m# In this case we have not created variables on the first call. So we can\u001b[0m\u001b[0;34m\u001b[0m\u001b[0;34m\u001b[0m\u001b[0;34m\u001b[0m\u001b[0m\n\u001b[1;32m    923\u001b[0m       \u001b[0;31m# run the first trace but we should fail if variables are created.\u001b[0m\u001b[0;34m\u001b[0m\u001b[0;34m\u001b[0m\u001b[0;34m\u001b[0m\u001b[0m\n\u001b[0;32m--> 924\u001b[0;31m       \u001b[0mresults\u001b[0m \u001b[0;34m=\u001b[0m \u001b[0mself\u001b[0m\u001b[0;34m.\u001b[0m\u001b[0m_stateful_fn\u001b[0m\u001b[0;34m(\u001b[0m\u001b[0;34m*\u001b[0m\u001b[0margs\u001b[0m\u001b[0;34m,\u001b[0m \u001b[0;34m**\u001b[0m\u001b[0mkwds\u001b[0m\u001b[0;34m)\u001b[0m\u001b[0;34m\u001b[0m\u001b[0;34m\u001b[0m\u001b[0m\n\u001b[0m\u001b[1;32m    925\u001b[0m       \u001b[0;32mif\u001b[0m \u001b[0mself\u001b[0m\u001b[0;34m.\u001b[0m\u001b[0m_created_variables\u001b[0m\u001b[0;34m:\u001b[0m\u001b[0;34m\u001b[0m\u001b[0;34m\u001b[0m\u001b[0m\n\u001b[1;32m    926\u001b[0m         raise ValueError(\"Creating variables on a non-first call to a function\"\n",
      "\u001b[0;32m~/.pyenv/versions/3.8.6/envs/lewagon/lib/python3.8/site-packages/tensorflow/python/eager/function.py\u001b[0m in \u001b[0;36m__call__\u001b[0;34m(self, *args, **kwargs)\u001b[0m\n\u001b[1;32m   3020\u001b[0m     \u001b[0;32mwith\u001b[0m \u001b[0mself\u001b[0m\u001b[0;34m.\u001b[0m\u001b[0m_lock\u001b[0m\u001b[0;34m:\u001b[0m\u001b[0;34m\u001b[0m\u001b[0;34m\u001b[0m\u001b[0m\n\u001b[1;32m   3021\u001b[0m       (graph_function,\n\u001b[0;32m-> 3022\u001b[0;31m        filtered_flat_args) = self._maybe_define_function(args, kwargs)\n\u001b[0m\u001b[1;32m   3023\u001b[0m     return graph_function._call_flat(\n\u001b[1;32m   3024\u001b[0m         filtered_flat_args, captured_inputs=graph_function.captured_inputs)  # pylint: disable=protected-access\n",
      "\u001b[0;32m~/.pyenv/versions/3.8.6/envs/lewagon/lib/python3.8/site-packages/tensorflow/python/eager/function.py\u001b[0m in \u001b[0;36m_maybe_define_function\u001b[0;34m(self, args, kwargs)\u001b[0m\n\u001b[1;32m   3438\u001b[0m               \u001b[0mself\u001b[0m\u001b[0;34m.\u001b[0m\u001b[0minput_signature\u001b[0m \u001b[0;32mis\u001b[0m \u001b[0;32mNone\u001b[0m \u001b[0;32mand\u001b[0m\u001b[0;34m\u001b[0m\u001b[0;34m\u001b[0m\u001b[0m\n\u001b[1;32m   3439\u001b[0m               call_context_key in self._function_cache.missed):\n\u001b[0;32m-> 3440\u001b[0;31m             return self._define_function_with_shape_relaxation(\n\u001b[0m\u001b[1;32m   3441\u001b[0m                 args, kwargs, flat_args, filtered_flat_args, cache_key_context)\n\u001b[1;32m   3442\u001b[0m \u001b[0;34m\u001b[0m\u001b[0m\n",
      "\u001b[0;32m~/.pyenv/versions/3.8.6/envs/lewagon/lib/python3.8/site-packages/tensorflow/python/eager/function.py\u001b[0m in \u001b[0;36m_define_function_with_shape_relaxation\u001b[0;34m(self, args, kwargs, flat_args, filtered_flat_args, cache_key_context)\u001b[0m\n\u001b[1;32m   3360\u001b[0m           expand_composites=True)\n\u001b[1;32m   3361\u001b[0m \u001b[0;34m\u001b[0m\u001b[0m\n\u001b[0;32m-> 3362\u001b[0;31m     graph_function = self._create_graph_function(\n\u001b[0m\u001b[1;32m   3363\u001b[0m         args, kwargs, override_flat_arg_shapes=relaxed_arg_shapes)\n\u001b[1;32m   3364\u001b[0m     \u001b[0mself\u001b[0m\u001b[0;34m.\u001b[0m\u001b[0m_function_cache\u001b[0m\u001b[0;34m.\u001b[0m\u001b[0marg_relaxed\u001b[0m\u001b[0;34m[\u001b[0m\u001b[0mrank_only_cache_key\u001b[0m\u001b[0;34m]\u001b[0m \u001b[0;34m=\u001b[0m \u001b[0mgraph_function\u001b[0m\u001b[0;34m\u001b[0m\u001b[0;34m\u001b[0m\u001b[0m\n",
      "\u001b[0;32m~/.pyenv/versions/3.8.6/envs/lewagon/lib/python3.8/site-packages/tensorflow/python/eager/function.py\u001b[0m in \u001b[0;36m_create_graph_function\u001b[0;34m(self, args, kwargs, override_flat_arg_shapes)\u001b[0m\n\u001b[1;32m   3277\u001b[0m     \u001b[0marg_names\u001b[0m \u001b[0;34m=\u001b[0m \u001b[0mbase_arg_names\u001b[0m \u001b[0;34m+\u001b[0m \u001b[0mmissing_arg_names\u001b[0m\u001b[0;34m\u001b[0m\u001b[0;34m\u001b[0m\u001b[0m\n\u001b[1;32m   3278\u001b[0m     graph_function = ConcreteFunction(\n\u001b[0;32m-> 3279\u001b[0;31m         func_graph_module.func_graph_from_py_func(\n\u001b[0m\u001b[1;32m   3280\u001b[0m             \u001b[0mself\u001b[0m\u001b[0;34m.\u001b[0m\u001b[0m_name\u001b[0m\u001b[0;34m,\u001b[0m\u001b[0;34m\u001b[0m\u001b[0;34m\u001b[0m\u001b[0m\n\u001b[1;32m   3281\u001b[0m             \u001b[0mself\u001b[0m\u001b[0;34m.\u001b[0m\u001b[0m_python_function\u001b[0m\u001b[0;34m,\u001b[0m\u001b[0;34m\u001b[0m\u001b[0;34m\u001b[0m\u001b[0m\n",
      "\u001b[0;32m~/.pyenv/versions/3.8.6/envs/lewagon/lib/python3.8/site-packages/tensorflow/python/framework/func_graph.py\u001b[0m in \u001b[0;36mfunc_graph_from_py_func\u001b[0;34m(name, python_func, args, kwargs, signature, func_graph, autograph, autograph_options, add_control_dependencies, arg_names, op_return_value, collections, capture_by_value, override_flat_arg_shapes)\u001b[0m\n\u001b[1;32m    997\u001b[0m         \u001b[0m_\u001b[0m\u001b[0;34m,\u001b[0m \u001b[0moriginal_func\u001b[0m \u001b[0;34m=\u001b[0m \u001b[0mtf_decorator\u001b[0m\u001b[0;34m.\u001b[0m\u001b[0munwrap\u001b[0m\u001b[0;34m(\u001b[0m\u001b[0mpython_func\u001b[0m\u001b[0;34m)\u001b[0m\u001b[0;34m\u001b[0m\u001b[0;34m\u001b[0m\u001b[0m\n\u001b[1;32m    998\u001b[0m \u001b[0;34m\u001b[0m\u001b[0m\n\u001b[0;32m--> 999\u001b[0;31m       \u001b[0mfunc_outputs\u001b[0m \u001b[0;34m=\u001b[0m \u001b[0mpython_func\u001b[0m\u001b[0;34m(\u001b[0m\u001b[0;34m*\u001b[0m\u001b[0mfunc_args\u001b[0m\u001b[0;34m,\u001b[0m \u001b[0;34m**\u001b[0m\u001b[0mfunc_kwargs\u001b[0m\u001b[0;34m)\u001b[0m\u001b[0;34m\u001b[0m\u001b[0;34m\u001b[0m\u001b[0m\n\u001b[0m\u001b[1;32m   1000\u001b[0m \u001b[0;34m\u001b[0m\u001b[0m\n\u001b[1;32m   1001\u001b[0m       \u001b[0;31m# invariant: `func_outputs` contains only Tensors, CompositeTensors,\u001b[0m\u001b[0;34m\u001b[0m\u001b[0;34m\u001b[0m\u001b[0;34m\u001b[0m\u001b[0m\n",
      "\u001b[0;32m~/.pyenv/versions/3.8.6/envs/lewagon/lib/python3.8/site-packages/tensorflow/python/eager/def_function.py\u001b[0m in \u001b[0;36mwrapped_fn\u001b[0;34m(*args, **kwds)\u001b[0m\n\u001b[1;32m    670\u001b[0m         \u001b[0;31m# the function a weak reference to itself to avoid a reference cycle.\u001b[0m\u001b[0;34m\u001b[0m\u001b[0;34m\u001b[0m\u001b[0;34m\u001b[0m\u001b[0m\n\u001b[1;32m    671\u001b[0m         \u001b[0;32mwith\u001b[0m \u001b[0mOptionalXlaContext\u001b[0m\u001b[0;34m(\u001b[0m\u001b[0mcompile_with_xla\u001b[0m\u001b[0;34m)\u001b[0m\u001b[0;34m:\u001b[0m\u001b[0;34m\u001b[0m\u001b[0;34m\u001b[0m\u001b[0m\n\u001b[0;32m--> 672\u001b[0;31m           \u001b[0mout\u001b[0m \u001b[0;34m=\u001b[0m \u001b[0mweak_wrapped_fn\u001b[0m\u001b[0;34m(\u001b[0m\u001b[0;34m)\u001b[0m\u001b[0;34m.\u001b[0m\u001b[0m__wrapped__\u001b[0m\u001b[0;34m(\u001b[0m\u001b[0;34m*\u001b[0m\u001b[0margs\u001b[0m\u001b[0;34m,\u001b[0m \u001b[0;34m**\u001b[0m\u001b[0mkwds\u001b[0m\u001b[0;34m)\u001b[0m\u001b[0;34m\u001b[0m\u001b[0;34m\u001b[0m\u001b[0m\n\u001b[0m\u001b[1;32m    673\u001b[0m         \u001b[0;32mreturn\u001b[0m \u001b[0mout\u001b[0m\u001b[0;34m\u001b[0m\u001b[0;34m\u001b[0m\u001b[0m\n\u001b[1;32m    674\u001b[0m \u001b[0;34m\u001b[0m\u001b[0m\n",
      "\u001b[0;32m~/.pyenv/versions/3.8.6/envs/lewagon/lib/python3.8/site-packages/tensorflow/python/framework/func_graph.py\u001b[0m in \u001b[0;36mwrapper\u001b[0;34m(*args, **kwargs)\u001b[0m\n\u001b[1;32m    984\u001b[0m           \u001b[0;32mexcept\u001b[0m \u001b[0mException\u001b[0m \u001b[0;32mas\u001b[0m \u001b[0me\u001b[0m\u001b[0;34m:\u001b[0m  \u001b[0;31m# pylint:disable=broad-except\u001b[0m\u001b[0;34m\u001b[0m\u001b[0;34m\u001b[0m\u001b[0m\n\u001b[1;32m    985\u001b[0m             \u001b[0;32mif\u001b[0m \u001b[0mhasattr\u001b[0m\u001b[0;34m(\u001b[0m\u001b[0me\u001b[0m\u001b[0;34m,\u001b[0m \u001b[0;34m\"ag_error_metadata\"\u001b[0m\u001b[0;34m)\u001b[0m\u001b[0;34m:\u001b[0m\u001b[0;34m\u001b[0m\u001b[0;34m\u001b[0m\u001b[0m\n\u001b[0;32m--> 986\u001b[0;31m               \u001b[0;32mraise\u001b[0m \u001b[0me\u001b[0m\u001b[0;34m.\u001b[0m\u001b[0mag_error_metadata\u001b[0m\u001b[0;34m.\u001b[0m\u001b[0mto_exception\u001b[0m\u001b[0;34m(\u001b[0m\u001b[0me\u001b[0m\u001b[0;34m)\u001b[0m\u001b[0;34m\u001b[0m\u001b[0;34m\u001b[0m\u001b[0m\n\u001b[0m\u001b[1;32m    987\u001b[0m             \u001b[0;32melse\u001b[0m\u001b[0;34m:\u001b[0m\u001b[0;34m\u001b[0m\u001b[0;34m\u001b[0m\u001b[0m\n\u001b[1;32m    988\u001b[0m               \u001b[0;32mraise\u001b[0m\u001b[0;34m\u001b[0m\u001b[0;34m\u001b[0m\u001b[0m\n",
      "\u001b[0;31mValueError\u001b[0m: in user code:\n\n    /home/chidi/.pyenv/versions/3.8.6/envs/lewagon/lib/python3.8/site-packages/tensorflow/python/keras/engine/training.py:1569 predict_function  *\n        return step_function(self, iterator)\n    /home/chidi/.pyenv/versions/3.8.6/envs/lewagon/lib/python3.8/site-packages/tensorflow/python/keras/engine/training.py:1559 step_function  **\n        outputs = model.distribute_strategy.run(run_step, args=(data,))\n    /home/chidi/.pyenv/versions/3.8.6/envs/lewagon/lib/python3.8/site-packages/tensorflow/python/distribute/distribute_lib.py:1285 run\n        return self._extended.call_for_each_replica(fn, args=args, kwargs=kwargs)\n    /home/chidi/.pyenv/versions/3.8.6/envs/lewagon/lib/python3.8/site-packages/tensorflow/python/distribute/distribute_lib.py:2833 call_for_each_replica\n        return self._call_for_each_replica(fn, args, kwargs)\n    /home/chidi/.pyenv/versions/3.8.6/envs/lewagon/lib/python3.8/site-packages/tensorflow/python/distribute/distribute_lib.py:3608 _call_for_each_replica\n        return fn(*args, **kwargs)\n    /home/chidi/.pyenv/versions/3.8.6/envs/lewagon/lib/python3.8/site-packages/tensorflow/python/keras/engine/training.py:1552 run_step  **\n        outputs = model.predict_step(data)\n    /home/chidi/.pyenv/versions/3.8.6/envs/lewagon/lib/python3.8/site-packages/tensorflow/python/keras/engine/training.py:1525 predict_step\n        return self(x, training=False)\n    /home/chidi/.pyenv/versions/3.8.6/envs/lewagon/lib/python3.8/site-packages/tensorflow/python/keras/engine/base_layer.py:1013 __call__\n        input_spec.assert_input_compatibility(self.input_spec, inputs, self.name)\n    /home/chidi/.pyenv/versions/3.8.6/envs/lewagon/lib/python3.8/site-packages/tensorflow/python/keras/engine/input_spec.py:251 assert_input_compatibility\n        raise ValueError(\n\n    ValueError: Input 0 of layer sequential_1 is incompatible with the layer: expected axis -1 of input shape to have value 162 but received input with shape (None, 159)\n"
     ]
    }
   ],
   "source": [
    "X_test_preproc = preproc.transform(X_test)\n",
    "predictions = model.predict(X_test_preproc)\n",
    "predictions"
   ]
  },
  {
   "cell_type": "code",
   "execution_count": 95,
   "metadata": {
    "collapsed": true
   },
   "outputs": [
    {
     "ename": "IndexError",
     "evalue": "too many indices for array",
     "output_type": "error",
     "traceback": [
      "\u001b[0;31m---------------------------------------------------------------------------\u001b[0m",
      "\u001b[0;31mIndexError\u001b[0m                                Traceback (most recent call last)",
      "\u001b[0;32m/tmp/ipykernel_12277/747846326.py\u001b[0m in \u001b[0;36m<module>\u001b[0;34m\u001b[0m\n\u001b[0;32m----> 1\u001b[0;31m \u001b[0mresults\u001b[0m \u001b[0;34m=\u001b[0m \u001b[0mpd\u001b[0m\u001b[0;34m.\u001b[0m\u001b[0mconcat\u001b[0m\u001b[0;34m(\u001b[0m\u001b[0;34m[\u001b[0m\u001b[0mX_test_ids\u001b[0m\u001b[0;34m,\u001b[0m \u001b[0mpd\u001b[0m\u001b[0;34m.\u001b[0m\u001b[0mSeries\u001b[0m\u001b[0;34m(\u001b[0m\u001b[0mpredictions\u001b[0m\u001b[0;34m[\u001b[0m\u001b[0;34m:\u001b[0m\u001b[0;34m,\u001b[0m\u001b[0;36m0\u001b[0m\u001b[0;34m]\u001b[0m\u001b[0;34m,\u001b[0m \u001b[0mname\u001b[0m\u001b[0;34m=\u001b[0m\u001b[0;34m\"SalePrice\"\u001b[0m\u001b[0;34m)\u001b[0m\u001b[0;34m]\u001b[0m\u001b[0;34m,\u001b[0m \u001b[0maxis\u001b[0m\u001b[0;34m=\u001b[0m\u001b[0;36m1\u001b[0m\u001b[0;34m)\u001b[0m\u001b[0;34m\u001b[0m\u001b[0;34m\u001b[0m\u001b[0m\n\u001b[0m\u001b[1;32m      2\u001b[0m \u001b[0mresults\u001b[0m\u001b[0;34m\u001b[0m\u001b[0;34m\u001b[0m\u001b[0m\n",
      "\u001b[0;31mIndexError\u001b[0m: too many indices for array"
     ]
    }
   ],
   "source": [
    "results = pd.concat([X_test_ids, pd.Series(predictions[:,0], name=\"SalePrice\")], axis=1)\n",
    "results"
   ]
  },
  {
   "cell_type": "code",
   "execution_count": null,
   "metadata": {},
   "outputs": [],
   "source": [
    "# Export to Kaggle format submission and submit it online!\n",
    "results.to_csv(\"submission_final.csv\", header=True, index=False)"
   ]
  }
 ],
 "metadata": {
  "kernelspec": {
   "display_name": "Python 3 (ipykernel)",
   "language": "python",
   "name": "python3"
  },
  "language_info": {
   "codemirror_mode": {
    "name": "ipython",
    "version": 3
   },
   "file_extension": ".py",
   "mimetype": "text/x-python",
   "name": "python",
   "nbconvert_exporter": "python",
   "pygments_lexer": "ipython3",
   "version": "3.8.6"
  },
  "toc": {
   "base_numbering": 1,
   "nav_menu": {},
   "number_sections": true,
   "sideBar": true,
   "skip_h1_title": false,
   "title_cell": "Table of Contents",
   "title_sidebar": "Contents",
   "toc_cell": false,
   "toc_position": {
    "height": "calc(100% - 180px)",
    "left": "10px",
    "top": "150px",
    "width": "165px"
   },
   "toc_section_display": true,
   "toc_window_display": false
  },
  "varInspector": {
   "cols": {
    "lenName": 16,
    "lenType": 16,
    "lenVar": 40
   },
   "kernels_config": {
    "python": {
     "delete_cmd_postfix": "",
     "delete_cmd_prefix": "del ",
     "library": "var_list.py",
     "varRefreshCmd": "print(var_dic_list())"
    },
    "r": {
     "delete_cmd_postfix": ") ",
     "delete_cmd_prefix": "rm(",
     "library": "var_list.r",
     "varRefreshCmd": "cat(var_dic_list()) "
    }
   },
   "types_to_exclude": [
    "module",
    "function",
    "builtin_function_or_method",
    "instance",
    "_Feature"
   ],
   "window_display": false
  }
 },
 "nbformat": 4,
 "nbformat_minor": 4
}
